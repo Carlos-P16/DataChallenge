{
 "cells": [
  {
   "cell_type": "markdown",
   "id": "9eca6be9-3ab2-4756-80a0-4880568d1cd7",
   "metadata": {},
   "source": [
    "# GPTChallenge: diagnóstico a partir de HCE"
   ]
  },
  {
   "cell_type": "markdown",
   "id": "de358c45-755b-4fad-9d68-72e591de8b4b",
   "metadata": {},
   "source": [
    "Vamos a trabajar con el corpus CodEsp (textos de historial clínico etiquetados con sus códigos CIE-10 Diagnóstico)"
   ]
  },
  {
   "cell_type": "code",
   "execution_count": 1,
   "id": "e2d4da20-1cea-4309-941f-c2440b01801a",
   "metadata": {},
   "outputs": [],
   "source": [
    "import pandas as pd\n",
    "import os, re\n",
    "import numpy as np\n",
    "\n",
    "pd.options.display.max_colwidth = None"
   ]
  },
  {
   "cell_type": "code",
   "execution_count": 2,
   "id": "566a8909-46d3-4ccd-8a67-96d819f60e09",
   "metadata": {},
   "outputs": [
    {
     "name": "stdout",
     "output_type": "stream",
     "text": [
      "<class 'pandas.core.frame.DataFrame'>\n",
      "RangeIndex: 8316 entries, 0 to 8315\n",
      "Data columns (total 2 columns):\n",
      " #   Column   Non-Null Count  Dtype \n",
      "---  ------   --------------  ----- \n",
      " 0   archivo  8316 non-null   object\n",
      " 1   codigo   8316 non-null   object\n",
      "dtypes: object(2)\n",
      "memory usage: 130.1+ KB\n"
     ]
    }
   ],
   "source": [
    "#los códigos están en un TSV con un código por línea\n",
    "train_diag = pd.read_csv(\"data/train/train.tsv\", sep=\"\\t\", header=None, names=[\"archivo\", \"codigo\"])\n",
    "train_diag.info()"
   ]
  },
  {
   "cell_type": "code",
   "execution_count": 3,
   "id": "b15d7057-8afb-4005-8601-79ce2fe6e71a",
   "metadata": {
    "scrolled": true
   },
   "outputs": [
    {
     "data": {
      "text/plain": [
       "codigo\n",
       "r52        163\n",
       "r69        150\n",
       "r50.9      142\n",
       "i10        116\n",
       "r59.9       95\n",
       "          ... \n",
       "d37.030      1\n",
       "c79.71       1\n",
       "g25.0        1\n",
       "l76.3        1\n",
       "n81.2        1\n",
       "Name: count, Length: 2194, dtype: int64"
      ]
     },
     "execution_count": 3,
     "metadata": {},
     "output_type": "execute_result"
    }
   ],
   "source": [
    "train_diag['codigo'].value_counts()"
   ]
  },
  {
   "cell_type": "code",
   "execution_count": 5,
   "id": "3cbd33aa-1d54-419f-a1f1-728bb03b79d7",
   "metadata": {},
   "outputs": [
    {
     "name": "stdout",
     "output_type": "stream",
     "text": [
      "cat\n",
      "r52    163\n",
      "r10    163\n",
      "r59    160\n",
      "r69    150\n",
      "r50    144\n",
      "      ... \n",
      "c31      1\n",
      "d62      1\n",
      "s53      1\n",
      "s34      1\n",
      "n81      1\n",
      "Name: count, Length: 918, dtype: int64\n"
     ]
    },
    {
     "data": {
      "text/plain": [
       "918"
      ]
     },
     "execution_count": 5,
     "metadata": {},
     "output_type": "execute_result"
    }
   ],
   "source": [
    "#cogemos la categoría superior de cada código y las agrupamos\n",
    "train_diag['cat'] = train_diag['codigo'].str.extract(r'(\\w\\d\\d)')\n",
    "print(train_diag['cat'].value_counts())\n",
    "train_diag['cat'].nunique()"
   ]
  },
  {
   "cell_type": "code",
   "execution_count": 6,
   "id": "8eaf143a-b460-410e-8af2-a268181153d3",
   "metadata": {},
   "outputs": [
    {
     "name": "stdout",
     "output_type": "stream",
     "text": [
      "['r52', 'r10', 'r59', 'r69', 'r50', 'r60', 'i10', 'r11', 'n28', 'd49']\n"
     ]
    }
   ],
   "source": [
    "categories=train_diag['cat'].value_counts()[:10]\n",
    "top_categorias = categories.index.to_list()\n",
    "print(top_categorias)"
   ]
  },
  {
   "cell_type": "code",
   "execution_count": 7,
   "id": "25e458c1-01ec-4c48-8c3e-45f37e4553c8",
   "metadata": {},
   "outputs": [],
   "source": [
    "#seleccionamos sólo las etiquetas de este subconjunto\n",
    "train_diag = train_diag[np.isin(train_diag['cat'], top_categorias)]"
   ]
  },
  {
   "cell_type": "code",
   "execution_count": 8,
   "id": "c1befd52-7347-4e6d-8760-3a08b5fd8b02",
   "metadata": {},
   "outputs": [
    {
     "name": "stdout",
     "output_type": "stream",
     "text": [
      "<class 'pandas.core.frame.DataFrame'>\n",
      "Index: 562 entries, S0004-06142005000700014-1 to S2340-98942015000100005-1\n",
      "Data columns (total 2 columns):\n",
      " #   Column   Non-Null Count  Dtype \n",
      "---  ------   --------------  ----- \n",
      " 0   texto    562 non-null    object\n",
      " 1   codigos  562 non-null    object\n",
      "dtypes: object(2)\n",
      "memory usage: 13.2+ KB\n"
     ]
    }
   ],
   "source": [
    "#cargamos los dos conjuntos de train\n",
    "path = 'data/train/text_files/'\n",
    "\n",
    "corpus = []\n",
    "for f in [f for f in os.listdir(path) if f.endswith('.txt')]:\n",
    "    with open(os.path.join(path, f), encoding=\"utf8\") as text:\n",
    "        texto = text.read()\n",
    "    #buscamos códigos\n",
    "    file = f[:-4]\n",
    "    codigos = train_diag.query('archivo==@file')['cat'].to_list()\n",
    "    codigos = list(set(codigos))\n",
    "    if codigos:\n",
    "        corpus.append({\n",
    "            'archivo': file,\n",
    "            'texto': texto,\n",
    "            'codigos': codigos\n",
    "        })\n",
    "    \n",
    "df_train = pd.DataFrame(corpus).set_index('archivo')\n",
    "df_train.info()"
   ]
  },
  {
   "cell_type": "code",
   "execution_count": 9,
   "id": "dcf73334-972c-4746-829f-0891641a1b18",
   "metadata": {},
   "outputs": [
    {
     "data": {
      "text/html": [
       "<div>\n",
       "<style scoped>\n",
       "    .dataframe tbody tr th:only-of-type {\n",
       "        vertical-align: middle;\n",
       "    }\n",
       "\n",
       "    .dataframe tbody tr th {\n",
       "        vertical-align: top;\n",
       "    }\n",
       "\n",
       "    .dataframe thead th {\n",
       "        text-align: right;\n",
       "    }\n",
       "</style>\n",
       "<table border=\"1\" class=\"dataframe\">\n",
       "  <thead>\n",
       "    <tr style=\"text-align: right;\">\n",
       "      <th></th>\n",
       "      <th>texto</th>\n",
       "      <th>codigos</th>\n",
       "    </tr>\n",
       "    <tr>\n",
       "      <th>archivo</th>\n",
       "      <th></th>\n",
       "      <th></th>\n",
       "    </tr>\n",
       "  </thead>\n",
       "  <tbody>\n",
       "    <tr>\n",
       "      <th>S1698-69462006000300015-1</th>\n",
       "      <td>Paciente mujer, 44 años, derivado a nuestra unidad por aumento de volumen en la región cigomática y limitación progresiva de la apertura bucal de 10 meses de evolución. La historia médica no era relevante. El examen físico extraoral muestra asimetría facial por aumento de volumen en la mejilla izquierda, de limites difusos, consistencia ósea, indoloro, con piel de aspecto normal. La apertura bucal era 30 mm. La articulación temporomandibular (ATM) era normal a la palpación, sin ruidos o dolor en apertura. En la ortopantomografía observamos una apófisis coronoides izquierda de mayor tamaño. La hipótesis diagnóstica fue tumor coronoídeo.\\n\\nSe realizó una incisión por sobre el borde anterior de la rama mandibular, desinsertando todas las inserciones del músculo temporal. Alrededor del aumento de volumen se encontró una pseudocápsula fibrosa, que fue liberada. Se efectuó la coronoidectomía. La apertura bucal se recuperó inmediatamente hasta 43 mm. El postoperatorio se desarrolló sin complicaciones, y la paciente fue dada de alta a las 48 horas.\\nEl estudio histopatológico informó la presencia fibras, hueso de neoformación y tejido cartilaginoso hialino. El diagnóstico fue osteocondroma. Los controles posteriores se desarrollaron sin problemas. El alta definitiva fue dada a los 10 meses, con remodelación casi completa de la deformidad de la mejilla.\\n\\n</td>\n",
       "      <td>[d49, r52]</td>\n",
       "    </tr>\n",
       "    <tr>\n",
       "      <th>S0211-69952014000200012-2</th>\n",
       "      <td>Una mujer de 50 años, de raza caucásica, con IRC secundaria a poliquistosis renal, inició hemodiálisis en 1987, recibiendo su primer trasplante renal de donante cadáver en 1988. Como complicaciones del trasplante presentó un rechazo agudo tratado con choques de esteroides, globulina antitimocítica (ATG) y anticuerpo monoclonal anti CD3 (OKT3), retornando a hemodiálisis en junio de 2009 tras pérdida del injerto renal por nefropatía crónica. Se diagnosticó una hepatitis «no-A, no-B» en 1987 en relación con politransfusión de hemoderivados, confirmándose posteriormente RNA-VHC positivo (genotipo 1a). En noviembre de 2009, cinco meses después del retorno a diálisis, se inició tratamiento con IFN pegilado α2a, 135 μg semanales, y RBV 200 mg cada 48 horas, con soporte de eritropoyetina oscilante durante todo el tratamiento. En febrero de 2010, comenzó con fiebre y hematuria, por lo que se disminuyó la dosis del tratamiento antiviral y se realizó embolización del injerto renal ante la sospecha de rechazo agudo del injerto no funcionante. Se reanudó el tratamiento con IFN y RBV a la dosis inicial, que hubo de ser suspendido en la semana 40 por la aparición de un eritema exudativo multiforme sin respuesta a tratamiento corticoideo. La paciente presentó una respuesta viral rápida con carga indetectable en la cuarta semana de tratamiento y RVS posterior. En julio de 2011, recibió su segundo trasplante renal de donante cadáver. Actualmente mantiene función renal normal y carga viral negativa.\\n\\n</td>\n",
       "      <td>[r50, n28]</td>\n",
       "    </tr>\n",
       "    <tr>\n",
       "      <th>S0211-57352007000200017-1</th>\n",
       "      <td>T. I. es una mujer de 38 años que llegó a nuestra unidad, derivada desde la unidad de quemados de otro centro hospitalario de Barcelona, por un cuadro psicótico. La paciente sufrió quemaduras tras un incendio en su domicilio que precisaron un mes de ingreso en dicha unidad.\\nLa paciente no refería antecedentes personales ni familiares de enfermedad mental. Asimismo negó consumo de tóxicos. Como antecedentes somáticos únicamente destacaban: parto por cesárea hace cinco meses, infección de la herida quirúrgica; y quemaduras de segundo y tercer grado por el mencionado incendio.\\nEn la psicobiografía de la paciente destacaba que era natural de Casablanca (Marruecos) y la sexta de nueve hermanos (5 varones y 4 mujeres). Estuvo escolarizada hasta los veinte años con buen rendimiento (colegio y liceo, más 2 años de formación complementaria). El ajuste socio-laboral en su país era correcto (diversos empleos temporales como azafata, dependienta, monitora de deporte, etc.). Se casó en su país hace un año y medio por acuerdo familiar (antes nunca había tenido pareja ni amigos de sexo masculino) y un mes después se trasladó a vivir a la provincia de Girona (España), donde residía con su marido, su cuñado y la mujer de éste. Desde su matrimonio la paciente se dedicaba a las tareas del hogar. Su primer hijo (un varón) nació hace cinco meses en un parto complicado.\\nHace dos meses se produjo un incendio en su domicilio en circunstancias no aclaradas que provocó su entrada en la unidad de quemados de un centro hospitalario. Al ingreso en nuestra Unidad la paciente se encontraba vigil, consciente y desorientada témporo-espacialmente. El contacto con la paciente era psicótico; su discurso era parco, en voz baja y con tono de voz monótono. Refería un delirio de perjuicio y paranoide que no nos especificó. Se mostraba desconfiada. Refería hipotimia, distimia de miedo, así como alucinaciones auditivas en forma de \"ruidos\". En la exploración se evidenció una deficiente memoria de fijación.\\nEn las sucesivas entrevistas con la paciente (varias de ellas con ayuda de una traductora) ésta refirió que hacia los dos meses posteriores al parto inició un trastorno del estado de ánimo que oscilaba entre tristeza o llanto y ánimo elevado. Progresivamente apareció un delirio de perjuicio hacia ella y su hijo, así como alucinaciones auditivas en forma de voces que la criticaban y daban órdenes. En relación a dicha clínica psicótica la paciente explicaba angustia y miedo intenso a sufrir daño (ella o su hijo) así como su aislamiento voluntario como medida de protección. Al explorar las horas previas al incendio, durante el mismo y en su estancia en la unidad de quemados, la paciente explicó fluctuación del nivel de conciencia y pérdida de memoria, por lo que no se pudo descartar la sospecha de un suicidio ampliado en el contexto del cuadro alucinatorio-delirante.\\nDurante su estancia en la unidad de agudos se instauró tratamiento farmacológico con Haloperidol hasta 11.5 mg/d (con reducción progresiva de la dosis), Amisulpride (hasta 800 mg/d) y Clonacepam. A las pocas horas del ingreso ya se mostraba vigil, consciente y orientada. Los primeros días la paciente aún permanecía temerosa y suspicaz, sin salir apenas de su habitación. Lentamente fue mejorando el contacto, el afecto y los síntomas psicóticos; de forma progresiva desaparecieron las alucinaciones y fue tomando distancia del contenido delirante hasta lograr criticarlo. Fue adaptándose poco a poco a la dinámica de la unidad. Se consideró clave para el tratamiento y recuperación de la paciente facilitar el contacto temprano y continuado con su hijo y los permisos al hogar familiar; de hecho, el contacto materno-filial precoz fue un importante factor que aceleró la recuperación de la paciente. Los permisos transcurrieron sin incidencias y la familia colaboró adecuadamente en todo momento.\\nAl alta la paciente se mostraba eutímica, tranquila, libre de psicopatología psicótica positiva y era capaz de hacerse cargo de su hijo (aunque persistía el cuadro amnésico secundario al cuadro confusional). La paciente y su familia plantearon la posibilidad de realizar su convalecencia en Marruecos, lo que consideramos beneficioso ya que sería atendida por profesionales con su mismo idioma y cultura y contaría con el apoyo de su familia de origen; pero se destacó la importancia de desplazarse con su hijo para que el traslado fuese realmente terapéutico.\\n\\n</td>\n",
       "      <td>[r69]</td>\n",
       "    </tr>\n",
       "  </tbody>\n",
       "</table>\n",
       "</div>"
      ],
      "text/plain": [
       "                                                                                                                                                                                                                                                                                                                                                                                                                                                                                                                                                                                                                                                                                                                                                                                                                                                                                                                                                                                                                                                                                                                                                                                                                                                                                                                                                                                                                                                                                                                                                                                                                                                                                                                                                                                                                                                                                                                                                                                                                                                                                                                                                                                                                                                                                                                                                                                                                                                                                                                                                                                                                                                                                                                                                                                                                                                                                                                                                                                                                                                                                                                                                                                                                                                                                                                                                                                                                                                                                                                                                                                                                                                                                                                                                                                                                                                                                                                                                                                                                                                                                                                                                                                                                                                                                                                                                                                                                                                                                                                                                                                                                                                    texto  \\\n",
       "archivo                                                                                                                                                                                                                                                                                                                                                                                                                                                                                                                                                                                                                                                                                                                                                                                                                                                                                                                                                                                                                                                                                                                                                                                                                                                                                                                                                                                                                                                                                                                                                                                                                                                                                                                                                                                                                                                                                                                                                                                                                                                                                                                                                                                                                                                                                                                                                                                                                                                                                                                                                                                                                                                                                                                                                                                                                                                                                                                                                                                                                                                                                                                                                                                                                                                                                                                                                                                                                                                                                                                                                                                                                                                                                                                                                                                                                                                                                                                                                                                                                                                                                                                                                                                                                                                                                                                                                                                                                                                                                                                                                                                                                                                     \n",
       "S1698-69462006000300015-1                                                                                                                                                                                                                                                                                                                                                                                                                                                                                                                                                                                                                                                                                                                                                                                                                                                                                                                                                                                                                                                                                                                                                                                                                                                                                                                                                                                                                                                                                                                                                                                                                                                                                                                                                                                                                                                                                                                                                                                                                                                                                                                                                                                                                                                                                                                                                                                                                                                                                                                                                                                                                                                                                                                                                                                                                                                                                                                                                                                                                                                                                                                                                                                                     Paciente mujer, 44 años, derivado a nuestra unidad por aumento de volumen en la región cigomática y limitación progresiva de la apertura bucal de 10 meses de evolución. La historia médica no era relevante. El examen físico extraoral muestra asimetría facial por aumento de volumen en la mejilla izquierda, de limites difusos, consistencia ósea, indoloro, con piel de aspecto normal. La apertura bucal era 30 mm. La articulación temporomandibular (ATM) era normal a la palpación, sin ruidos o dolor en apertura. En la ortopantomografía observamos una apófisis coronoides izquierda de mayor tamaño. La hipótesis diagnóstica fue tumor coronoídeo.\\n\\nSe realizó una incisión por sobre el borde anterior de la rama mandibular, desinsertando todas las inserciones del músculo temporal. Alrededor del aumento de volumen se encontró una pseudocápsula fibrosa, que fue liberada. Se efectuó la coronoidectomía. La apertura bucal se recuperó inmediatamente hasta 43 mm. El postoperatorio se desarrolló sin complicaciones, y la paciente fue dada de alta a las 48 horas.\\nEl estudio histopatológico informó la presencia fibras, hueso de neoformación y tejido cartilaginoso hialino. El diagnóstico fue osteocondroma. Los controles posteriores se desarrollaron sin problemas. El alta definitiva fue dada a los 10 meses, con remodelación casi completa de la deformidad de la mejilla.\\n\\n   \n",
       "S0211-69952014000200012-2                                                                                                                                                                                                                                                                                                                                                                                                                                                                                                                                                                                                                                                                                                                                                                                                                                                                                                                                                                                                                                                                                                                                                                                                                                                                                                                                                                                                                                                                                                                                                                                                                                                                                                                                                                                                                                                                                                                                                                                                                                                                                                                                                                                                                                                                                                                                                                                                                                                                                                                                                                                                                                                                                                                                                                                                                                                                                                                                                                                                                                                           Una mujer de 50 años, de raza caucásica, con IRC secundaria a poliquistosis renal, inició hemodiálisis en 1987, recibiendo su primer trasplante renal de donante cadáver en 1988. Como complicaciones del trasplante presentó un rechazo agudo tratado con choques de esteroides, globulina antitimocítica (ATG) y anticuerpo monoclonal anti CD3 (OKT3), retornando a hemodiálisis en junio de 2009 tras pérdida del injerto renal por nefropatía crónica. Se diagnosticó una hepatitis «no-A, no-B» en 1987 en relación con politransfusión de hemoderivados, confirmándose posteriormente RNA-VHC positivo (genotipo 1a). En noviembre de 2009, cinco meses después del retorno a diálisis, se inició tratamiento con IFN pegilado α2a, 135 μg semanales, y RBV 200 mg cada 48 horas, con soporte de eritropoyetina oscilante durante todo el tratamiento. En febrero de 2010, comenzó con fiebre y hematuria, por lo que se disminuyó la dosis del tratamiento antiviral y se realizó embolización del injerto renal ante la sospecha de rechazo agudo del injerto no funcionante. Se reanudó el tratamiento con IFN y RBV a la dosis inicial, que hubo de ser suspendido en la semana 40 por la aparición de un eritema exudativo multiforme sin respuesta a tratamiento corticoideo. La paciente presentó una respuesta viral rápida con carga indetectable en la cuarta semana de tratamiento y RVS posterior. En julio de 2011, recibió su segundo trasplante renal de donante cadáver. Actualmente mantiene función renal normal y carga viral negativa.\\n\\n   \n",
       "S0211-57352007000200017-1  T. I. es una mujer de 38 años que llegó a nuestra unidad, derivada desde la unidad de quemados de otro centro hospitalario de Barcelona, por un cuadro psicótico. La paciente sufrió quemaduras tras un incendio en su domicilio que precisaron un mes de ingreso en dicha unidad.\\nLa paciente no refería antecedentes personales ni familiares de enfermedad mental. Asimismo negó consumo de tóxicos. Como antecedentes somáticos únicamente destacaban: parto por cesárea hace cinco meses, infección de la herida quirúrgica; y quemaduras de segundo y tercer grado por el mencionado incendio.\\nEn la psicobiografía de la paciente destacaba que era natural de Casablanca (Marruecos) y la sexta de nueve hermanos (5 varones y 4 mujeres). Estuvo escolarizada hasta los veinte años con buen rendimiento (colegio y liceo, más 2 años de formación complementaria). El ajuste socio-laboral en su país era correcto (diversos empleos temporales como azafata, dependienta, monitora de deporte, etc.). Se casó en su país hace un año y medio por acuerdo familiar (antes nunca había tenido pareja ni amigos de sexo masculino) y un mes después se trasladó a vivir a la provincia de Girona (España), donde residía con su marido, su cuñado y la mujer de éste. Desde su matrimonio la paciente se dedicaba a las tareas del hogar. Su primer hijo (un varón) nació hace cinco meses en un parto complicado.\\nHace dos meses se produjo un incendio en su domicilio en circunstancias no aclaradas que provocó su entrada en la unidad de quemados de un centro hospitalario. Al ingreso en nuestra Unidad la paciente se encontraba vigil, consciente y desorientada témporo-espacialmente. El contacto con la paciente era psicótico; su discurso era parco, en voz baja y con tono de voz monótono. Refería un delirio de perjuicio y paranoide que no nos especificó. Se mostraba desconfiada. Refería hipotimia, distimia de miedo, así como alucinaciones auditivas en forma de \"ruidos\". En la exploración se evidenció una deficiente memoria de fijación.\\nEn las sucesivas entrevistas con la paciente (varias de ellas con ayuda de una traductora) ésta refirió que hacia los dos meses posteriores al parto inició un trastorno del estado de ánimo que oscilaba entre tristeza o llanto y ánimo elevado. Progresivamente apareció un delirio de perjuicio hacia ella y su hijo, así como alucinaciones auditivas en forma de voces que la criticaban y daban órdenes. En relación a dicha clínica psicótica la paciente explicaba angustia y miedo intenso a sufrir daño (ella o su hijo) así como su aislamiento voluntario como medida de protección. Al explorar las horas previas al incendio, durante el mismo y en su estancia en la unidad de quemados, la paciente explicó fluctuación del nivel de conciencia y pérdida de memoria, por lo que no se pudo descartar la sospecha de un suicidio ampliado en el contexto del cuadro alucinatorio-delirante.\\nDurante su estancia en la unidad de agudos se instauró tratamiento farmacológico con Haloperidol hasta 11.5 mg/d (con reducción progresiva de la dosis), Amisulpride (hasta 800 mg/d) y Clonacepam. A las pocas horas del ingreso ya se mostraba vigil, consciente y orientada. Los primeros días la paciente aún permanecía temerosa y suspicaz, sin salir apenas de su habitación. Lentamente fue mejorando el contacto, el afecto y los síntomas psicóticos; de forma progresiva desaparecieron las alucinaciones y fue tomando distancia del contenido delirante hasta lograr criticarlo. Fue adaptándose poco a poco a la dinámica de la unidad. Se consideró clave para el tratamiento y recuperación de la paciente facilitar el contacto temprano y continuado con su hijo y los permisos al hogar familiar; de hecho, el contacto materno-filial precoz fue un importante factor que aceleró la recuperación de la paciente. Los permisos transcurrieron sin incidencias y la familia colaboró adecuadamente en todo momento.\\nAl alta la paciente se mostraba eutímica, tranquila, libre de psicopatología psicótica positiva y era capaz de hacerse cargo de su hijo (aunque persistía el cuadro amnésico secundario al cuadro confusional). La paciente y su familia plantearon la posibilidad de realizar su convalecencia en Marruecos, lo que consideramos beneficioso ya que sería atendida por profesionales con su mismo idioma y cultura y contaría con el apoyo de su familia de origen; pero se destacó la importancia de desplazarse con su hijo para que el traslado fuese realmente terapéutico.\\n\\n   \n",
       "\n",
       "                              codigos  \n",
       "archivo                                \n",
       "S1698-69462006000300015-1  [d49, r52]  \n",
       "S0211-69952014000200012-2  [r50, n28]  \n",
       "S0211-57352007000200017-1       [r69]  "
      ]
     },
     "execution_count": 9,
     "metadata": {},
     "output_type": "execute_result"
    }
   ],
   "source": [
    "df_train.sample(3)"
   ]
  },
  {
   "cell_type": "markdown",
   "id": "dfc77de8-8256-4653-9de0-690dacc58095",
   "metadata": {},
   "source": [
    "## Cargar los textos del conjunto de test"
   ]
  },
  {
   "cell_type": "code",
   "execution_count": 29,
   "id": "09135955",
   "metadata": {},
   "outputs": [
    {
     "name": "stdout",
     "output_type": "stream",
     "text": [
      "<class 'pandas.core.frame.DataFrame'>\n",
      "RangeIndex: 192 entries, 0 to 191\n",
      "Data columns (total 1 columns):\n",
      " #   Column   Non-Null Count  Dtype \n",
      "---  ------   --------------  ----- \n",
      " 0   archivo  192 non-null    object\n",
      "dtypes: object(1)\n",
      "memory usage: 1.6+ KB\n"
     ]
    }
   ],
   "source": [
    "#los códigos están en un TSV con un código por línea\n",
    "test_diag = pd.read_csv(\"data/test/test.tsv\", sep=\"\\t\", header=None, names=['archivo'])\n",
    "test_diag.info()"
   ]
  },
  {
   "cell_type": "code",
   "execution_count": 32,
   "id": "977463ca",
   "metadata": {},
   "outputs": [],
   "source": [
    "path = 'data/test/text_files/'\n",
    "\n",
    "# Lista para almacenar los textos y sus códigos correspondientes\n",
    "corpus = []\n",
    "\n",
    "# Itera sobre los archivos de texto en el directorio\n",
    "for f in [f for f in os.listdir(path) if f.endswith('.txt')]:\n",
    "    with open(os.path.join(path, f), encoding=\"utf8\") as text:\n",
    "        texto = text.read()\n",
    "    \n",
    "    # Extrae el código del nombre del archivo\n",
    "    file = f[:-4]\n",
    "    \n",
    "    # Agrega el texto al corpus\n",
    "    corpus.append({\n",
    "        'archivo': file,\n",
    "        'texto': texto\n",
    "    })\n",
    "\n",
    "# Crea un DataFrame a partir del corpus\n",
    "df_test = pd.DataFrame(corpus).set_index('archivo')"
   ]
  },
  {
   "cell_type": "code",
   "execution_count": 33,
   "id": "22a7def9",
   "metadata": {},
   "outputs": [
    {
     "data": {
      "text/html": [
       "<div>\n",
       "<style scoped>\n",
       "    .dataframe tbody tr th:only-of-type {\n",
       "        vertical-align: middle;\n",
       "    }\n",
       "\n",
       "    .dataframe tbody tr th {\n",
       "        vertical-align: top;\n",
       "    }\n",
       "\n",
       "    .dataframe thead th {\n",
       "        text-align: right;\n",
       "    }\n",
       "</style>\n",
       "<table border=\"1\" class=\"dataframe\">\n",
       "  <thead>\n",
       "    <tr style=\"text-align: right;\">\n",
       "      <th></th>\n",
       "      <th>texto</th>\n",
       "    </tr>\n",
       "    <tr>\n",
       "      <th>archivo</th>\n",
       "      <th></th>\n",
       "    </tr>\n",
       "  </thead>\n",
       "  <tbody>\n",
       "    <tr>\n",
       "      <th>S1130-01082008000100010-1</th>\n",
       "      <td>Paciente varón de 65 años, fumador de 20-40 cigarrillos/día y con antecedente de ulcus duodenal. Había sido intervenido 5 años previamente por neoplasia estenosante de unión recto-sigmoidea (adenocarcinoma estadio B de Dukes, T3N0M0, estadio III-A AJCC), practicándosele resección anterior, seguida de anastomosis término-terminal mediante sutura mecánica utilizando la técnica del doble grapado. El postoperatorio de dicha intervención cursó sin complicaciones y el paciente fue seguido en consulta cada 6 meses, realizándose anualmente colonoscopia y ecografía. La imagen endoscópica de la región perianastomótica resultó normal en todas las revisiones, incluyendo la última, realizada el año anterior (a los 4 años de la intervención).\\nA los 5 años de la intervención, el paciente comienza con deposiciones blandas, dolorimiento abdominal intermitente en hipogastrio y posteriormente rectorragias, por lo que es ingresado en el servicio de medicina interna, realizándosele un TAC abdominal, que no reveló hallazgos patológicos, y colonoscopia, en la que se observa una estenosis a 10 cm del margen anal que impide el paso del endoscopio. Se realiza biopsia en la que no se aprecian signos histopatológicos de enfermedad maligna y que es informada como úlcera inespecífica.\\n\\nDado que los marcadores tumorales séricos estaban en niveles normales, y ante la ausencia de otros signos de neoplasia, se decidió repetir la endoscopia y realizar un enema opaco. La nueva endoscopia y biopsia mostraron idénticos hallazgos a los previos. En el enema opaco se observó estenosis de colon de aspecto irregular y de 8 cm de longitud, no pudiendo descartarse con dicha imagen la posibilidad de una estenosis maligna. Ante la falta de pruebas conclusivas de recidiva tumoral, se decide un periodo de tratamiento con enemas de corticoides (budesonida, 2 mg en enema, 2 veces al día), con el fin de reducir la inflamación y poder así completar la exploración endoscópica.\\n\\nPasado un mes, con el paciente asintomático, se repite la endoscopia, encontrándose una mucosa inflamatoria y ulcerada, tapizando una estenosis de 6-8 cm de longitud que ya se logra atravesar con el endoscopio, sin observarse signos de neoplasia y siendo el resto del colon de aspecto normal. Las biopsias que se tomaron mostraron signos inflamatorios inespecíficos.\\nLa estenosis es juzgada como de origen isquémico y, dado que el paciente está totalmente asintomático, se decide seguimiento periódico.\\nA los 6 meses de seguimiento, se detectan alteraciones electrocardiográficas, por las cuales se solicita consulta al cardiólogo. Por ergometría y coronariografía se encuentran irregularidades en descendente anterior proximal media, grave afectación del ostium del ramo diagonal, estenosis del 80% del ramo obtuso marginal y estenosis del 80% en coronaria derecha media. Se decide dilatación e implantación de un doble stent coronario, tras lo cual desaparecieron las alteraciones electrocardiográficas.\\nTras 16 meses de seguimiento, el paciente presenta tránsito normal y se encuentra asintomático.\\n\\n</td>\n",
       "    </tr>\n",
       "    <tr>\n",
       "      <th>S0210-48062004000500009-1</th>\n",
       "      <td>Se trata de un paciente de 70 años, el cual refiere sintomatología de tracto urinario inferior en forma de inicio de aumento de frecuencia miccional nocturna, ligera disuria, así como leve disminución del calibre miccional.\\nAnte esta sintomatología prostática incipiente, es remitido a su urólogo de zona, el cual realiza un tacto rectal (adenoma II), y solicita una determinación de PSA y una ecografía abdominal para la siguiente consulta.\\nEl paciente mostraba como únicos antecedentes una intervención sobre el ojo izquierdo como consecuencia de un traumatismo, y en el plano urológico una ureterolitectomía del tercio superior del uréter hacía 35 años en otro centro, a través de una lumbotomía.\\nEn la siguiente consulta, y encontrándose el paciente totalmente asintomático, se determina en el estudio ecográfico la existencia de una masa parahiliar en el riñón izquierdo de unos 6 cm de diámetro, un riñón derecho normal, una próstata de 35 cc, así como un PSA dentro de los rangos normales.\\nAnte estos hallazgos y la sospecha de una tumoración renal, se realiza un TAC con el resultado de imagen parapiélica izquierda, de 5-6 cm de diámetro, de aspecto sólido, que se extiende desde el hilio renal hasta por debajo del polo inferior, con compresión del riñón y con un dudoso plano graso de separación con el mismo, calcificaciones en su interior y muy baja vascularización.\\n\\nCon el diagnóstico de masa renal se realiza un estudio de extensión que resulta negativo, planteándose la revisión quirúrgica y exéresis de la masa y/o nefrectomía según hallazgos.\\nQuince días después se lleva a cabo una lumbotomía izquierda.\\nUna vez iniciadas las maniobras de disección renal, se identifica claramente la masa comprimiendo riñón, pero con claro plano de disección entre ambos. Dada las dudas de la naturaleza de la masa, se realiza una biopsia intraoperatoria obteniéndose fibras textiles.\\nAnte la evidencia de que se estaba ante una gasa de la intervención previa, se realiza la exéresis de la totalidad de la tumoración conservando la unidad renal.\\nUna vez realizada la exéresis de la masa, ésta es abierta encontrándose en su interior fragmentos deshilachados de una o varias gasas, con material de aspecto caseoso a su alrededor.\\n\\nEl análisis anatomopatológico de la pared de la tumoración hablaba de material hialino con tendencia a la colagenización, y reacción inflamatoria sobre todo a expensas de histiocitos.\\n</td>\n",
       "    </tr>\n",
       "    <tr>\n",
       "      <th>S0376-78922014000200012-1</th>\n",
       "      <td>Varón de 48 años de edad, diabético de larga evolución, mal controlado, que se presenta en el Servicio de Urgencias de nuestro hospital con un cuadro de 5 días de evolución caracterizado por dolor, edema y aumento de temperatura en párpado superior e inferior izquierdos,\\nsegún relata secundarios a trauma contuso que condicionó una dermoabrasión de poca trascendencia inicialmente.\\nA su ingreso, es valorado por Oftalmología y diagnosticado de un cuadro de celulitis preseptal. A las 8 horas de su ingreso desarrolla una escara necrótica en el tejido involucrado. Durante el primer día de internamiento se le practicó aseo quirúrgico y desbridamiento de la totalidad del tejido necrótico. Se envía material a cultivo bacteriológico, identificando Streptococo Pyogenes. De acuerdo a dicho resultado, el paciente fue valorado por Infectología y se inició tratamiento con Meropenem, Vancomicina, Clindamicina y Anfotericina.\\n\\nDurante el segundo día de internamiento fue sometido a valoración por parte de la Clínica de Heridas del Servicio de Dermatología y se inició tratamiento con terapia de presión negativa, a 125 mmHg de forma contínua, con el objetivo de controlar el exudado, favorecer la granulación y disminuir el espacio muerto. Esta terapia fue suspendida 3 días después (al quinto día de internamiento) por progresión del eritema hacia la porción palpebral contralateral. El paciente continuó a cargo de Oftalmología y Dermatología, siendo tratado con curas a base de solución fisiológica e isodine y cubierto con parches de alginato, procedimiento mediante el cual se logró controlar el proceso infeccioso.\\n\\nA los 15 días de internamiento, fue valorado por Cirugía Plástica y Reconstructiva, objetivando la pérdida cutánea de la totalidad del párpado superior, pérdida parcial de músculo orbicular y elevador (este último se encontraba desinsertado), buen tejido de granulación y pérdidas focales de conjuntiva.\\n\\nUn mes después de la valoración inicial, el paciente fue intervenido quirúrgicamente realizándose desbridamiento del tejido de granulación hasta lograr el cierre palpebral parcial, identificando placa tarsal íntegra. Realizamos colgajos locales para cerrar defectos en conjuntiva, cantotomía lateral, injerto de espesor total en canto medial y colgajo frontal músculocutaneo derecho que fijamos al remanente súpero-externo del músculo orbicular del párpado.\\n\\nCuatro semanas después, llevamos a cabo la sección del pedículo y el adelgazamiento del colgajo frontal, viendo que el paciente presentaba movimiento palpebral dependiente de la miorrafia del frontal con el remanente del orbicular del párpado.\\n\\nEl paciente persistió con un mayor volumen y eversión del párpado reconstruido, por lo que 2 meses después realizamos un nuevo adelgazamiento del colgajo y corregimos el lagoftalmos mediante cantopexia lateral, liberando el ligamento palpebral y reinsertándolo en el reborde orbitario.\\n\\nTras 2 años de evolución, presenta cobertura del globo ocular con cierre y apertura palpebral completos, sin repercusión visual. No ha requerido nuevo tratamiento quirúrgico.\\n\\n</td>\n",
       "    </tr>\n",
       "  </tbody>\n",
       "</table>\n",
       "</div>"
      ],
      "text/plain": [
       "                                                                                                                                                                                                                                                                                                                                                                                                                                                                                                                                                                                                                                                                                                                                                                                                                                                                                                                                                                                                                                                                                                                                                                                                                                                                                                                                                                                                                                                                                                                                                                                                                                                                                                                                                                                                                                                                                                                                                                                                                                                                                                                                                                                                                                                                                                                                                                                                                                                                                                                                                                                                                                                                                                                                                                                                                                                                                                                                                                                                                                                                                                                                                                                                                                                          texto\n",
       "archivo                                                                                                                                                                                                                                                                                                                                                                                                                                                                                                                                                                                                                                                                                                                                                                                                                                                                                                                                                                                                                                                                                                                                                                                                                                                                                                                                                                                                                                                                                                                                                                                                                                                                                                                                                                                                                                                                                                                                                                                                                                                                                                                                                                                                                                                                                                                                                                                                                                                                                                                                                                                                                                                                                                                                                                                                                                                                                                                                                                                                                                                                                                                                                                                                                                                        \n",
       "S1130-01082008000100010-1                                      Paciente varón de 65 años, fumador de 20-40 cigarrillos/día y con antecedente de ulcus duodenal. Había sido intervenido 5 años previamente por neoplasia estenosante de unión recto-sigmoidea (adenocarcinoma estadio B de Dukes, T3N0M0, estadio III-A AJCC), practicándosele resección anterior, seguida de anastomosis término-terminal mediante sutura mecánica utilizando la técnica del doble grapado. El postoperatorio de dicha intervención cursó sin complicaciones y el paciente fue seguido en consulta cada 6 meses, realizándose anualmente colonoscopia y ecografía. La imagen endoscópica de la región perianastomótica resultó normal en todas las revisiones, incluyendo la última, realizada el año anterior (a los 4 años de la intervención).\\nA los 5 años de la intervención, el paciente comienza con deposiciones blandas, dolorimiento abdominal intermitente en hipogastrio y posteriormente rectorragias, por lo que es ingresado en el servicio de medicina interna, realizándosele un TAC abdominal, que no reveló hallazgos patológicos, y colonoscopia, en la que se observa una estenosis a 10 cm del margen anal que impide el paso del endoscopio. Se realiza biopsia en la que no se aprecian signos histopatológicos de enfermedad maligna y que es informada como úlcera inespecífica.\\n\\nDado que los marcadores tumorales séricos estaban en niveles normales, y ante la ausencia de otros signos de neoplasia, se decidió repetir la endoscopia y realizar un enema opaco. La nueva endoscopia y biopsia mostraron idénticos hallazgos a los previos. En el enema opaco se observó estenosis de colon de aspecto irregular y de 8 cm de longitud, no pudiendo descartarse con dicha imagen la posibilidad de una estenosis maligna. Ante la falta de pruebas conclusivas de recidiva tumoral, se decide un periodo de tratamiento con enemas de corticoides (budesonida, 2 mg en enema, 2 veces al día), con el fin de reducir la inflamación y poder así completar la exploración endoscópica.\\n\\nPasado un mes, con el paciente asintomático, se repite la endoscopia, encontrándose una mucosa inflamatoria y ulcerada, tapizando una estenosis de 6-8 cm de longitud que ya se logra atravesar con el endoscopio, sin observarse signos de neoplasia y siendo el resto del colon de aspecto normal. Las biopsias que se tomaron mostraron signos inflamatorios inespecíficos.\\nLa estenosis es juzgada como de origen isquémico y, dado que el paciente está totalmente asintomático, se decide seguimiento periódico.\\nA los 6 meses de seguimiento, se detectan alteraciones electrocardiográficas, por las cuales se solicita consulta al cardiólogo. Por ergometría y coronariografía se encuentran irregularidades en descendente anterior proximal media, grave afectación del ostium del ramo diagonal, estenosis del 80% del ramo obtuso marginal y estenosis del 80% en coronaria derecha media. Se decide dilatación e implantación de un doble stent coronario, tras lo cual desaparecieron las alteraciones electrocardiográficas.\\nTras 16 meses de seguimiento, el paciente presenta tránsito normal y se encuentra asintomático.\\n\\n\n",
       "S0210-48062004000500009-1                                                                                                                                                                                                                                                                                                                                                                                                                                                                                                                                                                                                                                                                                                       Se trata de un paciente de 70 años, el cual refiere sintomatología de tracto urinario inferior en forma de inicio de aumento de frecuencia miccional nocturna, ligera disuria, así como leve disminución del calibre miccional.\\nAnte esta sintomatología prostática incipiente, es remitido a su urólogo de zona, el cual realiza un tacto rectal (adenoma II), y solicita una determinación de PSA y una ecografía abdominal para la siguiente consulta.\\nEl paciente mostraba como únicos antecedentes una intervención sobre el ojo izquierdo como consecuencia de un traumatismo, y en el plano urológico una ureterolitectomía del tercio superior del uréter hacía 35 años en otro centro, a través de una lumbotomía.\\nEn la siguiente consulta, y encontrándose el paciente totalmente asintomático, se determina en el estudio ecográfico la existencia de una masa parahiliar en el riñón izquierdo de unos 6 cm de diámetro, un riñón derecho normal, una próstata de 35 cc, así como un PSA dentro de los rangos normales.\\nAnte estos hallazgos y la sospecha de una tumoración renal, se realiza un TAC con el resultado de imagen parapiélica izquierda, de 5-6 cm de diámetro, de aspecto sólido, que se extiende desde el hilio renal hasta por debajo del polo inferior, con compresión del riñón y con un dudoso plano graso de separación con el mismo, calcificaciones en su interior y muy baja vascularización.\\n\\nCon el diagnóstico de masa renal se realiza un estudio de extensión que resulta negativo, planteándose la revisión quirúrgica y exéresis de la masa y/o nefrectomía según hallazgos.\\nQuince días después se lleva a cabo una lumbotomía izquierda.\\nUna vez iniciadas las maniobras de disección renal, se identifica claramente la masa comprimiendo riñón, pero con claro plano de disección entre ambos. Dada las dudas de la naturaleza de la masa, se realiza una biopsia intraoperatoria obteniéndose fibras textiles.\\nAnte la evidencia de que se estaba ante una gasa de la intervención previa, se realiza la exéresis de la totalidad de la tumoración conservando la unidad renal.\\nUna vez realizada la exéresis de la masa, ésta es abierta encontrándose en su interior fragmentos deshilachados de una o varias gasas, con material de aspecto caseoso a su alrededor.\\n\\nEl análisis anatomopatológico de la pared de la tumoración hablaba de material hialino con tendencia a la colagenización, y reacción inflamatoria sobre todo a expensas de histiocitos.\\n\n",
       "S0376-78922014000200012-1  Varón de 48 años de edad, diabético de larga evolución, mal controlado, que se presenta en el Servicio de Urgencias de nuestro hospital con un cuadro de 5 días de evolución caracterizado por dolor, edema y aumento de temperatura en párpado superior e inferior izquierdos,\\nsegún relata secundarios a trauma contuso que condicionó una dermoabrasión de poca trascendencia inicialmente.\\nA su ingreso, es valorado por Oftalmología y diagnosticado de un cuadro de celulitis preseptal. A las 8 horas de su ingreso desarrolla una escara necrótica en el tejido involucrado. Durante el primer día de internamiento se le practicó aseo quirúrgico y desbridamiento de la totalidad del tejido necrótico. Se envía material a cultivo bacteriológico, identificando Streptococo Pyogenes. De acuerdo a dicho resultado, el paciente fue valorado por Infectología y se inició tratamiento con Meropenem, Vancomicina, Clindamicina y Anfotericina.\\n\\nDurante el segundo día de internamiento fue sometido a valoración por parte de la Clínica de Heridas del Servicio de Dermatología y se inició tratamiento con terapia de presión negativa, a 125 mmHg de forma contínua, con el objetivo de controlar el exudado, favorecer la granulación y disminuir el espacio muerto. Esta terapia fue suspendida 3 días después (al quinto día de internamiento) por progresión del eritema hacia la porción palpebral contralateral. El paciente continuó a cargo de Oftalmología y Dermatología, siendo tratado con curas a base de solución fisiológica e isodine y cubierto con parches de alginato, procedimiento mediante el cual se logró controlar el proceso infeccioso.\\n\\nA los 15 días de internamiento, fue valorado por Cirugía Plástica y Reconstructiva, objetivando la pérdida cutánea de la totalidad del párpado superior, pérdida parcial de músculo orbicular y elevador (este último se encontraba desinsertado), buen tejido de granulación y pérdidas focales de conjuntiva.\\n\\nUn mes después de la valoración inicial, el paciente fue intervenido quirúrgicamente realizándose desbridamiento del tejido de granulación hasta lograr el cierre palpebral parcial, identificando placa tarsal íntegra. Realizamos colgajos locales para cerrar defectos en conjuntiva, cantotomía lateral, injerto de espesor total en canto medial y colgajo frontal músculocutaneo derecho que fijamos al remanente súpero-externo del músculo orbicular del párpado.\\n\\nCuatro semanas después, llevamos a cabo la sección del pedículo y el adelgazamiento del colgajo frontal, viendo que el paciente presentaba movimiento palpebral dependiente de la miorrafia del frontal con el remanente del orbicular del párpado.\\n\\nEl paciente persistió con un mayor volumen y eversión del párpado reconstruido, por lo que 2 meses después realizamos un nuevo adelgazamiento del colgajo y corregimos el lagoftalmos mediante cantopexia lateral, liberando el ligamento palpebral y reinsertándolo en el reborde orbitario.\\n\\nTras 2 años de evolución, presenta cobertura del globo ocular con cierre y apertura palpebral completos, sin repercusión visual. No ha requerido nuevo tratamiento quirúrgico.\\n\\n"
      ]
     },
     "execution_count": 33,
     "metadata": {},
     "output_type": "execute_result"
    }
   ],
   "source": [
    "df_test.sample(3)"
   ]
  },
  {
   "cell_type": "markdown",
   "id": "b472f280-db6a-438d-8340-f7b19758399b",
   "metadata": {},
   "source": [
    "## Binarizar las etiquetas"
   ]
  },
  {
   "cell_type": "code",
   "execution_count": 13,
   "id": "ae41be51-448e-433b-b10f-b4236afbaa7a",
   "metadata": {},
   "outputs": [
    {
     "name": "stdout",
     "output_type": "stream",
     "text": [
      "10\n"
     ]
    }
   ],
   "source": [
    "# para entrenar un clasificador multi-etiqueta generamos una matriz binaria de las etiquetas\n",
    "from sklearn.preprocessing import MultiLabelBinarizer\n",
    "\n",
    "mlb = MultiLabelBinarizer()\n",
    "y_train = mlb.fit_transform(df_train['codigos'])\n",
    "\n",
    "#Guardamos las clases utilizadas en el conjunto de train\n",
    "clases = mlb.classes_\n",
    "num_classes = clases.shape\n",
    "print(num_classes[0])"
   ]
  },
  {
   "cell_type": "markdown",
   "id": "6431f372-160e-4082-8540-33d40c09e745",
   "metadata": {},
   "source": [
    "## Procesamiento del lenguaje natural"
   ]
  },
  {
   "cell_type": "code",
   "execution_count": null,
   "id": "eb7c1b10-8fe0-4786-a5bc-0ae2a5384272",
   "metadata": {},
   "outputs": [],
   "source": []
  },
  {
   "cell_type": "code",
   "execution_count": null,
   "id": "8476ec88-d3f6-477f-8cc9-d298ce8077b9",
   "metadata": {},
   "outputs": [],
   "source": []
  },
  {
   "cell_type": "code",
   "execution_count": null,
   "id": "cd2a2111-b1cc-44a9-aaf6-4b215fcb1f1d",
   "metadata": {},
   "outputs": [],
   "source": []
  },
  {
   "cell_type": "code",
   "execution_count": null,
   "id": "a3347eb0-e6ed-458c-908d-34f23a56180a",
   "metadata": {},
   "outputs": [],
   "source": []
  },
  {
   "cell_type": "code",
   "execution_count": null,
   "id": "0689372a-2ed7-45d5-895c-92b4f773c428",
   "metadata": {},
   "outputs": [],
   "source": []
  },
  {
   "cell_type": "markdown",
   "id": "09324f7e-ee73-41e9-b94f-a0a6a5e38b02",
   "metadata": {},
   "source": [
    "## Modelos"
   ]
  },
  {
   "cell_type": "code",
   "execution_count": null,
   "id": "df4a232b-c840-4d51-8c00-2000c91fd83a",
   "metadata": {},
   "outputs": [],
   "source": []
  },
  {
   "cell_type": "code",
   "execution_count": null,
   "id": "9ed98953-a8f9-453f-b107-8653c037a824",
   "metadata": {},
   "outputs": [],
   "source": []
  },
  {
   "cell_type": "code",
   "execution_count": null,
   "id": "59e6add7-769c-40b6-931b-1fca0721a749",
   "metadata": {},
   "outputs": [],
   "source": []
  },
  {
   "cell_type": "code",
   "execution_count": null,
   "id": "a4bdeabe-13e4-48f6-bc3c-0538b3394303",
   "metadata": {},
   "outputs": [],
   "source": []
  },
  {
   "cell_type": "markdown",
   "id": "c2c7119e-b68d-447f-ae89-ef18c223ebf8",
   "metadata": {},
   "source": [
    "## Guardar predicciones de Test"
   ]
  },
  {
   "cell_type": "code",
   "execution_count": null,
   "id": "ff863c1c-9821-4ad4-a912-1abe400f5c46",
   "metadata": {},
   "outputs": [],
   "source": []
  },
  {
   "cell_type": "code",
   "execution_count": null,
   "id": "942d26ad-7138-4f00-a07d-44a47b5c233c",
   "metadata": {},
   "outputs": [],
   "source": []
  }
 ],
 "metadata": {
  "kernelspec": {
   "display_name": "Python 3 (ipykernel)",
   "language": "python",
   "name": "python3"
  },
  "language_info": {
   "codemirror_mode": {
    "name": "ipython",
    "version": 3
   },
   "file_extension": ".py",
   "mimetype": "text/x-python",
   "name": "python",
   "nbconvert_exporter": "python",
   "pygments_lexer": "ipython3",
   "version": "3.10.14"
  }
 },
 "nbformat": 4,
 "nbformat_minor": 5
}
