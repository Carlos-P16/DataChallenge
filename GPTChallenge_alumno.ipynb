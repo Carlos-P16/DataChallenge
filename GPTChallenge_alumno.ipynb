{
 "cells": [
  {
   "cell_type": "markdown",
   "id": "9eca6be9-3ab2-4756-80a0-4880568d1cd7",
   "metadata": {},
   "source": [
    "# GPTChallenge: diagnóstico a partir de HCE"
   ]
  },
  {
   "cell_type": "markdown",
   "id": "de358c45-755b-4fad-9d68-72e591de8b4b",
   "metadata": {},
   "source": [
    "Vamos a trabajar con el corpus CodEsp (textos de historial clínico etiquetados con sus códigos CIE-10 Diagnóstico)"
   ]
  },
  {
   "cell_type": "code",
   "execution_count": 2,
   "id": "e2d4da20-1cea-4309-941f-c2440b01801a",
   "metadata": {},
   "outputs": [],
   "source": [
    "import pandas as pd\n",
    "import os, re\n",
    "import numpy as np\n",
    "\n",
    "pd.options.display.max_colwidth = None"
   ]
  },
  {
   "cell_type": "code",
   "execution_count": 3,
   "id": "566a8909-46d3-4ccd-8a67-96d819f60e09",
   "metadata": {},
   "outputs": [
    {
     "name": "stdout",
     "output_type": "stream",
     "text": [
      "<class 'pandas.core.frame.DataFrame'>\n",
      "RangeIndex: 8316 entries, 0 to 8315\n",
      "Data columns (total 2 columns):\n",
      " #   Column   Non-Null Count  Dtype \n",
      "---  ------   --------------  ----- \n",
      " 0   archivo  8316 non-null   object\n",
      " 1   codigo   8316 non-null   object\n",
      "dtypes: object(2)\n",
      "memory usage: 130.1+ KB\n"
     ]
    }
   ],
   "source": [
    "#los códigos están en un TSV con un código por línea\n",
    "train_diag = pd.read_csv(\"data/train/train.tsv\", sep=\"\\t\", header=None, names=[\"archivo\", \"codigo\"])\n",
    "train_diag.info()"
   ]
  },
  {
   "cell_type": "code",
   "execution_count": 4,
   "id": "b15d7057-8afb-4005-8601-79ce2fe6e71a",
   "metadata": {
    "scrolled": true
   },
   "outputs": [
    {
     "data": {
      "text/plain": [
       "codigo\n",
       "r52        163\n",
       "r69        150\n",
       "r50.9      142\n",
       "i10        116\n",
       "r59.9       95\n",
       "          ... \n",
       "d37.030      1\n",
       "c79.71       1\n",
       "g25.0        1\n",
       "l76.3        1\n",
       "n81.2        1\n",
       "Name: count, Length: 2194, dtype: int64"
      ]
     },
     "execution_count": 4,
     "metadata": {},
     "output_type": "execute_result"
    }
   ],
   "source": [
    "train_diag['codigo'].value_counts()"
   ]
  },
  {
   "cell_type": "code",
   "execution_count": 5,
   "id": "3cbd33aa-1d54-419f-a1f1-728bb03b79d7",
   "metadata": {},
   "outputs": [
    {
     "name": "stdout",
     "output_type": "stream",
     "text": [
      "cat\n",
      "r52    163\n",
      "r10    163\n",
      "r59    160\n",
      "r69    150\n",
      "r50    144\n",
      "      ... \n",
      "c31      1\n",
      "d62      1\n",
      "s53      1\n",
      "s34      1\n",
      "n81      1\n",
      "Name: count, Length: 918, dtype: int64\n"
     ]
    },
    {
     "data": {
      "text/plain": [
       "918"
      ]
     },
     "execution_count": 5,
     "metadata": {},
     "output_type": "execute_result"
    }
   ],
   "source": [
    "#cogemos la categoría superior de cada código y las agrupamos\n",
    "train_diag['cat'] = train_diag['codigo'].str.extract(r'(\\w\\d\\d)')\n",
    "print(train_diag['cat'].value_counts())\n",
    "train_diag['cat'].nunique()"
   ]
  },
  {
   "cell_type": "code",
   "execution_count": 6,
   "id": "8eaf143a-b460-410e-8af2-a268181153d3",
   "metadata": {},
   "outputs": [
    {
     "name": "stdout",
     "output_type": "stream",
     "text": [
      "['r52', 'r10', 'r59', 'r69', 'r50', 'r60', 'i10', 'r11', 'n28', 'd49']\n"
     ]
    }
   ],
   "source": [
    "categories=train_diag['cat'].value_counts()[:10]\n",
    "top_categorias = categories.index.to_list()\n",
    "print(top_categorias)"
   ]
  },
  {
   "cell_type": "code",
   "execution_count": 7,
   "id": "25e458c1-01ec-4c48-8c3e-45f37e4553c8",
   "metadata": {},
   "outputs": [],
   "source": [
    "#seleccionamos sólo las etiquetas de este subconjunto\n",
    "train_diag = train_diag[np.isin(train_diag['cat'], top_categorias)]"
   ]
  },
  {
   "cell_type": "code",
   "execution_count": 8,
   "id": "c1befd52-7347-4e6d-8760-3a08b5fd8b02",
   "metadata": {},
   "outputs": [
    {
     "name": "stdout",
     "output_type": "stream",
     "text": [
      "<class 'pandas.core.frame.DataFrame'>\n",
      "Index: 562 entries, S0004-06142005000700014-1 to S2340-98942015000100005-1\n",
      "Data columns (total 2 columns):\n",
      " #   Column   Non-Null Count  Dtype \n",
      "---  ------   --------------  ----- \n",
      " 0   texto    562 non-null    object\n",
      " 1   codigos  562 non-null    object\n",
      "dtypes: object(2)\n",
      "memory usage: 13.2+ KB\n"
     ]
    }
   ],
   "source": [
    "#cargamos los dos conjuntos de train\n",
    "path = 'data/train/text_files/'\n",
    "\n",
    "corpus = []\n",
    "for f in [f for f in os.listdir(path) if f.endswith('.txt')]:\n",
    "    with open(os.path.join(path, f), encoding=\"utf8\") as text:\n",
    "        texto = text.read()\n",
    "    #buscamos códigos\n",
    "    file = f[:-4]\n",
    "    codigos = train_diag.query('archivo==@file')['cat'].to_list()\n",
    "    codigos = list(set(codigos))\n",
    "    if codigos:\n",
    "        corpus.append({\n",
    "            'archivo': file,\n",
    "            'texto': texto,\n",
    "            'codigos': codigos\n",
    "        })\n",
    "    \n",
    "df_train = pd.DataFrame(corpus).set_index('archivo')\n",
    "df_train.info()"
   ]
  },
  {
   "cell_type": "code",
   "execution_count": 9,
   "id": "dcf73334-972c-4746-829f-0891641a1b18",
   "metadata": {},
   "outputs": [
    {
     "data": {
      "text/html": [
       "<div>\n",
       "<style scoped>\n",
       "    .dataframe tbody tr th:only-of-type {\n",
       "        vertical-align: middle;\n",
       "    }\n",
       "\n",
       "    .dataframe tbody tr th {\n",
       "        vertical-align: top;\n",
       "    }\n",
       "\n",
       "    .dataframe thead th {\n",
       "        text-align: right;\n",
       "    }\n",
       "</style>\n",
       "<table border=\"1\" class=\"dataframe\">\n",
       "  <thead>\n",
       "    <tr style=\"text-align: right;\">\n",
       "      <th></th>\n",
       "      <th>texto</th>\n",
       "      <th>codigos</th>\n",
       "    </tr>\n",
       "    <tr>\n",
       "      <th>archivo</th>\n",
       "      <th></th>\n",
       "      <th></th>\n",
       "    </tr>\n",
       "  </thead>\n",
       "  <tbody>\n",
       "    <tr>\n",
       "      <th>S0004-06142006000700014-1</th>\n",
       "      <td>Se trata de un paciente de 67 años con antecedentes de síndrome depresivo y prostatismo, al que se le diagnostica a principios del año 2004 un carcinoma de colon descendente. En el mes de Marzo de ese mismo año se le practica una colectomía subtotal izquierda con anastomosis ileosigmoidea. En el estudio anatomopatológico de la pieza de colectomía se observa una tumoración de 4x2 centímetros compatible con un adenocarcinoma de colon moderadamente diferenciado, que infiltra hasta la grasa subserosa, sin afectación ganglionar y con los bordes quirúrgicos libres (pT3NoMo). En el postoperatorio precisó drenaje de un absceso en la pared abdominal, cursando el resto del postoperatorio sin otras complicaciones.\\nEn la analítica preoperatoria el paciente tenía un hematocrito de 47,7, hemoglobina de 15,6, creatinina de 0,91, analítica de orina dentro de la normalidad, un PSA &lt; 4 y una cifra de Antígeno Carcino Embrionario (CEA) de 91,45 (Normal &lt; 5,00). La TAC preoperatorio fue informada como masa en colon descendente compatible con carcinoma de colon con pequeñas adenopatías retroperitoneales menores de 1 centímetro de diámetro, no significativas, así como lesiones crónicas fibrocicatriciales en tórax.\\nA los cuatro meses de la colectomía el paciente comienza a notar una masa nodular dolorosa a nivel del testículo derecho. Se le realiza entonces una ecografía testicular que detecta una lesión heterogénea, con zonas sólidas y quísticas, a nivel de cuerpo del epidídimo derecho y que podría estar afectando al testículo, por lo que se consulta al Servicio de Urología para su valoración..\\n\\nEn la exploración comprobamos que el paciente presenta una tumoración dolorosa de 1-2 centímetros en el epidídimo derecho, así como otra tumoración de menor tamaño en el cordón espermático derecho.\\nSe programa para exploración quirúrgica de las lesiones bajo anestesia raquídea con criterios oncológicos: incisión inguinal, extracción de teste derecho y cordón espermático y clampaje del mismo. Macroscópicamente observamos, en el tercio medio del epidídimo derecho, una lesión nodular de unos 2 centímetros de diámetro, de coloración amarillenta y consistencia elástica, firmemente adherida al testículo derecho, del cual despegamos con dificultad. Aparentemente el testículo parecía macroscópicamente normal y sin infiltración. En el cordón espermático derecho palpamos otra lesión de características similares, que parecía abarcar circunferencialmente al cordón. Se hizo biopsia intraoperatoria que fue informada como adenocarcinoma, por lo que decidimos - tras informar al paciente que dio su consentimiento - de realizar una orquiectomía radical derecha, incluyendo cordón espermático.\\nEl Servicio de Anatomía Patológica tras estudiar la pieza quirúrgica confirmó que se trataba de una tumoración de 2 centímetros de diámetro en tercio medio de epidídimo derecho y otra tumoración en cordón espermático derecho de 1,5 centímetros de diámetro, correspondientes a neoformaciones epiteliales malignas con estructuras glandulares compatibles con metástasis de un adenocarcinoma posiblemente de colon. Los bordes quirúrgicos y el testículo derecho estaban libres de tumoración..\\n\\nEl postoperatorio cursó sin incidencias, siendo dado de alta por el Servicio de Urología al día siguiente de la intervención pasando el paciente a al Servicio de Oncología para tratamiento complementario con quimioterapia. En los controles postoperatorios se le realizaron TAC de control y analíticas, detectándose a las 12 semanas posteriores de la orquiectomía una elevación significativa del CEA que se correspondió con la aparición en las pruebas de imagen (TAC) de adenopatías retroperitoneales mayores de 1 centímetro, nódulos pulmonares y un engrosamiento de la pared del colon cercano a la anastomosis. Actualmente el paciente vive, auque en los estudios de imagen realizados tras la intervención se comprobó que la evolución es desfavorable a pesar del tratamiento quimioterápico, con aparición de múltiples implantes mesentéricos, hepáticos y aumento en el número y tamaño de los nódulos pulmonares.\\n\\n</td>\n",
       "      <td>[r52, r59]</td>\n",
       "    </tr>\n",
       "    <tr>\n",
       "      <th>S1130-01082010000600013-1</th>\n",
       "      <td>Varón de 74 años con antecedentes de cardiopatía isquémica en tratamiento con betabloqueantes, mononitrato de isosorbida, antiagregantes e inhibidores de bomba de protones. Remitido a consulta de Aparato Digestivo por cuadro de 9 meses de evolución de intensa astenia, anorexia y aumento progresivo de la sudoración, con pérdida de 15 kg de peso, asociado a dolor abdominal difuso y distensión abdominal. Analíticamente se apreció anemia ferropénica. Se solicita entre otras pruebas diagnósticas colonoscopia con sedación.\\nSe realiza una primera colonoscopia apreciándose desde recto hasta ciego infinidad de lesiones sesiles de aspecto polipoideo de entre 3-6 mm, más frecuentes en número en colon derecho y que a nivel de válvula ileocecal forman conglomerados, afectando también a íleon terminal. La anatomía patológica de biopsias a distintos niveles fue de colitis inespecífica con hiperplasia folicular linfoide e infiltrado eosinófilo que alcanza el 60% de células inflamatorias.\\nTras los resultados obtenidos y ante el empeoramiento clínico progresivo del enfermo se decide realizar gastroscopia y repetir colonoscopia para nueva toma de biopsias. Se observan múltiples lesiones polipoideas sesiles de diferentes tamaños (mayor 8-9 mm) en mucosa gástrica y duodenal, irregulares, abullonadas con vascularización marcada, algunas erosionadas en su cúspide, disminuyendo en número conforme se avanza hacia duodeno distal, confirmándose además las lesiones descritas en la colonoscopia previa. El resultado histopatológico de las biopsias gástricas, duodenales y de colon fue de denso infiltrado linfoide difuso en mucosa y submucosa con destrucción glandular y lesión linfoepitelial, con linfocitos de talla pequeña y hábito centrocitoide con positividad para CD 20, ciclina D1, y bcl-2 con un Ki-67 del 30% todo ello compatible con infiltración gástrica, de intestino delgado y colon por linfoma del manto.\\nTras los hallazgos endoscópicos el paciente es remitido al servicio de hematología donde se completan estudios, que confirman el diagnóstico definitivo de linfoma no Hodgkin del manto estadio IVB con afectación gástrica y de intestino delgado y grueso.\\n\\n</td>\n",
       "      <td>[r10]</td>\n",
       "    </tr>\n",
       "    <tr>\n",
       "      <th>S0210-48062007001000004-3</th>\n",
       "      <td>Paciente de 29 años que es remitido a nuestra consulta tras cuadro de dolor en teste derecho 3 meses atrás que remitió con tratamiento antiinflamatorio. Un mes después tuvo un nuevo cuadro de dolor en testículo derecho que fue diagnosticado de orquiepididimitis pero que no se resolvió con tratamiento médico.\\nComo antecedentes personales sólo destaca el ser alérgico a las Sulfamidas. No antecedentes urológicos de interés.\\nA la exploración física se palpa tumoración en polo posteroinferior de teste derecho indolora.\\nAnte la sospecha de tumor testicular se le solicita una analítica completa sanguínea con marcadores tumorales y una ecografía testicular, siendo los resultados de AFP 36.4 ng/ml y una Beta-hCG 4.2 mUI/ml. En la ecografía se observa una tumoración de 23 mm en polo inferior de teste derecho de características no quísticas sospechosa de neoplasia.\\nSe le interviene quirúrgicamente mediante una orquiectomía radical inguinal derecha cuya Anatomía Patológica informa de Tumor de Células Germinales mixto de 2 cm formado por Carcinoma Embrionario y focos de Teratoma. No invasión vascular ni linfática. Albugínea, cordón espermático y epidídimo libres de tumor.\\nAl ser un Tumor Germinal No Seminomatoso en Estadio I, se decide de mutuo acuerdo con el paciente no recibir tratamiento adyuvante con quimioterapia y seguir un control observacional estricto.\\nAl paciente se le realizan los controles periódicos según protocolo del nuestro hospital permaneciendo libre de enfermedad en las técnicas de imagen, clínica y analíticamente durante 7 años y medio hasta que en un estudio ultrasonográfico de control se le detecta microcalcificaciones en testículo izquierdo único con nódulo hipoecoico de 7 mm x 9 mm, también con calcificaciones y sin aumento de flujo Doppler que es compatible con tumor testicular. Además se observa un varicocele izquierdo.\\nLa exploración física resulta anodina, y los marcadores tumorales están dentro de la normalidad.\\nTras orquiectomía inguinal izquierda, la Anatomía Patológica informa de Seminoma de 0,5 cm que infiltra cápsula sobre testículo atrófico con extensa Neoplasia Intratubular de Células Germinales. No infiltración vascular ni linfática.\\nSe completó el tratamiento con quimioterapia y tratamiento hormonal sustitutivo.\\nActualmente lleva 4 años libre de enfermedad.\\n\\n</td>\n",
       "      <td>[d49, r69]</td>\n",
       "    </tr>\n",
       "  </tbody>\n",
       "</table>\n",
       "</div>"
      ],
      "text/plain": [
       "                                                                                                                                                                                                                                                                                                                                                                                                                                                                                                                                                                                                                                                                                                                                                                                                                                                                                                                                                                                                                                                                                                                                                                                                                                                                                                                                                                                                                                                                                                                                                                                                                                                                                                                                                                                                                                                                                                                                                                                                                                                                                                                                                                                                                                                                                                                                                                                                                                                                                                                                                                                                                                                                                                                                                                                                                                                                                                                                                                                                                                                                                                                                                                                                                                                                                                                                                                                                                                                                                                                                                                                                                                                                                                                                                                                                                                                                                                                                                                                                                                                                                                                                                                                                                                                                                            texto  \\\n",
       "archivo                                                                                                                                                                                                                                                                                                                                                                                                                                                                                                                                                                                                                                                                                                                                                                                                                                                                                                                                                                                                                                                                                                                                                                                                                                                                                                                                                                                                                                                                                                                                                                                                                                                                                                                                                                                                                                                                                                                                                                                                                                                                                                                                                                                                                                                                                                                                                                                                                                                                                                                                                                                                                                                                                                                                                                                                                                                                                                                                                                                                                                                                                                                                                                                                                                                                                                                                                                                                                                                                                                                                                                                                                                                                                                                                                                                                                                                                                                                                                                                                                                                                                                                                                                                                                                                                                             \n",
       "S0004-06142006000700014-1  Se trata de un paciente de 67 años con antecedentes de síndrome depresivo y prostatismo, al que se le diagnostica a principios del año 2004 un carcinoma de colon descendente. En el mes de Marzo de ese mismo año se le practica una colectomía subtotal izquierda con anastomosis ileosigmoidea. En el estudio anatomopatológico de la pieza de colectomía se observa una tumoración de 4x2 centímetros compatible con un adenocarcinoma de colon moderadamente diferenciado, que infiltra hasta la grasa subserosa, sin afectación ganglionar y con los bordes quirúrgicos libres (pT3NoMo). En el postoperatorio precisó drenaje de un absceso en la pared abdominal, cursando el resto del postoperatorio sin otras complicaciones.\\nEn la analítica preoperatoria el paciente tenía un hematocrito de 47,7, hemoglobina de 15,6, creatinina de 0,91, analítica de orina dentro de la normalidad, un PSA < 4 y una cifra de Antígeno Carcino Embrionario (CEA) de 91,45 (Normal < 5,00). La TAC preoperatorio fue informada como masa en colon descendente compatible con carcinoma de colon con pequeñas adenopatías retroperitoneales menores de 1 centímetro de diámetro, no significativas, así como lesiones crónicas fibrocicatriciales en tórax.\\nA los cuatro meses de la colectomía el paciente comienza a notar una masa nodular dolorosa a nivel del testículo derecho. Se le realiza entonces una ecografía testicular que detecta una lesión heterogénea, con zonas sólidas y quísticas, a nivel de cuerpo del epidídimo derecho y que podría estar afectando al testículo, por lo que se consulta al Servicio de Urología para su valoración..\\n\\nEn la exploración comprobamos que el paciente presenta una tumoración dolorosa de 1-2 centímetros en el epidídimo derecho, así como otra tumoración de menor tamaño en el cordón espermático derecho.\\nSe programa para exploración quirúrgica de las lesiones bajo anestesia raquídea con criterios oncológicos: incisión inguinal, extracción de teste derecho y cordón espermático y clampaje del mismo. Macroscópicamente observamos, en el tercio medio del epidídimo derecho, una lesión nodular de unos 2 centímetros de diámetro, de coloración amarillenta y consistencia elástica, firmemente adherida al testículo derecho, del cual despegamos con dificultad. Aparentemente el testículo parecía macroscópicamente normal y sin infiltración. En el cordón espermático derecho palpamos otra lesión de características similares, que parecía abarcar circunferencialmente al cordón. Se hizo biopsia intraoperatoria que fue informada como adenocarcinoma, por lo que decidimos - tras informar al paciente que dio su consentimiento - de realizar una orquiectomía radical derecha, incluyendo cordón espermático.\\nEl Servicio de Anatomía Patológica tras estudiar la pieza quirúrgica confirmó que se trataba de una tumoración de 2 centímetros de diámetro en tercio medio de epidídimo derecho y otra tumoración en cordón espermático derecho de 1,5 centímetros de diámetro, correspondientes a neoformaciones epiteliales malignas con estructuras glandulares compatibles con metástasis de un adenocarcinoma posiblemente de colon. Los bordes quirúrgicos y el testículo derecho estaban libres de tumoración..\\n\\nEl postoperatorio cursó sin incidencias, siendo dado de alta por el Servicio de Urología al día siguiente de la intervención pasando el paciente a al Servicio de Oncología para tratamiento complementario con quimioterapia. En los controles postoperatorios se le realizaron TAC de control y analíticas, detectándose a las 12 semanas posteriores de la orquiectomía una elevación significativa del CEA que se correspondió con la aparición en las pruebas de imagen (TAC) de adenopatías retroperitoneales mayores de 1 centímetro, nódulos pulmonares y un engrosamiento de la pared del colon cercano a la anastomosis. Actualmente el paciente vive, auque en los estudios de imagen realizados tras la intervención se comprobó que la evolución es desfavorable a pesar del tratamiento quimioterápico, con aparición de múltiples implantes mesentéricos, hepáticos y aumento en el número y tamaño de los nódulos pulmonares.\\n\\n   \n",
       "S1130-01082010000600013-1                                                                                                                                                                                                                                                                                                                                                                                                                                                                                                                                                                                                                                                                                                                                                                                                                                                                                                                                                                                                                                                                                                                                                                                                                                                                                                                                                                                                                                                                                                                                                                                                                                                                                                                                                                                                                                                                                                                                                                                                           Varón de 74 años con antecedentes de cardiopatía isquémica en tratamiento con betabloqueantes, mononitrato de isosorbida, antiagregantes e inhibidores de bomba de protones. Remitido a consulta de Aparato Digestivo por cuadro de 9 meses de evolución de intensa astenia, anorexia y aumento progresivo de la sudoración, con pérdida de 15 kg de peso, asociado a dolor abdominal difuso y distensión abdominal. Analíticamente se apreció anemia ferropénica. Se solicita entre otras pruebas diagnósticas colonoscopia con sedación.\\nSe realiza una primera colonoscopia apreciándose desde recto hasta ciego infinidad de lesiones sesiles de aspecto polipoideo de entre 3-6 mm, más frecuentes en número en colon derecho y que a nivel de válvula ileocecal forman conglomerados, afectando también a íleon terminal. La anatomía patológica de biopsias a distintos niveles fue de colitis inespecífica con hiperplasia folicular linfoide e infiltrado eosinófilo que alcanza el 60% de células inflamatorias.\\nTras los resultados obtenidos y ante el empeoramiento clínico progresivo del enfermo se decide realizar gastroscopia y repetir colonoscopia para nueva toma de biopsias. Se observan múltiples lesiones polipoideas sesiles de diferentes tamaños (mayor 8-9 mm) en mucosa gástrica y duodenal, irregulares, abullonadas con vascularización marcada, algunas erosionadas en su cúspide, disminuyendo en número conforme se avanza hacia duodeno distal, confirmándose además las lesiones descritas en la colonoscopia previa. El resultado histopatológico de las biopsias gástricas, duodenales y de colon fue de denso infiltrado linfoide difuso en mucosa y submucosa con destrucción glandular y lesión linfoepitelial, con linfocitos de talla pequeña y hábito centrocitoide con positividad para CD 20, ciclina D1, y bcl-2 con un Ki-67 del 30% todo ello compatible con infiltración gástrica, de intestino delgado y colon por linfoma del manto.\\nTras los hallazgos endoscópicos el paciente es remitido al servicio de hematología donde se completan estudios, que confirman el diagnóstico definitivo de linfoma no Hodgkin del manto estadio IVB con afectación gástrica y de intestino delgado y grueso.\\n\\n   \n",
       "S0210-48062007001000004-3                                                                                                                                                                                                                                                                                                                                                                                                                                                                                                                                                                                                                                                                                                                                                                                                                                                                                                                                                                                                                                                                                                                                                                                                                                                                                                                                                                                                                                                                                                                                                                                                                                                                                                                                                                                                                                        Paciente de 29 años que es remitido a nuestra consulta tras cuadro de dolor en teste derecho 3 meses atrás que remitió con tratamiento antiinflamatorio. Un mes después tuvo un nuevo cuadro de dolor en testículo derecho que fue diagnosticado de orquiepididimitis pero que no se resolvió con tratamiento médico.\\nComo antecedentes personales sólo destaca el ser alérgico a las Sulfamidas. No antecedentes urológicos de interés.\\nA la exploración física se palpa tumoración en polo posteroinferior de teste derecho indolora.\\nAnte la sospecha de tumor testicular se le solicita una analítica completa sanguínea con marcadores tumorales y una ecografía testicular, siendo los resultados de AFP 36.4 ng/ml y una Beta-hCG 4.2 mUI/ml. En la ecografía se observa una tumoración de 23 mm en polo inferior de teste derecho de características no quísticas sospechosa de neoplasia.\\nSe le interviene quirúrgicamente mediante una orquiectomía radical inguinal derecha cuya Anatomía Patológica informa de Tumor de Células Germinales mixto de 2 cm formado por Carcinoma Embrionario y focos de Teratoma. No invasión vascular ni linfática. Albugínea, cordón espermático y epidídimo libres de tumor.\\nAl ser un Tumor Germinal No Seminomatoso en Estadio I, se decide de mutuo acuerdo con el paciente no recibir tratamiento adyuvante con quimioterapia y seguir un control observacional estricto.\\nAl paciente se le realizan los controles periódicos según protocolo del nuestro hospital permaneciendo libre de enfermedad en las técnicas de imagen, clínica y analíticamente durante 7 años y medio hasta que en un estudio ultrasonográfico de control se le detecta microcalcificaciones en testículo izquierdo único con nódulo hipoecoico de 7 mm x 9 mm, también con calcificaciones y sin aumento de flujo Doppler que es compatible con tumor testicular. Además se observa un varicocele izquierdo.\\nLa exploración física resulta anodina, y los marcadores tumorales están dentro de la normalidad.\\nTras orquiectomía inguinal izquierda, la Anatomía Patológica informa de Seminoma de 0,5 cm que infiltra cápsula sobre testículo atrófico con extensa Neoplasia Intratubular de Células Germinales. No infiltración vascular ni linfática.\\nSe completó el tratamiento con quimioterapia y tratamiento hormonal sustitutivo.\\nActualmente lleva 4 años libre de enfermedad.\\n\\n   \n",
       "\n",
       "                              codigos  \n",
       "archivo                                \n",
       "S0004-06142006000700014-1  [r52, r59]  \n",
       "S1130-01082010000600013-1       [r10]  \n",
       "S0210-48062007001000004-3  [d49, r69]  "
      ]
     },
     "execution_count": 9,
     "metadata": {},
     "output_type": "execute_result"
    }
   ],
   "source": [
    "df_train.sample(3)"
   ]
  },
  {
   "cell_type": "markdown",
   "id": "dfc77de8-8256-4653-9de0-690dacc58095",
   "metadata": {},
   "source": [
    "## Cargar los textos del conjunto de test"
   ]
  },
  {
   "cell_type": "code",
   "execution_count": 10,
   "id": "09135955",
   "metadata": {},
   "outputs": [
    {
     "name": "stdout",
     "output_type": "stream",
     "text": [
      "<class 'pandas.core.frame.DataFrame'>\n",
      "RangeIndex: 192 entries, 0 to 191\n",
      "Data columns (total 1 columns):\n",
      " #   Column   Non-Null Count  Dtype \n",
      "---  ------   --------------  ----- \n",
      " 0   archivo  192 non-null    object\n",
      "dtypes: object(1)\n",
      "memory usage: 1.6+ KB\n"
     ]
    }
   ],
   "source": [
    "#los códigos están en un TSV con un código por línea\n",
    "test_diag = pd.read_csv(\"data/test/test.tsv\", sep=\"\\t\", header=None, names=['archivo'])\n",
    "test_diag.info()"
   ]
  },
  {
   "cell_type": "code",
   "execution_count": 11,
   "id": "977463ca",
   "metadata": {},
   "outputs": [],
   "source": [
    "path = 'data/test/text_files/'\n",
    "\n",
    "# Lista para almacenar los textos y sus códigos correspondientes\n",
    "corpus = []\n",
    "\n",
    "# Itera sobre los archivos de texto en el directorio\n",
    "for f in [f for f in os.listdir(path) if f.endswith('.txt')]:\n",
    "    with open(os.path.join(path, f), encoding=\"utf8\") as text:\n",
    "        texto = text.read()\n",
    "    \n",
    "    # Extrae el código del nombre del archivo\n",
    "    file = f[:-4]\n",
    "    \n",
    "    # Agrega el texto al corpus\n",
    "    corpus.append({\n",
    "        'archivo': file,\n",
    "        'texto': texto\n",
    "    })\n",
    "\n",
    "# Crea un DataFrame a partir del corpus\n",
    "df_test = pd.DataFrame(corpus).set_index('archivo')"
   ]
  },
  {
   "cell_type": "code",
   "execution_count": 12,
   "id": "22a7def9",
   "metadata": {},
   "outputs": [
    {
     "data": {
      "text/html": [
       "<div>\n",
       "<style scoped>\n",
       "    .dataframe tbody tr th:only-of-type {\n",
       "        vertical-align: middle;\n",
       "    }\n",
       "\n",
       "    .dataframe tbody tr th {\n",
       "        vertical-align: top;\n",
       "    }\n",
       "\n",
       "    .dataframe thead th {\n",
       "        text-align: right;\n",
       "    }\n",
       "</style>\n",
       "<table border=\"1\" class=\"dataframe\">\n",
       "  <thead>\n",
       "    <tr style=\"text-align: right;\">\n",
       "      <th></th>\n",
       "      <th>texto</th>\n",
       "    </tr>\n",
       "    <tr>\n",
       "      <th>archivo</th>\n",
       "      <th></th>\n",
       "    </tr>\n",
       "  </thead>\n",
       "  <tbody>\n",
       "    <tr>\n",
       "      <th>S0004-06142006000700011-1</th>\n",
       "      <td>Presentamos el caso de un varón de 61 años diagnosticado, intervenido y tratado por un adenocarcinoma rectal desde 18 meses antes. Consultó por aumento del tamaño peneano, doloroso, junto a la aparición de unas lesiones eritematosas, excrecentes y sangrantes al roce en la piel prepucial. Simultáneamente se apreciaba a la exploración linfedema hipogástrico, de la piel peneana y del escroto.\\n\\nSe procedió a su exéresis mediante circuncisión. El estudio anatomopatológico informó de metástasis subcutáneas prepuciales secundarias a adenocarcinoma intestinal. En la imagen macromicroscópica se apreciaba infiltración tumoral del epitelio de revestimiento plano escamoso dando lugar a una excrecencia carcinomatosa. Destacaba el escaso componente inflamatorio. A gran aumento se observa que el tumor infiltrante es un adenocarcinoma moderadamente diferenciado, de alto grado y con elevado índice mitótico.\\n\\nA pesar del tratamiento oncológico recibido el paciente falleció a los 4 meses del diagnóstico.\\n\\n</td>\n",
       "    </tr>\n",
       "    <tr>\n",
       "      <th>S1130-63432013000500014-1</th>\n",
       "      <td>Varón de 55 años diagnosticado en 2006 de LLC que recibió tratamiento inmunoquimioterápico en 2008 con Rituximab-Ciclofosfamida-Fludarabina alcanzando respuesta parcial. En 2011 se evidenció progresión de enfermedad e inició tratamiento de segunda línea con Rituximab 375mg/m2 día 1 del ciclo y Bendamustina 90 mg/m2 días 1 y 2 cada 28 días. Transcurridas 4 horas de la administración del día 1 del segundo ciclo inmunoquimioterápico, el paciente acudió a Urgencias presentando sensación distérmica, fiebre de 38oC y reacción urticariforme con prurito y eritrodermia descamativa en más del 50% de la superficie corporal que persistió 15 días. Se decidió la realización de pruebas cutáneas con bendamustina ante la posibilidad de que se tratase de una reacción alérgica a dicho citostático. La solución madre utilizada fue bendamustina 2,5mg/ml, realizándose diluciones 1/10, 1/100, 1/1000 y 1/10000 para administración intradérmica.\\nDada la buena tolerancia previa al rituximab durante 6 ciclos, se asoció la reacción cutánea a la bendamustina. La toxicodermia fue clasificada de grado 4 según la Common Toxicity Criteria (versión 4.0)9 y notificada mediante la tarjeta amarilla al Sistema Español de Farmacovigilancia. Las pruebas cutáneas realizadas resultaron negativas para todas las diluciones. Sin embargo, tras la valoración del beneficio/riesgo entre la gravedad de la toxicodermia y el potencial beneficio del tratamiento con bendamustina, se decidió elaborar un PD para la administración de los siguientes ciclos de bendamustina.\\nEl PD consistió en 12 etapas para la administración de la dosis total del fármaco (186,3mg). El protocolo consistió en ir aumentando de forma progresiva la velocidad de infusión y la concentración del fármaco, hasta alcanzar la dosis terapéutica total. Se prepararon 3 soluciones A, B, y C de las diluciones 1/100, 1/10 y 1/1 respectivamente. Cada una de las soluciones se utilizó durante cuatro pasos, incrementando la velocidad de infusión cada quince minutos, de manera que con cada paso se administraba el doble que en el paso anterior. En el último paso se mantuvo la velocidad constante hasta completar la administración de la dosis total definida. En la tabla 1 se resumen las soluciones y el esquema de administración del protocolo de desensibilización.\\n\\nLa administración se realizó en la planta de Hematología bajo supervisión médica, con una duración total de 5 horas y 37 minutos. El paciente recibió 6 ciclos de inmunoquimioterapia con bendamustina mediante dicho PD con discreto prurito cutáneo pero sin complicaciones graves.\\n\\n</td>\n",
       "    </tr>\n",
       "    <tr>\n",
       "      <th>S0365-66912012000200003-1</th>\n",
       "      <td>Mujer de 66 años de edad remitida a nuestro Servicio por clínica de uveítis en ojo derecho desde hacía un año. La paciente refería disminución de visión en dicho ojo pero no contaba miodesopsias, ni metamorfopsias. Entre los antecedentes médicos destacaba que hace doce años sufrió una hemorragia intracraneal que requirió intervención quirúrgica y transfusión de dos unidades de concentrado de hematíes.\\nEn la exploración oftalmológica la mejor agudeza visual corregida (MAVC) era 8/20 en el ojo derecho y 10/20 en el ojo izquierdo. En el examen con lámpara de hendidura se observaban restos celulares en vítreo sin signos de actividad. En el examen de fondo de ojo se observaba membrana epimacular en ambos ojos, no se encontraron signos de vasculitis retiniana, ni la presencia de snowballs o snowbanks. Con la tomografía de coherencia óptica se confirmaba la membrana epimacular. Se le diagnósticó una uveítis intermedia de etiología desconocida.\\n\\nEn los meses siguientes la paciente desarrolló debilidad progresiva en miembros inferiores llegando a desarrollar incapacidad para la marcha. Asimismo, consultó por un episodio de vitritis ++ que remitió con triamcinolona transeptal (TRIGON depot).\\nEn el estudio etiológico, tras descartar otras causas del cuadro neurológico, con resonancia magnética nuclear normal, ante la asociación de uveítis y mielopatía idiopática con hiperreflexia patelar, se solicitó serología para el VLHT-1 que resultó positiva por enzimoinmunoanálisis (EIA) para la detección de anticuerpos frente a VLHT-1 (ABBOTT HTLV-1/HTLV-2, Innogenetics N.V.). Las muestras por EIA se analizaron mediante un inmunoblot en tira, (INNO-LIATM HTLV I/II, Innogenetics N.V.) que confirmaron la presencia de anticuerpos frente al HTLV-1. Se estableció entonces el diagnóstico de paraparesia espástica tropical y uveítis intermedia por VLHT-1. Se le pautó tratamiento con prednisona oral mejorando su clínica neurológica así como su MAVC, alcanzando una visión de 14/20 en ojo derecho y 18/20 en ojo izquierdo.\\n\\n</td>\n",
       "    </tr>\n",
       "  </tbody>\n",
       "</table>\n",
       "</div>"
      ],
      "text/plain": [
       "                                                                                                                                                                                                                                                                                                                                                                                                                                                                                                                                                                                                                                                                                                                                                                                                                                                                                                                                                                                                                                                                                                                                                                                                                                                                                                                                                                                                                                                                                                                                                                                                                                                                                                                                                                                                                                                                                                                                                                                                                                                                                                                                                                                                                                                                                                                                                                                                                                                                                                                                                                                                                                                                                                                  texto\n",
       "archivo                                                                                                                                                                                                                                                                                                                                                                                                                                                                                                                                                                                                                                                                                                                                                                                                                                                                                                                                                                                                                                                                                                                                                                                                                                                                                                                                                                                                                                                                                                                                                                                                                                                                                                                                                                                                                                                                                                                                                                                                                                                                                                                                                                                                                                                                                                                                                                                                                                                                                                                                                                                                                                                                                                                \n",
       "S0004-06142006000700011-1                                                                                                                                                                                                                                                                                                                                                                                                                                                                                                                                                                                                                                                                                                                                                                                                                                                                                                                                                                                                                                                                                                                                                                                                                                                                                                                                                                                                                                                                                                                                                                                                                                              Presentamos el caso de un varón de 61 años diagnosticado, intervenido y tratado por un adenocarcinoma rectal desde 18 meses antes. Consultó por aumento del tamaño peneano, doloroso, junto a la aparición de unas lesiones eritematosas, excrecentes y sangrantes al roce en la piel prepucial. Simultáneamente se apreciaba a la exploración linfedema hipogástrico, de la piel peneana y del escroto.\\n\\nSe procedió a su exéresis mediante circuncisión. El estudio anatomopatológico informó de metástasis subcutáneas prepuciales secundarias a adenocarcinoma intestinal. En la imagen macromicroscópica se apreciaba infiltración tumoral del epitelio de revestimiento plano escamoso dando lugar a una excrecencia carcinomatosa. Destacaba el escaso componente inflamatorio. A gran aumento se observa que el tumor infiltrante es un adenocarcinoma moderadamente diferenciado, de alto grado y con elevado índice mitótico.\\n\\nA pesar del tratamiento oncológico recibido el paciente falleció a los 4 meses del diagnóstico.\\n\\n\n",
       "S1130-63432013000500014-1  Varón de 55 años diagnosticado en 2006 de LLC que recibió tratamiento inmunoquimioterápico en 2008 con Rituximab-Ciclofosfamida-Fludarabina alcanzando respuesta parcial. En 2011 se evidenció progresión de enfermedad e inició tratamiento de segunda línea con Rituximab 375mg/m2 día 1 del ciclo y Bendamustina 90 mg/m2 días 1 y 2 cada 28 días. Transcurridas 4 horas de la administración del día 1 del segundo ciclo inmunoquimioterápico, el paciente acudió a Urgencias presentando sensación distérmica, fiebre de 38oC y reacción urticariforme con prurito y eritrodermia descamativa en más del 50% de la superficie corporal que persistió 15 días. Se decidió la realización de pruebas cutáneas con bendamustina ante la posibilidad de que se tratase de una reacción alérgica a dicho citostático. La solución madre utilizada fue bendamustina 2,5mg/ml, realizándose diluciones 1/10, 1/100, 1/1000 y 1/10000 para administración intradérmica.\\nDada la buena tolerancia previa al rituximab durante 6 ciclos, se asoció la reacción cutánea a la bendamustina. La toxicodermia fue clasificada de grado 4 según la Common Toxicity Criteria (versión 4.0)9 y notificada mediante la tarjeta amarilla al Sistema Español de Farmacovigilancia. Las pruebas cutáneas realizadas resultaron negativas para todas las diluciones. Sin embargo, tras la valoración del beneficio/riesgo entre la gravedad de la toxicodermia y el potencial beneficio del tratamiento con bendamustina, se decidió elaborar un PD para la administración de los siguientes ciclos de bendamustina.\\nEl PD consistió en 12 etapas para la administración de la dosis total del fármaco (186,3mg). El protocolo consistió en ir aumentando de forma progresiva la velocidad de infusión y la concentración del fármaco, hasta alcanzar la dosis terapéutica total. Se prepararon 3 soluciones A, B, y C de las diluciones 1/100, 1/10 y 1/1 respectivamente. Cada una de las soluciones se utilizó durante cuatro pasos, incrementando la velocidad de infusión cada quince minutos, de manera que con cada paso se administraba el doble que en el paso anterior. En el último paso se mantuvo la velocidad constante hasta completar la administración de la dosis total definida. En la tabla 1 se resumen las soluciones y el esquema de administración del protocolo de desensibilización.\\n\\nLa administración se realizó en la planta de Hematología bajo supervisión médica, con una duración total de 5 horas y 37 minutos. El paciente recibió 6 ciclos de inmunoquimioterapia con bendamustina mediante dicho PD con discreto prurito cutáneo pero sin complicaciones graves.\\n\\n\n",
       "S0365-66912012000200003-1                                                                                                                                                                                                                                                                                                                                                                                                                                                                                                                                                                              Mujer de 66 años de edad remitida a nuestro Servicio por clínica de uveítis en ojo derecho desde hacía un año. La paciente refería disminución de visión en dicho ojo pero no contaba miodesopsias, ni metamorfopsias. Entre los antecedentes médicos destacaba que hace doce años sufrió una hemorragia intracraneal que requirió intervención quirúrgica y transfusión de dos unidades de concentrado de hematíes.\\nEn la exploración oftalmológica la mejor agudeza visual corregida (MAVC) era 8/20 en el ojo derecho y 10/20 en el ojo izquierdo. En el examen con lámpara de hendidura se observaban restos celulares en vítreo sin signos de actividad. En el examen de fondo de ojo se observaba membrana epimacular en ambos ojos, no se encontraron signos de vasculitis retiniana, ni la presencia de snowballs o snowbanks. Con la tomografía de coherencia óptica se confirmaba la membrana epimacular. Se le diagnósticó una uveítis intermedia de etiología desconocida.\\n\\nEn los meses siguientes la paciente desarrolló debilidad progresiva en miembros inferiores llegando a desarrollar incapacidad para la marcha. Asimismo, consultó por un episodio de vitritis ++ que remitió con triamcinolona transeptal (TRIGON depot).\\nEn el estudio etiológico, tras descartar otras causas del cuadro neurológico, con resonancia magnética nuclear normal, ante la asociación de uveítis y mielopatía idiopática con hiperreflexia patelar, se solicitó serología para el VLHT-1 que resultó positiva por enzimoinmunoanálisis (EIA) para la detección de anticuerpos frente a VLHT-1 (ABBOTT HTLV-1/HTLV-2, Innogenetics N.V.). Las muestras por EIA se analizaron mediante un inmunoblot en tira, (INNO-LIATM HTLV I/II, Innogenetics N.V.) que confirmaron la presencia de anticuerpos frente al HTLV-1. Se estableció entonces el diagnóstico de paraparesia espástica tropical y uveítis intermedia por VLHT-1. Se le pautó tratamiento con prednisona oral mejorando su clínica neurológica así como su MAVC, alcanzando una visión de 14/20 en ojo derecho y 18/20 en ojo izquierdo.\\n\\n"
      ]
     },
     "execution_count": 12,
     "metadata": {},
     "output_type": "execute_result"
    }
   ],
   "source": [
    "df_test.sample(3)"
   ]
  },
  {
   "cell_type": "markdown",
   "id": "b472f280-db6a-438d-8340-f7b19758399b",
   "metadata": {},
   "source": [
    "## Binarizar las etiquetas"
   ]
  },
  {
   "cell_type": "code",
   "execution_count": 13,
   "id": "ae41be51-448e-433b-b10f-b4236afbaa7a",
   "metadata": {},
   "outputs": [
    {
     "name": "stdout",
     "output_type": "stream",
     "text": [
      "10\n"
     ]
    }
   ],
   "source": [
    "# para entrenar un clasificador multi-etiqueta generamos una matriz binaria de las etiquetas\n",
    "from sklearn.preprocessing import MultiLabelBinarizer\n",
    "\n",
    "mlb = MultiLabelBinarizer()\n",
    "y_train = mlb.fit_transform(df_train['codigos'])\n",
    "\n",
    "#Guardamos las clases utilizadas en el conjunto de train\n",
    "clases = mlb.classes_\n",
    "num_classes = clases.shape\n",
    "print(num_classes[0])"
   ]
  },
  {
   "cell_type": "markdown",
   "id": "6431f372-160e-4082-8540-33d40c09e745",
   "metadata": {},
   "source": [
    "## Procesamiento del lenguaje natural"
   ]
  },
  {
   "cell_type": "code",
   "execution_count": 14,
   "id": "eb7c1b10-8fe0-4786-a5bc-0ae2a5384272",
   "metadata": {},
   "outputs": [],
   "source": [
    "import utils\n",
    "\n",
    "df_train_clean = utils.clean_corpus(df_train, column_name='texto')\n",
    "df_test_clean = utils.clean_corpus(df_test, column_name='texto')"
   ]
  },
  {
   "cell_type": "code",
   "execution_count": 15,
   "id": "8476ec88-d3f6-477f-8cc9-d298ce8077b9",
   "metadata": {},
   "outputs": [],
   "source": [
    "# Hacerlo solo la primera vez\n",
    "\n",
    "#import nltk\n",
    "#nltk.download('punkt')"
   ]
  },
  {
   "cell_type": "code",
   "execution_count": 16,
   "id": "cd2a2111-b1cc-44a9-aaf6-4b215fcb1f1d",
   "metadata": {},
   "outputs": [
    {
     "ename": "LookupError",
     "evalue": "\n**********************************************************************\n  Resource \u001b[93mpunkt\u001b[0m not found.\n  Please use the NLTK Downloader to obtain the resource:\n\n  \u001b[31m>>> import nltk\n  >>> nltk.download('punkt')\n  \u001b[0m\n  For more information see: https://www.nltk.org/data.html\n\n  Attempted to load \u001b[93mtokenizers/punkt/english.pickle\u001b[0m\n\n  Searched in:\n    - 'C:\\\\Users\\\\aitoo/nltk_data'\n    - 'c:\\\\Users\\\\aitoo\\\\anaconda3\\\\nltk_data'\n    - 'c:\\\\Users\\\\aitoo\\\\anaconda3\\\\share\\\\nltk_data'\n    - 'c:\\\\Users\\\\aitoo\\\\anaconda3\\\\lib\\\\nltk_data'\n    - 'C:\\\\Users\\\\aitoo\\\\AppData\\\\Roaming\\\\nltk_data'\n    - 'C:\\\\nltk_data'\n    - 'D:\\\\nltk_data'\n    - 'E:\\\\nltk_data'\n    - ''\n**********************************************************************\n",
     "output_type": "error",
     "traceback": [
      "\u001b[1;31m---------------------------------------------------------------------------\u001b[0m",
      "\u001b[1;31mLookupError\u001b[0m                               Traceback (most recent call last)",
      "Cell \u001b[1;32mIn[16], line 3\u001b[0m\n\u001b[0;32m      1\u001b[0m \u001b[38;5;66;03m#Hay un vocabulario demasiado grande como para representarlo en una BoW\u001b[39;00m\n\u001b[1;32m----> 3\u001b[0m utils\u001b[38;5;241m.\u001b[39mplot_bow_heatmap(df_train_clean, column_name\u001b[38;5;241m=\u001b[39m\u001b[38;5;124m'\u001b[39m\u001b[38;5;124mtexto\u001b[39m\u001b[38;5;124m'\u001b[39m, n_words\u001b[38;5;241m=\u001b[39m\u001b[38;5;241m10\u001b[39m, n_grams\u001b[38;5;241m=\u001b[39m\u001b[38;5;241m1\u001b[39m)\n",
      "File \u001b[1;32mc:\\Users\\aitoo\\Documents\\NLP\\CHALLENGE\\DataChallenge\\utils.py:118\u001b[0m, in \u001b[0;36mplot_bow_heatmap\u001b[1;34m(df, column_name, n_words, n_grams)\u001b[0m\n\u001b[0;32m    115\u001b[0m corpus \u001b[38;5;241m=\u001b[39m df[column_name]\n\u001b[0;32m    117\u001b[0m \u001b[38;5;66;03m# Tokenizar el corpus en palabras\u001b[39;00m\n\u001b[1;32m--> 118\u001b[0m tokenized_corpus \u001b[38;5;241m=\u001b[39m [word_tokenize(doc\u001b[38;5;241m.\u001b[39mlower()) \u001b[38;5;28;01mfor\u001b[39;00m doc \u001b[38;5;129;01min\u001b[39;00m corpus]\n\u001b[0;32m    120\u001b[0m \u001b[38;5;66;03m# Entrenar el modelo de n-gramas\u001b[39;00m\n\u001b[0;32m    121\u001b[0m ngram_model \u001b[38;5;241m=\u001b[39m Phrases(tokenized_corpus, min_count\u001b[38;5;241m=\u001b[39m\u001b[38;5;241m5\u001b[39m, threshold\u001b[38;5;241m=\u001b[39m\u001b[38;5;241m100\u001b[39m)\n",
      "File \u001b[1;32mc:\\Users\\aitoo\\Documents\\NLP\\CHALLENGE\\DataChallenge\\utils.py:118\u001b[0m, in \u001b[0;36m<listcomp>\u001b[1;34m(.0)\u001b[0m\n\u001b[0;32m    115\u001b[0m corpus \u001b[38;5;241m=\u001b[39m df[column_name]\n\u001b[0;32m    117\u001b[0m \u001b[38;5;66;03m# Tokenizar el corpus en palabras\u001b[39;00m\n\u001b[1;32m--> 118\u001b[0m tokenized_corpus \u001b[38;5;241m=\u001b[39m [word_tokenize(doc\u001b[38;5;241m.\u001b[39mlower()) \u001b[38;5;28;01mfor\u001b[39;00m doc \u001b[38;5;129;01min\u001b[39;00m corpus]\n\u001b[0;32m    120\u001b[0m \u001b[38;5;66;03m# Entrenar el modelo de n-gramas\u001b[39;00m\n\u001b[0;32m    121\u001b[0m ngram_model \u001b[38;5;241m=\u001b[39m Phrases(tokenized_corpus, min_count\u001b[38;5;241m=\u001b[39m\u001b[38;5;241m5\u001b[39m, threshold\u001b[38;5;241m=\u001b[39m\u001b[38;5;241m100\u001b[39m)\n",
      "File \u001b[1;32mc:\\Users\\aitoo\\anaconda3\\Lib\\site-packages\\nltk\\tokenize\\__init__.py:129\u001b[0m, in \u001b[0;36mword_tokenize\u001b[1;34m(text, language, preserve_line)\u001b[0m\n\u001b[0;32m    114\u001b[0m \u001b[38;5;28;01mdef\u001b[39;00m \u001b[38;5;21mword_tokenize\u001b[39m(text, language\u001b[38;5;241m=\u001b[39m\u001b[38;5;124m\"\u001b[39m\u001b[38;5;124menglish\u001b[39m\u001b[38;5;124m\"\u001b[39m, preserve_line\u001b[38;5;241m=\u001b[39m\u001b[38;5;28;01mFalse\u001b[39;00m):\n\u001b[0;32m    115\u001b[0m \u001b[38;5;250m    \u001b[39m\u001b[38;5;124;03m\"\"\"\u001b[39;00m\n\u001b[0;32m    116\u001b[0m \u001b[38;5;124;03m    Return a tokenized copy of *text*,\u001b[39;00m\n\u001b[0;32m    117\u001b[0m \u001b[38;5;124;03m    using NLTK's recommended word tokenizer\u001b[39;00m\n\u001b[1;32m   (...)\u001b[0m\n\u001b[0;32m    127\u001b[0m \u001b[38;5;124;03m    :type preserve_line: bool\u001b[39;00m\n\u001b[0;32m    128\u001b[0m \u001b[38;5;124;03m    \"\"\"\u001b[39;00m\n\u001b[1;32m--> 129\u001b[0m     sentences \u001b[38;5;241m=\u001b[39m [text] \u001b[38;5;28;01mif\u001b[39;00m preserve_line \u001b[38;5;28;01melse\u001b[39;00m sent_tokenize(text, language)\n\u001b[0;32m    130\u001b[0m     \u001b[38;5;28;01mreturn\u001b[39;00m [\n\u001b[0;32m    131\u001b[0m         token \u001b[38;5;28;01mfor\u001b[39;00m sent \u001b[38;5;129;01min\u001b[39;00m sentences \u001b[38;5;28;01mfor\u001b[39;00m token \u001b[38;5;129;01min\u001b[39;00m _treebank_word_tokenizer\u001b[38;5;241m.\u001b[39mtokenize(sent)\n\u001b[0;32m    132\u001b[0m     ]\n",
      "File \u001b[1;32mc:\\Users\\aitoo\\anaconda3\\Lib\\site-packages\\nltk\\tokenize\\__init__.py:106\u001b[0m, in \u001b[0;36msent_tokenize\u001b[1;34m(text, language)\u001b[0m\n\u001b[0;32m     96\u001b[0m \u001b[38;5;28;01mdef\u001b[39;00m \u001b[38;5;21msent_tokenize\u001b[39m(text, language\u001b[38;5;241m=\u001b[39m\u001b[38;5;124m\"\u001b[39m\u001b[38;5;124menglish\u001b[39m\u001b[38;5;124m\"\u001b[39m):\n\u001b[0;32m     97\u001b[0m \u001b[38;5;250m    \u001b[39m\u001b[38;5;124;03m\"\"\"\u001b[39;00m\n\u001b[0;32m     98\u001b[0m \u001b[38;5;124;03m    Return a sentence-tokenized copy of *text*,\u001b[39;00m\n\u001b[0;32m     99\u001b[0m \u001b[38;5;124;03m    using NLTK's recommended sentence tokenizer\u001b[39;00m\n\u001b[1;32m   (...)\u001b[0m\n\u001b[0;32m    104\u001b[0m \u001b[38;5;124;03m    :param language: the model name in the Punkt corpus\u001b[39;00m\n\u001b[0;32m    105\u001b[0m \u001b[38;5;124;03m    \"\"\"\u001b[39;00m\n\u001b[1;32m--> 106\u001b[0m     tokenizer \u001b[38;5;241m=\u001b[39m load(\u001b[38;5;124mf\u001b[39m\u001b[38;5;124m\"\u001b[39m\u001b[38;5;124mtokenizers/punkt/\u001b[39m\u001b[38;5;132;01m{\u001b[39;00mlanguage\u001b[38;5;132;01m}\u001b[39;00m\u001b[38;5;124m.pickle\u001b[39m\u001b[38;5;124m\"\u001b[39m)\n\u001b[0;32m    107\u001b[0m     \u001b[38;5;28;01mreturn\u001b[39;00m tokenizer\u001b[38;5;241m.\u001b[39mtokenize(text)\n",
      "File \u001b[1;32mc:\\Users\\aitoo\\anaconda3\\Lib\\site-packages\\nltk\\data.py:750\u001b[0m, in \u001b[0;36mload\u001b[1;34m(resource_url, format, cache, verbose, logic_parser, fstruct_reader, encoding)\u001b[0m\n\u001b[0;32m    747\u001b[0m     \u001b[38;5;28mprint\u001b[39m(\u001b[38;5;124mf\u001b[39m\u001b[38;5;124m\"\u001b[39m\u001b[38;5;124m<<Loading \u001b[39m\u001b[38;5;132;01m{\u001b[39;00mresource_url\u001b[38;5;132;01m}\u001b[39;00m\u001b[38;5;124m>>\u001b[39m\u001b[38;5;124m\"\u001b[39m)\n\u001b[0;32m    749\u001b[0m \u001b[38;5;66;03m# Load the resource.\u001b[39;00m\n\u001b[1;32m--> 750\u001b[0m opened_resource \u001b[38;5;241m=\u001b[39m _open(resource_url)\n\u001b[0;32m    752\u001b[0m \u001b[38;5;28;01mif\u001b[39;00m \u001b[38;5;28mformat\u001b[39m \u001b[38;5;241m==\u001b[39m \u001b[38;5;124m\"\u001b[39m\u001b[38;5;124mraw\u001b[39m\u001b[38;5;124m\"\u001b[39m:\n\u001b[0;32m    753\u001b[0m     resource_val \u001b[38;5;241m=\u001b[39m opened_resource\u001b[38;5;241m.\u001b[39mread()\n",
      "File \u001b[1;32mc:\\Users\\aitoo\\anaconda3\\Lib\\site-packages\\nltk\\data.py:876\u001b[0m, in \u001b[0;36m_open\u001b[1;34m(resource_url)\u001b[0m\n\u001b[0;32m    873\u001b[0m protocol, path_ \u001b[38;5;241m=\u001b[39m split_resource_url(resource_url)\n\u001b[0;32m    875\u001b[0m \u001b[38;5;28;01mif\u001b[39;00m protocol \u001b[38;5;129;01mis\u001b[39;00m \u001b[38;5;28;01mNone\u001b[39;00m \u001b[38;5;129;01mor\u001b[39;00m protocol\u001b[38;5;241m.\u001b[39mlower() \u001b[38;5;241m==\u001b[39m \u001b[38;5;124m\"\u001b[39m\u001b[38;5;124mnltk\u001b[39m\u001b[38;5;124m\"\u001b[39m:\n\u001b[1;32m--> 876\u001b[0m     \u001b[38;5;28;01mreturn\u001b[39;00m find(path_, path \u001b[38;5;241m+\u001b[39m [\u001b[38;5;124m\"\u001b[39m\u001b[38;5;124m\"\u001b[39m])\u001b[38;5;241m.\u001b[39mopen()\n\u001b[0;32m    877\u001b[0m \u001b[38;5;28;01melif\u001b[39;00m protocol\u001b[38;5;241m.\u001b[39mlower() \u001b[38;5;241m==\u001b[39m \u001b[38;5;124m\"\u001b[39m\u001b[38;5;124mfile\u001b[39m\u001b[38;5;124m\"\u001b[39m:\n\u001b[0;32m    878\u001b[0m     \u001b[38;5;66;03m# urllib might not use mode='rb', so handle this one ourselves:\u001b[39;00m\n\u001b[0;32m    879\u001b[0m     \u001b[38;5;28;01mreturn\u001b[39;00m find(path_, [\u001b[38;5;124m\"\u001b[39m\u001b[38;5;124m\"\u001b[39m])\u001b[38;5;241m.\u001b[39mopen()\n",
      "File \u001b[1;32mc:\\Users\\aitoo\\anaconda3\\Lib\\site-packages\\nltk\\data.py:583\u001b[0m, in \u001b[0;36mfind\u001b[1;34m(resource_name, paths)\u001b[0m\n\u001b[0;32m    581\u001b[0m sep \u001b[38;5;241m=\u001b[39m \u001b[38;5;124m\"\u001b[39m\u001b[38;5;124m*\u001b[39m\u001b[38;5;124m\"\u001b[39m \u001b[38;5;241m*\u001b[39m \u001b[38;5;241m70\u001b[39m\n\u001b[0;32m    582\u001b[0m resource_not_found \u001b[38;5;241m=\u001b[39m \u001b[38;5;124mf\u001b[39m\u001b[38;5;124m\"\u001b[39m\u001b[38;5;130;01m\\n\u001b[39;00m\u001b[38;5;132;01m{\u001b[39;00msep\u001b[38;5;132;01m}\u001b[39;00m\u001b[38;5;130;01m\\n\u001b[39;00m\u001b[38;5;132;01m{\u001b[39;00mmsg\u001b[38;5;132;01m}\u001b[39;00m\u001b[38;5;130;01m\\n\u001b[39;00m\u001b[38;5;132;01m{\u001b[39;00msep\u001b[38;5;132;01m}\u001b[39;00m\u001b[38;5;130;01m\\n\u001b[39;00m\u001b[38;5;124m\"\u001b[39m\n\u001b[1;32m--> 583\u001b[0m \u001b[38;5;28;01mraise\u001b[39;00m \u001b[38;5;167;01mLookupError\u001b[39;00m(resource_not_found)\n",
      "\u001b[1;31mLookupError\u001b[0m: \n**********************************************************************\n  Resource \u001b[93mpunkt\u001b[0m not found.\n  Please use the NLTK Downloader to obtain the resource:\n\n  \u001b[31m>>> import nltk\n  >>> nltk.download('punkt')\n  \u001b[0m\n  For more information see: https://www.nltk.org/data.html\n\n  Attempted to load \u001b[93mtokenizers/punkt/english.pickle\u001b[0m\n\n  Searched in:\n    - 'C:\\\\Users\\\\aitoo/nltk_data'\n    - 'c:\\\\Users\\\\aitoo\\\\anaconda3\\\\nltk_data'\n    - 'c:\\\\Users\\\\aitoo\\\\anaconda3\\\\share\\\\nltk_data'\n    - 'c:\\\\Users\\\\aitoo\\\\anaconda3\\\\lib\\\\nltk_data'\n    - 'C:\\\\Users\\\\aitoo\\\\AppData\\\\Roaming\\\\nltk_data'\n    - 'C:\\\\nltk_data'\n    - 'D:\\\\nltk_data'\n    - 'E:\\\\nltk_data'\n    - ''\n**********************************************************************\n"
     ]
    }
   ],
   "source": [
    "#Hay un vocabulario demasiado grande como para representarlo en una BoW\n",
    "\n",
    "utils.plot_bow_heatmap(df_train_clean, column_name='texto', n_words=10, n_grams=1)"
   ]
  },
  {
   "cell_type": "code",
   "execution_count": null,
   "id": "a3347eb0-e6ed-458c-908d-34f23a56180a",
   "metadata": {},
   "outputs": [],
   "source": []
  },
  {
   "cell_type": "code",
   "execution_count": null,
   "id": "0689372a-2ed7-45d5-895c-92b4f773c428",
   "metadata": {},
   "outputs": [],
   "source": []
  },
  {
   "cell_type": "markdown",
   "id": "09324f7e-ee73-41e9-b94f-a0a6a5e38b02",
   "metadata": {},
   "source": [
    "## Modelos"
   ]
  },
  {
   "cell_type": "code",
   "execution_count": 17,
   "id": "a284d656",
   "metadata": {},
   "outputs": [],
   "source": [
    "from sklearn.feature_extraction.text import TfidfVectorizer\n",
    "from sklearn.pipeline import Pipeline\n",
    "from sklearn.multiclass import OneVsRestClassifier\n",
    "from sklearn.ensemble import RandomForestClassifier\n",
    "from sklearn.naive_bayes import MultinomialNB\n",
    "from sklearn.metrics import accuracy_score, f1_score\n",
    "from sklearn.model_selection import train_test_split\n",
    "from sklearn.svm import SVC\n",
    "from sklearn.linear_model import LogisticRegression\n"
   ]
  },
  {
   "cell_type": "code",
   "execution_count": 18,
   "id": "f12cc452",
   "metadata": {},
   "outputs": [],
   "source": [
    "# Vectorizar el texto utilizando TF-IDF\n",
    "vectorizer = TfidfVectorizer(max_features=10000)\n",
    "X_train_vectorized = vectorizer.fit_transform(df_train_clean['texto'])\n",
    "\n",
    "X_train_split, X_val_split, y_train_split, y_val_split = train_test_split(X_train_vectorized, y_train, test_size=0.2, random_state=42)"
   ]
  },
  {
   "cell_type": "code",
   "execution_count": 19,
   "id": "1f6c8dcb",
   "metadata": {},
   "outputs": [],
   "source": [
    "model = Pipeline([\n",
    "    ('clf', OneVsRestClassifier(RandomForestClassifier()))\n",
    "])"
   ]
  },
  {
   "cell_type": "code",
   "execution_count": 20,
   "id": "c3b6b649",
   "metadata": {},
   "outputs": [
    {
     "name": "stdout",
     "output_type": "stream",
     "text": [
      "Validation Accuracy: 0.05309734513274336\n",
      "Validation F1-score: 0.29007633587786263\n"
     ]
    }
   ],
   "source": [
    "# Entrenar el modelo con los datos de entrenamiento y validar con los datos de validación\n",
    "model.fit(X_train_split, y_train_split)\n",
    "\n",
    "# Realizar predicciones en el conjunto de validación\n",
    "y_val_pred = model.predict(X_val_split)\n",
    "\n",
    "# Calcular la precisión y F1-score en el conjunto de validación\n",
    "accuracy_val = accuracy_score(y_val_split, y_val_pred)\n",
    "f1_val = f1_score(y_val_split, y_val_pred, average='micro')\n",
    "\n",
    "print(\"Validation Accuracy:\", accuracy_val)\n",
    "print(\"Validation F1-score:\", f1_val)"
   ]
  },
  {
   "cell_type": "code",
   "execution_count": 21,
   "id": "8769c284",
   "metadata": {},
   "outputs": [],
   "source": [
    "from xgboost import XGBClassifier"
   ]
  },
  {
   "cell_type": "code",
   "execution_count": 22,
   "id": "df4a232b-c840-4d51-8c00-2000c91fd83a",
   "metadata": {},
   "outputs": [],
   "source": [
    "model2 = Pipeline([\n",
    "    ('clf', OneVsRestClassifier(XGBClassifier()))\n",
    "])"
   ]
  },
  {
   "cell_type": "code",
   "execution_count": 23,
   "id": "9ed98953-a8f9-453f-b107-8653c037a824",
   "metadata": {},
   "outputs": [
    {
     "name": "stdout",
     "output_type": "stream",
     "text": [
      "Validation Accuracy: 0.4336283185840708\n",
      "Validation F1-score: 0.8115942028985508\n"
     ]
    }
   ],
   "source": [
    "# Entrenar el modelo con los datos de entrenamiento y validar con los datos de validación\n",
    "model2.fit(X_train_split, y_train_split)\n",
    "\n",
    "# Realizar predicciones en el conjunto de validación\n",
    "y_val_pred = model2.predict(X_val_split)\n",
    "\n",
    "# Calcular la precisión y F1-score en el conjunto de validación\n",
    "accuracy_val = accuracy_score(y_val_split, y_val_pred)\n",
    "f1_val = f1_score(y_val_split, y_val_pred, average='micro')\n",
    "\n",
    "print(\"Validation Accuracy:\", accuracy_val)\n",
    "print(\"Validation F1-score:\", f1_val)"
   ]
  },
  {
   "cell_type": "code",
   "execution_count": 24,
   "id": "d5609387",
   "metadata": {},
   "outputs": [],
   "source": [
    "from sklearn.ensemble import AdaBoostClassifier"
   ]
  },
  {
   "cell_type": "code",
   "execution_count": 25,
   "id": "59e6add7-769c-40b6-931b-1fca0721a749",
   "metadata": {},
   "outputs": [],
   "source": [
    "model3 = Pipeline([\n",
    "    ('clf', OneVsRestClassifier(AdaBoostClassifier()))\n",
    "])"
   ]
  },
  {
   "cell_type": "code",
   "execution_count": 26,
   "id": "a4bdeabe-13e4-48f6-bc3c-0538b3394303",
   "metadata": {},
   "outputs": [
    {
     "name": "stdout",
     "output_type": "stream",
     "text": [
      "Validation Accuracy: 0.4424778761061947\n",
      "Validation F1-score: 0.815347721822542\n"
     ]
    }
   ],
   "source": [
    "# Entrenar el modelo con los datos de entrenamiento y validar con los datos de validación\n",
    "model3.fit(X_train_split, y_train_split)\n",
    "\n",
    "# Realizar predicciones en el conjunto de validación\n",
    "y_val_pred = model3.predict(X_val_split)\n",
    "\n",
    "# Calcular la precisión y F1-score en el conjunto de validación\n",
    "accuracy_val = accuracy_score(y_val_split, y_val_pred)\n",
    "f1_val = f1_score(y_val_split, y_val_pred, average='micro')\n",
    "\n",
    "print(\"Validation Accuracy:\", accuracy_val)\n",
    "print(\"Validation F1-score:\", f1_val)"
   ]
  },
  {
   "cell_type": "markdown",
   "id": "55595515",
   "metadata": {},
   "source": [
    "### Modelo huggingface"
   ]
  },
  {
   "cell_type": "code",
   "execution_count": 48,
   "id": "83a94848",
   "metadata": {},
   "outputs": [
    {
     "name": "stdout",
     "output_type": "stream",
     "text": [
      "  (0, 5987)\t0.07498257545234702\n",
      "  (0, 9319)\t0.22494772635704105\n",
      "  (0, 8339)\t0.07498257545234702\n",
      "  (0, 6005)\t0.07498257545234702\n",
      "  (0, 6069)\t0.07498257545234702\n",
      "  (0, 7915)\t0.07498257545234702\n",
      "  (0, 583)\t0.07040392912231846\n",
      "  (0, 581)\t0.07040392912231846\n",
      "  (0, 4697)\t0.22494772635704105\n",
      "  (0, 6412)\t0.07040392912231846\n",
      "  (0, 9972)\t0.07498257545234702\n",
      "  (0, 2206)\t0.14996515090469403\n",
      "  (0, 6238)\t0.14996515090469403\n",
      "  (0, 9880)\t0.14996515090469403\n",
      "  (0, 3840)\t0.22494772635704105\n",
      "  (0, 219)\t0.14996515090469403\n",
      "  (0, 6768)\t0.07040392912231846\n",
      "  (0, 6793)\t0.07040392912231846\n",
      "  (0, 5025)\t0.06257668152202976\n",
      "  (0, 5392)\t0.0646355169438857\n",
      "  (0, 2424)\t0.06257668152202976\n",
      "  (0, 2098)\t0.057998035192001224\n",
      "  (0, 3509)\t0.07040392912231846\n",
      "  (0, 9878)\t0.06715532785205831\n",
      "  (0, 3498)\t0.06257668152202976\n",
      "  :\t:\n",
      "  (448, 4662)\t0.06211201016199126\n",
      "  (448, 5081)\t0.10235397862668232\n",
      "  (448, 1790)\t0.06278723791806261\n",
      "  (448, 9720)\t0.038172786965036266\n",
      "  (448, 731)\t0.03600007852990442\n",
      "  (448, 9222)\t0.057376532038728216\n",
      "  (448, 2364)\t0.04828504343469752\n",
      "  (448, 8937)\t0.22975402209133397\n",
      "  (448, 8935)\t0.05451188982561659\n",
      "  (448, 8834)\t0.06682116641453098\n",
      "  (448, 8)\t0.03105600508099563\n",
      "  (448, 2633)\t0.061290103223913955\n",
      "  (448, 4228)\t0.040414756991641904\n",
      "  (448, 7212)\t0.039781180417807295\n",
      "  (448, 7888)\t0.04662427010027531\n",
      "  (448, 2186)\t0.08163381030917717\n",
      "  (448, 8933)\t0.12524295600913515\n",
      "  (448, 140)\t0.03993692460470496\n",
      "  (448, 3476)\t0.030483967510048584\n",
      "  (448, 3244)\t0.022596347784707316\n",
      "  (448, 2184)\t0.03165224466477889\n",
      "  (448, 513)\t0.02099737907685598\n",
      "  (448, 3116)\t0.09657008686939504\n",
      "  (448, 1986)\t0.030324703606438366\n",
      "  (448, 503)\t0.029157164232381863\n"
     ]
    }
   ],
   "source": [
    "print(X_train_split)"
   ]
  },
  {
   "cell_type": "code",
   "execution_count": null,
   "id": "717a1583",
   "metadata": {},
   "outputs": [],
   "source": []
  },
  {
   "cell_type": "markdown",
   "id": "c2c7119e-b68d-447f-ae89-ef18c223ebf8",
   "metadata": {},
   "source": [
    "## Guardar predicciones de Test"
   ]
  },
  {
   "cell_type": "code",
   "execution_count": null,
   "id": "ff863c1c-9821-4ad4-a912-1abe400f5c46",
   "metadata": {},
   "outputs": [],
   "source": []
  },
  {
   "cell_type": "code",
   "execution_count": null,
   "id": "942d26ad-7138-4f00-a07d-44a47b5c233c",
   "metadata": {},
   "outputs": [],
   "source": []
  }
 ],
 "metadata": {
  "kernelspec": {
   "display_name": "Python 3 (ipykernel)",
   "language": "python",
   "name": "python3"
  },
  "language_info": {
   "codemirror_mode": {
    "name": "ipython",
    "version": 3
   },
   "file_extension": ".py",
   "mimetype": "text/x-python",
   "name": "python",
   "nbconvert_exporter": "python",
   "pygments_lexer": "ipython3",
   "version": "3.11.5"
  }
 },
 "nbformat": 4,
 "nbformat_minor": 5
}
