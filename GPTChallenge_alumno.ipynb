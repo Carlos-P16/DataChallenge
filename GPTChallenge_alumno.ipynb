{
  "cells": [
    {
      "cell_type": "markdown",
      "id": "9eca6be9-3ab2-4756-80a0-4880568d1cd7",
      "metadata": {
        "id": "9eca6be9-3ab2-4756-80a0-4880568d1cd7"
      },
      "source": [
        "# GPTChallenge: diagnóstico a partir de HCE"
      ]
    },
    {
      "cell_type": "markdown",
      "id": "de358c45-755b-4fad-9d68-72e591de8b4b",
      "metadata": {
        "id": "de358c45-755b-4fad-9d68-72e591de8b4b"
      },
      "source": [
        "Vamos a trabajar con el corpus CodEsp (textos de historial clínico etiquetados con sus códigos CIE-10 Diagnóstico)"
      ]
    },
    {
      "cell_type": "code",
      "execution_count": 2,
      "id": "mYu-VRFpDNxr",
      "metadata": {
        "id": "mYu-VRFpDNxr"
      },
      "outputs": [],
      "source": [
        "# !unzip DataChallenge.zip"
      ]
    },
    {
      "cell_type": "code",
      "execution_count": 3,
      "id": "e2d4da20-1cea-4309-941f-c2440b01801a",
      "metadata": {
        "id": "e2d4da20-1cea-4309-941f-c2440b01801a"
      },
      "outputs": [],
      "source": [
        "import pandas as pd\n",
        "import os, re\n",
        "import numpy as np\n",
        "\n",
        "pd.options.display.max_colwidth = None"
      ]
    },
    {
      "cell_type": "code",
      "execution_count": 4,
      "id": "566a8909-46d3-4ccd-8a67-96d819f60e09",
      "metadata": {
        "colab": {
          "base_uri": "https://localhost:8080/"
        },
        "id": "566a8909-46d3-4ccd-8a67-96d819f60e09",
        "outputId": "088786a9-d870-4710-e0dd-0df85a98ac87"
      },
      "outputs": [
        {
          "name": "stdout",
          "output_type": "stream",
          "text": [
            "<class 'pandas.core.frame.DataFrame'>\n",
            "RangeIndex: 8316 entries, 0 to 8315\n",
            "Data columns (total 2 columns):\n",
            " #   Column   Non-Null Count  Dtype \n",
            "---  ------   --------------  ----- \n",
            " 0   archivo  8316 non-null   object\n",
            " 1   codigo   8316 non-null   object\n",
            "dtypes: object(2)\n",
            "memory usage: 130.1+ KB\n"
          ]
        }
      ],
      "source": [
        "#los códigos están en un TSV con un código por línea\n",
        "train_diag = pd.read_csv(\"data/train/train.tsv\", sep=\"\\t\", header=None, names=[\"archivo\", \"codigo\"])\n",
        "train_diag.info()"
      ]
    },
    {
      "cell_type": "code",
      "execution_count": 5,
      "id": "b15d7057-8afb-4005-8601-79ce2fe6e71a",
      "metadata": {
        "colab": {
          "base_uri": "https://localhost:8080/"
        },
        "id": "b15d7057-8afb-4005-8601-79ce2fe6e71a",
        "outputId": "da838340-e6b4-4a3c-c78f-1ad7ead86a25",
        "scrolled": true
      },
      "outputs": [
        {
          "data": {
            "text/plain": [
              "codigo\n",
              "r52       163\n",
              "r69       150\n",
              "r50.9     142\n",
              "i10       116\n",
              "r59.9      95\n",
              "         ... \n",
              "z56.2       1\n",
              "f40.00      1\n",
              "g31.9       1\n",
              "f41.0       1\n",
              "d16.9       1\n",
              "Name: count, Length: 2194, dtype: int64"
            ]
          },
          "execution_count": 5,
          "metadata": {},
          "output_type": "execute_result"
        }
      ],
      "source": [
        "train_diag['codigo'].value_counts()"
      ]
    },
    {
      "cell_type": "code",
      "execution_count": 6,
      "id": "3cbd33aa-1d54-419f-a1f1-728bb03b79d7",
      "metadata": {
        "colab": {
          "base_uri": "https://localhost:8080/"
        },
        "id": "3cbd33aa-1d54-419f-a1f1-728bb03b79d7",
        "outputId": "8ccac4ea-b6e1-437a-da7a-a6466f903c51"
      },
      "outputs": [
        {
          "name": "stdout",
          "output_type": "stream",
          "text": [
            "cat\n",
            "r52    163\n",
            "r10    163\n",
            "r59    160\n",
            "r69    150\n",
            "r50    144\n",
            "      ... \n",
            "s49      1\n",
            "c47      1\n",
            "s90      1\n",
            "r71      1\n",
            "k61      1\n",
            "Name: count, Length: 918, dtype: int64\n"
          ]
        },
        {
          "data": {
            "text/plain": [
              "918"
            ]
          },
          "execution_count": 6,
          "metadata": {},
          "output_type": "execute_result"
        }
      ],
      "source": [
        "#cogemos la categoría superior de cada código y las agrupamos\n",
        "train_diag['cat'] = train_diag['codigo'].str.extract(r'(\\w\\d\\d)')\n",
        "print(train_diag['cat'].value_counts())\n",
        "train_diag['cat'].nunique()"
      ]
    },
    {
      "cell_type": "code",
      "execution_count": 7,
      "id": "8eaf143a-b460-410e-8af2-a268181153d3",
      "metadata": {
        "colab": {
          "base_uri": "https://localhost:8080/"
        },
        "id": "8eaf143a-b460-410e-8af2-a268181153d3",
        "outputId": "d1687a84-9973-4e9e-8e3c-67696d4b23a8"
      },
      "outputs": [
        {
          "name": "stdout",
          "output_type": "stream",
          "text": [
            "['r52', 'r10', 'r59', 'r69', 'r50', 'r60', 'i10', 'r11', 'd49', 'n28']\n"
          ]
        }
      ],
      "source": [
        "categories=train_diag['cat'].value_counts()[:10]\n",
        "top_categorias = categories.index.to_list()\n",
        "print(top_categorias)"
      ]
    },
    {
      "cell_type": "code",
      "execution_count": 8,
      "id": "25e458c1-01ec-4c48-8c3e-45f37e4553c8",
      "metadata": {
        "id": "25e458c1-01ec-4c48-8c3e-45f37e4553c8"
      },
      "outputs": [],
      "source": [
        "#seleccionamos sólo las etiquetas de este subconjunto\n",
        "train_diag = train_diag[np.isin(train_diag['cat'], top_categorias)]"
      ]
    },
    {
      "cell_type": "code",
      "execution_count": 9,
      "id": "c1befd52-7347-4e6d-8760-3a08b5fd8b02",
      "metadata": {
        "colab": {
          "base_uri": "https://localhost:8080/"
        },
        "id": "c1befd52-7347-4e6d-8760-3a08b5fd8b02",
        "outputId": "35ca2ab3-154d-4f3a-f0d2-32ec40661229"
      },
      "outputs": [
        {
          "name": "stdout",
          "output_type": "stream",
          "text": [
            "<class 'pandas.core.frame.DataFrame'>\n",
            "Index: 562 entries, S0376-78922008000400007-1 to S0211-69952009000600023-1\n",
            "Data columns (total 2 columns):\n",
            " #   Column   Non-Null Count  Dtype \n",
            "---  ------   --------------  ----- \n",
            " 0   texto    562 non-null    object\n",
            " 1   codigos  562 non-null    object\n",
            "dtypes: object(2)\n",
            "memory usage: 13.2+ KB\n"
          ]
        }
      ],
      "source": [
        "#cargamos los dos conjuntos de train\n",
        "path = 'data/train/text_files/'\n",
        "\n",
        "corpus = []\n",
        "for f in [f for f in os.listdir(path) if f.endswith('.txt')]:\n",
        "    with open(os.path.join(path, f), encoding=\"utf8\") as text:\n",
        "        texto = text.read()\n",
        "    #buscamos códigos\n",
        "    file = f[:-4]\n",
        "    codigos = train_diag.query('archivo==@file')['cat'].to_list()\n",
        "    codigos = list(set(codigos))\n",
        "    if codigos:\n",
        "        corpus.append({\n",
        "            'archivo': file,\n",
        "            'texto': texto,\n",
        "            'codigos': codigos\n",
        "        })\n",
        "\n",
        "df_train = pd.DataFrame(corpus).set_index('archivo')\n",
        "df_train.info()"
      ]
    },
    {
      "cell_type": "code",
      "execution_count": 10,
      "id": "dcf73334-972c-4746-829f-0891641a1b18",
      "metadata": {
        "colab": {
          "base_uri": "https://localhost:8080/",
          "height": 1000
        },
        "id": "dcf73334-972c-4746-829f-0891641a1b18",
        "outputId": "5de65c26-6762-433c-8928-8523ec366b40"
      },
      "outputs": [
        {
          "data": {
            "application/vnd.google.colaboratory.intrinsic+json": {
              "summary": "{\n  \"name\": \"df_train\",\n  \"rows\": 3,\n  \"fields\": [\n    {\n      \"column\": \"archivo\",\n      \"properties\": {\n        \"dtype\": \"string\",\n        \"num_unique_values\": 3,\n        \"samples\": [\n          \"S0212-71992004000800009-1\",\n          \"S0376-78922008000400008-1\",\n          \"S0211-69952013000500032-2\"\n        ],\n        \"semantic_type\": \"\",\n        \"description\": \"\"\n      }\n    },\n    {\n      \"column\": \"texto\",\n      \"properties\": {\n        \"dtype\": \"string\",\n        \"num_unique_values\": 3,\n        \"samples\": [\n          \"Mujer de 27 a\\u00f1os, politoxic\\u00f3mana activa, que 15 d\\u00edas antes de ingresar comienza con tos seca, disnea de intensidad progresiva, fiebre, astenia, anorexia, n\\u00e1useas y v\\u00f3mitos. Ten\\u00eda antecedentes de infecci\\u00f3n por VIH de reciente diagn\\u00f3stico, desconociendo sus par\\u00e1metros inmunol\\u00f3gicos y virol\\u00f3gicos. La exploraci\\u00f3n al ingreso mostraba caquexia, 40 respiraciones/ min., 120 latidos/min. TA:110/60 mm Hg, muguet, acropaquias, adenopat\\u00edas cervicales bilaterales menores de 1 cm y supraclavicular derecha de 2 cm. Disminuci\\u00f3n generalizada del murmullo vesicular y crepitantes bibasales, soplo sist\\u00f3lico II/VI polifocal, hepatomegalia a 2 cm del borde costal y condilomas vulvares. El resto de la exploraci\\u00f3n som\\u00e1tica y neurol\\u00f3gica fueron normales. Se realizaron al ingreso las siguientes pruebas complementarias: Hb 11,3 g/dL, 6.900 leucocitos/\\u00b5L (79% segmentados, 14% linfocitos), 682.000 plaquetas/\\u00b5L; sodio 119 mmol/L, LDH 603 UI/L, siendo normales el resto de los valores del autoanalizador. Gasometr\\u00eda arterial basal al ingreso: pH 7,54, pCO2 34,8 mm Hg, pO2 73,4 mmHg. En la placa de t\\u00f3rax se observa una masa mediast\\u00ednica anterior derecha que comprime y desplaza la tr\\u00e1quea y un infiltrado alveolo-intersticial bilateral. Posteriormente se realiza ecograf\\u00eda abdominal y TAC tor\\u00e1cico, abdominal y p\\u00e9lvico en los que se aprecian adenopat\\u00edas axilares bilaterales menores de un cm, una gran masa mediast\\u00ednica que comprime tr\\u00e1quea y vena cava superior, patr\\u00f3n intersticial pulmonar en resoluci\\u00f3n y engrosamiento de pared de asas intestinales con peque\\u00f1a cantidad de l\\u00edquido libre entre ellas. Se realiz\\u00f3 ecocardiograma transtor\\u00e1cico en el que no se encontraron alteraciones. Se inicia tratamiento con cotrimoxazol, levofloxacino y amfotericina-B, a pesar de lo cual desarrolla insuficiencia respiratoria progresiva, precisando ventilaci\\u00f3n mec\\u00e1nica. Durante los d\\u00edas siguientes se observa mejor\\u00eda de la insuficiencia respiratoria, posibilitando la retirada de la ventilaci\\u00f3n mec\\u00e1nica. Posteriormente presenta crisis t\\u00f3nico-cl\\u00f3nica generalizada seguida de hemiparesia izquierda; se realiza TAC y RMN craneal, observ\\u00e1ndose una masa de pared gruesa y centro hipodenso de 4 cm de di\\u00e1metro en encrucijada t\\u00e9mporo-parieto-occipital derecha. Se a\\u00f1ade al tratamiento sulfadiacina, pirimetamina, \\u00e1cido f\\u00f3lico y fenito\\u00edna, que se retiran tres semanas m\\u00e1s tarde por ausencia de mejor\\u00eda cl\\u00ednica y de disminuci\\u00f3n de la lesi\\u00f3n intracraneal. Se realiz\\u00f3 PAAF y biopsia de adenopat\\u00eda supraclavicular que se informa como met\\u00e1stasis de tumor maligno indiferenciado de origen epitelial. M\\u00e1s tarde se reciben los resultados siguientes: linfocitos CD4+: 440/mL, carga viral VIH: 25.000 copias/ mL, alfafetoproteina normal y b-HCG: 650 mUI/mL (normal < 5). Los estudios microbiol\\u00f3gicos en sangre, orina, esputo, brocoaspirado y punci\\u00f3n ganglionar fueron negativos para bacterias, micobacterias y hongos. Las tinciones de muestras respiratorias fueron negativas para P. carinii (P. jiroveci). Las serolog\\u00edas para Toxoplasma, virus hepatotropos y RPR fueron negativas; el ant\\u00edgeno criptoc\\u00f3cico fue negativo.\\n\\nDiagn\\u00f3stico y evoluci\\u00f3n: Inicialmente se realiz\\u00f3 el diagn\\u00f3stico de neumon\\u00eda difusa presuntivamente por P. carinii (P. jiroveci) y probable linfoma diseminado con afectaci\\u00f3n mediast\\u00ednica, cerebral e intestinal. Tras recibir los resultados de la biopsia ganglionar y de los marcadores tumorales (alfafetoproteina y \\u00df-HCG), se realiza el diagn\\u00f3stico definitivo: tumor de c\\u00e9lulas germinales extragonadal con afectaci\\u00f3n ganglionar supraclavicular y mediast\\u00ednica, y probablemente cerebral. Se propone a la paciente realizar estudio de extensi\\u00f3n tumoral e iniciar tratamiento con poliquimioterapia, que rechaza, a pesar de explic\\u00e1rsele que la elevada quimiosensibilidad del tumor lo hac\\u00eda potencialmente curable. La paciente falleci\\u00f3 en otro centro varias semanas despu\\u00e9s del alta.\\n\",\n          \"Paciente var\\u00f3n de 3 a\\u00f1os de edad, sin antecedentes de importancia, que inicia su padecimiento 15 d\\u00edas antes de su ingreso hospitalario al presentar crisis convulsiva t\\u00f3nico-cl\\u00f3nica con desviaci\\u00f3n de la mirada y movimientos lateralizados a la izquierda de unos 20 minutos de duraci\\u00f3n, no relacionada con hipertermia. Ocho d\\u00edas despu\\u00e9s de este primer cuadro, vuelve a presentar crisis convulsiva de las mismas caracter\\u00edsticas, en esta ocasi\\u00f3n con hipertermia, mal estado general y tos no productiva espor\\u00e1dica. Inicia tratamiento con Amoxicilina, Paracetamol, Diclofenaco y Difenilhidanto\\u00edna.\\nAcude a cita programada para realiz\\u00e1rsele electroencefalograma, pero es referido a Urgencias por presentar un pico febril de 40\\u00ba C. Se observa adem\\u00e1s hiporexia, mal estado general, mucosa labial enrojecida, conjuntivas hiper\\u00e9micas, lesiones orales tipo herp\\u00e9tico dolorosas, con sialorrea abundante. Se palpa adenomegalia cervical en el lado izquierdo de 1,5 cm, abdomen blando y piel \\u00edntegra. Se hizo diagn\\u00f3stico probable al ingreso de S\\u00edndrome de Kawasaki.\\nEn las primeras 24 horas de evoluci\\u00f3n postingreso present\\u00f3 deterioro cl\\u00ednico con apariencia t\\u00f3xica, edema en boca y labios, secreci\\u00f3n purulenta de ambas conjuntivas, lengua con placa blanquecina, rash exantem\\u00e1tico instalado en direcci\\u00f3n c\\u00e9falo-caudal m\\u00e1culopapular, no pruriginoso, con signo de Nikolski positivo en cara.\\n\\nA las 48 horas del ingreso aparecieron ves\\u00edculas confluentes y esfacelaci\\u00f3n de \\u00e9stas en t\\u00f3rax anterior y posterior, mejillas y pabellones auriculares, labios sangrantes, edema facial con presencia de una capa blanquecina en lengua y faringe con descarga retronasal verdosa, estertores roncantes transmitidos, distermia, acrocianosis y dificultad respiratoria caracterizada por tiraje intercostal y subcostal, aleteo nasal y saturaci\\u00f3n por oximetr\\u00eda del 85%, por lo que es ingresado en Unidad de Cuidados Intensivos de Pediatr\\u00eda ante la posibilidad de edema lar\\u00edngeo.\\n\\nEn el tercer y cuarto d\\u00edas de internamiento, se apreci\\u00f3 un importante esf\\u00e1celo de la epidermis, principalmente en cara, p\\u00e9rdida de pesta\\u00f1as, esf\\u00e1celo de mucosa de carrillos y dorso-lingual, de t\\u00f3rax anterior y posterior, porci\\u00f3n superior de abdomen, porci\\u00f3n superior de ambos brazos y pene, calcul\\u00e1ndose un 45% de superficie corporal afectada. Se incrementaron los requerimientos hidroelectrol\\u00edticos utilizando la f\\u00f3rmula de Galveston y se inici\\u00f3 tratamiento m\\u00e9dico con Clindamicina, Amikacina y Metilprednisolona. Se suspendieron la Difehilhidanto\\u00edna y los AINES ante el posible diagn\\u00f3stico de S\\u00edndrome de piel escaldada por Staphilococo versus S\\u00edndrome de Stevens Jonson.\\n\\nEl laboratoria mostr\\u00f3:\\n-BH Hgb: 12.4, Hto. 39.1%, VCM 80.2, HCM 25.5, CMHG 31.7, Leucocitos 19.6, Linfocitos 29%, Eosin\\u00f3filos 3 %, Segmentados 66 %, Bandas 1 %, Monocitos 1 %, Plaquetas 188.000, VSG 6mm/h.\\n-EGO: Densidad 1.020, Ph 5.0, Color amarillo, Leucocitosis 2-3/campo, Cetonas trazas, Cristales escasos y C\\u00e9lulas epiteliales escasas. Resto negativo.\\n-Electrolitos: Na 139, K 4.2, Cl 101.\\n-Qu\\u00edmica sangu\\u00ednea: Bilirrubinas totales 15, Bilirrubinas no conjugadas 29, Prote\\u00ednas totales 7.1, Alb\\u00famina 4.0, Globulinas 3.2, Fosfatasa alcalina 255, GGT 22, ALT 49, AST 65, Glicemia 148 y Creatinina 0.55.\\nSe realiz\\u00f3 lavado quir\\u00fargico y toma de biopsia de piel en regi\\u00f3n inguinal derecha as\\u00ed como colocaci\\u00f3n de cat\\u00e9ter central de 3 v\\u00edas en ingle izquierda para iniciar nutrici\\u00f3n parenteral total. Las \\u00e1reas cruentas se extendieron a un 60 % de SC as\\u00ed como a las mucosas oral y perianal, con f\\u00e1cil sangrado, que fueron cubiertas con pasta de Lassar y Polimixina. Sobre ambas c\\u00f3rneas se apreci\\u00f3 una nata fibrosa por esfacelaci\\u00f3n corneal, que se extrajo f\\u00e1cilmente y se coloc\\u00f3 medicaci\\u00f3n local a base de gotas oft\\u00e1lmicas con Moxifloxacino, Ciprofloxacino en ung\\u00fcento y lubricante ocular.\\n\\nSe cambi\\u00f3 todo el esquema de antibi\\u00f3ticos sist\\u00e9micos por Ceftriaxona, Vancomicina y Fluconazol, adem\\u00e1s de analgesia con Midazolam, Nalbufina, Diazapam, Polimixina en labios y Gammaglobulina (dosis total de 12,8 gr.).\\nLa biopsia de piel confirm\\u00f3 las alteraciones estructurales como una forma severa de Eritema multiforme del tipo de la Necrolisis Epid\\u00e9rmica T\\u00f3xica secundaria probablemente a f\\u00e1rmacos (Anticonvulsivantes). El hemocultivo y los cultivos de faringe y de secreci\\u00f3n ocular, fueron negativos.\\nSe realizaron nuevos lavados quir\\u00fargicos seriados bajo sedaci\\u00f3n y se cubrieron las heridas con ap\\u00f3sitos hidrocoloides. No hubo mejor\\u00eda de las lesiones hasta la tercera semana. Ambos p\\u00e1rpados mostraron sinequias que fueron liberadas en m\\u00faltiples ocasiones, presentando reepitelizaci\\u00f3n corneal. Su evoluci\\u00f3n fue hacia la mejor\\u00eda, transfiri\\u00e9ndose de la Unidad de Cuidados Intensivos a planta hospitalaria.\\nUna vez cicatrizado el abdomen, se le realiz\\u00f3 una gastrostom\\u00eda dada la persistencia de las lesiones intraorales. Se retir\\u00f3 el cat\\u00e9ter central y la sonda de Foley debido a la fiebre persistente. Los cultivos de punta de cat\\u00e9ter determinaron infecci\\u00f3n por Staphilococo Aureus el d\\u00eda 30 de estancia hospitalaria. Fue dado de alta a los 36 d\\u00edas de ingreso con buen estado general y continu\\u00f3 en tratamiento m\\u00e9dico con soporte psicol\\u00f3gico en consultas externas.\\nActualmente presenta secuelas por discrom\\u00edas en piel, fotofobia, inicia la deambulaci\\u00f3n con ayuda, as\\u00ed como la tolerancia a los alimentos por v\\u00eda oral. Sigue bajo control de oftalmolog\\u00eda.\\n\\n\",\n          \"Mujer de 44 a\\u00f1os, con antecedentes de exfumadora, HTA, DM tipo 2, obesidad m\\u00f3rbida (IMC 59,19 kg/m2), colecistectom\\u00eda, apendicectom\\u00eda, herniorrafia umbilical y ces\\u00e1rea. Se deriv\\u00f3 a Cirug\\u00eda General para realizaci\\u00f3n de cirug\\u00eda bari\\u00e1trica mediante t\\u00e9cnica de Larrad. Acudi\\u00f3 a Urgencias a los dos meses de la intervenci\\u00f3n, refiriendo v\\u00f3mitos pospandriales de repetici\\u00f3n desde el alta y episodio sincopal. En la exploraci\\u00f3n f\\u00edsica destac\\u00f3 mal estado general, signos de depleci\\u00f3n hidrosalina, PA 66/48 y PVC 4 cc H2O. Se realiz\\u00f3 anal\\u00edtica: urea 284 mg/dl, Cr 6,98 mg/dl, Na 119 mmol/l, K 2,4 mmol/l, Cl 65 mmol/l, PCR 4,8 mg/dl, lactato 4,7 mmol/l, osmolaridad 333 mOsm/kg; hemograma: Hb 14,2 g/dl, VH 42%; leucocitos 19000/ul; plaquetas 251000/ul; gasometr\\u00eda venosa: pH 7,49, bicarbonato 25,9 mmol/l, pCO2 34 mmHg; funci\\u00f3n renal en orina: EF Na 0,11%, urea 276 mg/dl, Cr 274,8 mg/dl, Na 5 mmol/l, K 15,4 mmol/l. Se ingres\\u00f3 en Nefrolog\\u00eda con el diagn\\u00f3stico de IRA prerrenal secundaria a depleci\\u00f3n de volumen, hiponatremia e hipopotasemia. Se inici\\u00f3 reposici\\u00f3n hidrosalina y correcci\\u00f3n electrol\\u00edtica progresiva con mejor\\u00eda de la funci\\u00f3n renal, hasta su normalizaci\\u00f3n. Durante su ingreso la paciente present\\u00f3 insuficiencia respiratoria y shock s\\u00e9ptico secundario a infecci\\u00f3n respiratoria. Se traslad\\u00f3 a la unidad de vigilancia intensiva, siendo exitus tras dos meses de ingreso.\\n\\n\"\n        ],\n        \"semantic_type\": \"\",\n        \"description\": \"\"\n      }\n    },\n    {\n      \"column\": \"codigos\",\n      \"properties\": {\n        \"dtype\": \"object\",\n        \"semantic_type\": \"\",\n        \"description\": \"\"\n      }\n    }\n  ]\n}",
              "type": "dataframe"
            },
            "text/html": [
              "\n",
              "  <div id=\"df-e720de83-4f6f-4807-bc79-e11d2dc5d17f\" class=\"colab-df-container\">\n",
              "    <div>\n",
              "<style scoped>\n",
              "    .dataframe tbody tr th:only-of-type {\n",
              "        vertical-align: middle;\n",
              "    }\n",
              "\n",
              "    .dataframe tbody tr th {\n",
              "        vertical-align: top;\n",
              "    }\n",
              "\n",
              "    .dataframe thead th {\n",
              "        text-align: right;\n",
              "    }\n",
              "</style>\n",
              "<table border=\"1\" class=\"dataframe\">\n",
              "  <thead>\n",
              "    <tr style=\"text-align: right;\">\n",
              "      <th></th>\n",
              "      <th>texto</th>\n",
              "      <th>codigos</th>\n",
              "    </tr>\n",
              "    <tr>\n",
              "      <th>archivo</th>\n",
              "      <th></th>\n",
              "      <th></th>\n",
              "    </tr>\n",
              "  </thead>\n",
              "  <tbody>\n",
              "    <tr>\n",
              "      <th>S0212-71992004000800009-1</th>\n",
              "      <td>Mujer de 27 años, politoxicómana activa, que 15 días antes de ingresar comienza con tos seca, disnea de intensidad progresiva, fiebre, astenia, anorexia, náuseas y vómitos. Tenía antecedentes de infección por VIH de reciente diagnóstico, desconociendo sus parámetros inmunológicos y virológicos. La exploración al ingreso mostraba caquexia, 40 respiraciones/ min., 120 latidos/min. TA:110/60 mm Hg, muguet, acropaquias, adenopatías cervicales bilaterales menores de 1 cm y supraclavicular derecha de 2 cm. Disminución generalizada del murmullo vesicular y crepitantes bibasales, soplo sistólico II/VI polifocal, hepatomegalia a 2 cm del borde costal y condilomas vulvares. El resto de la exploración somática y neurológica fueron normales. Se realizaron al ingreso las siguientes pruebas complementarias: Hb 11,3 g/dL, 6.900 leucocitos/µL (79% segmentados, 14% linfocitos), 682.000 plaquetas/µL; sodio 119 mmol/L, LDH 603 UI/L, siendo normales el resto de los valores del autoanalizador. Gasometría arterial basal al ingreso: pH 7,54, pCO2 34,8 mm Hg, pO2 73,4 mmHg. En la placa de tórax se observa una masa mediastínica anterior derecha que comprime y desplaza la tráquea y un infiltrado alveolo-intersticial bilateral. Posteriormente se realiza ecografía abdominal y TAC torácico, abdominal y pélvico en los que se aprecian adenopatías axilares bilaterales menores de un cm, una gran masa mediastínica que comprime tráquea y vena cava superior, patrón intersticial pulmonar en resolución y engrosamiento de pared de asas intestinales con pequeña cantidad de líquido libre entre ellas. Se realizó ecocardiograma transtorácico en el que no se encontraron alteraciones. Se inicia tratamiento con cotrimoxazol, levofloxacino y amfotericina-B, a pesar de lo cual desarrolla insuficiencia respiratoria progresiva, precisando ventilación mecánica. Durante los días siguientes se observa mejoría de la insuficiencia respiratoria, posibilitando la retirada de la ventilación mecánica. Posteriormente presenta crisis tónico-clónica generalizada seguida de hemiparesia izquierda; se realiza TAC y RMN craneal, observándose una masa de pared gruesa y centro hipodenso de 4 cm de diámetro en encrucijada témporo-parieto-occipital derecha. Se añade al tratamiento sulfadiacina, pirimetamina, ácido fólico y fenitoína, que se retiran tres semanas más tarde por ausencia de mejoría clínica y de disminución de la lesión intracraneal. Se realizó PAAF y biopsia de adenopatía supraclavicular que se informa como metástasis de tumor maligno indiferenciado de origen epitelial. Más tarde se reciben los resultados siguientes: linfocitos CD4+: 440/mL, carga viral VIH: 25.000 copias/ mL, alfafetoproteina normal y b-HCG: 650 mUI/mL (normal &lt; 5). Los estudios microbiológicos en sangre, orina, esputo, brocoaspirado y punción ganglionar fueron negativos para bacterias, micobacterias y hongos. Las tinciones de muestras respiratorias fueron negativas para P. carinii (P. jiroveci). Las serologías para Toxoplasma, virus hepatotropos y RPR fueron negativas; el antígeno criptocócico fue negativo.\\n\\nDiagnóstico y evolución: Inicialmente se realizó el diagnóstico de neumonía difusa presuntivamente por P. carinii (P. jiroveci) y probable linfoma diseminado con afectación mediastínica, cerebral e intestinal. Tras recibir los resultados de la biopsia ganglionar y de los marcadores tumorales (alfafetoproteina y ß-HCG), se realiza el diagnóstico definitivo: tumor de células germinales extragonadal con afectación ganglionar supraclavicular y mediastínica, y probablemente cerebral. Se propone a la paciente realizar estudio de extensión tumoral e iniciar tratamiento con poliquimioterapia, que rechaza, a pesar de explicársele que la elevada quimiosensibilidad del tumor lo hacía potencialmente curable. La paciente falleció en otro centro varias semanas después del alta.\\n</td>\n",
              "      <td>[r59, r50, r11]</td>\n",
              "    </tr>\n",
              "    <tr>\n",
              "      <th>S0376-78922008000400008-1</th>\n",
              "      <td>Paciente varón de 3 años de edad, sin antecedentes de importancia, que inicia su padecimiento 15 días antes de su ingreso hospitalario al presentar crisis convulsiva tónico-clónica con desviación de la mirada y movimientos lateralizados a la izquierda de unos 20 minutos de duración, no relacionada con hipertermia. Ocho días después de este primer cuadro, vuelve a presentar crisis convulsiva de las mismas características, en esta ocasión con hipertermia, mal estado general y tos no productiva esporádica. Inicia tratamiento con Amoxicilina, Paracetamol, Diclofenaco y Difenilhidantoína.\\nAcude a cita programada para realizársele electroencefalograma, pero es referido a Urgencias por presentar un pico febril de 40º C. Se observa además hiporexia, mal estado general, mucosa labial enrojecida, conjuntivas hiperémicas, lesiones orales tipo herpético dolorosas, con sialorrea abundante. Se palpa adenomegalia cervical en el lado izquierdo de 1,5 cm, abdomen blando y piel íntegra. Se hizo diagnóstico probable al ingreso de Síndrome de Kawasaki.\\nEn las primeras 24 horas de evolución postingreso presentó deterioro clínico con apariencia tóxica, edema en boca y labios, secreción purulenta de ambas conjuntivas, lengua con placa blanquecina, rash exantemático instalado en dirección céfalo-caudal máculopapular, no pruriginoso, con signo de Nikolski positivo en cara.\\n\\nA las 48 horas del ingreso aparecieron vesículas confluentes y esfacelación de éstas en tórax anterior y posterior, mejillas y pabellones auriculares, labios sangrantes, edema facial con presencia de una capa blanquecina en lengua y faringe con descarga retronasal verdosa, estertores roncantes transmitidos, distermia, acrocianosis y dificultad respiratoria caracterizada por tiraje intercostal y subcostal, aleteo nasal y saturación por oximetría del 85%, por lo que es ingresado en Unidad de Cuidados Intensivos de Pediatría ante la posibilidad de edema laríngeo.\\n\\nEn el tercer y cuarto días de internamiento, se apreció un importante esfácelo de la epidermis, principalmente en cara, pérdida de pestañas, esfácelo de mucosa de carrillos y dorso-lingual, de tórax anterior y posterior, porción superior de abdomen, porción superior de ambos brazos y pene, calculándose un 45% de superficie corporal afectada. Se incrementaron los requerimientos hidroelectrolíticos utilizando la fórmula de Galveston y se inició tratamiento médico con Clindamicina, Amikacina y Metilprednisolona. Se suspendieron la Difehilhidantoína y los AINES ante el posible diagnóstico de Síndrome de piel escaldada por Staphilococo versus Síndrome de Stevens Jonson.\\n\\nEl laboratoria mostró:\\n-BH Hgb: 12.4, Hto. 39.1%, VCM 80.2, HCM 25.5, CMHG 31.7, Leucocitos 19.6, Linfocitos 29%, Eosinófilos 3 %, Segmentados 66 %, Bandas 1 %, Monocitos 1 %, Plaquetas 188.000, VSG 6mm/h.\\n-EGO: Densidad 1.020, Ph 5.0, Color amarillo, Leucocitosis 2-3/campo, Cetonas trazas, Cristales escasos y Células epiteliales escasas. Resto negativo.\\n-Electrolitos: Na 139, K 4.2, Cl 101.\\n-Química sanguínea: Bilirrubinas totales 15, Bilirrubinas no conjugadas 29, Proteínas totales 7.1, Albúmina 4.0, Globulinas 3.2, Fosfatasa alcalina 255, GGT 22, ALT 49, AST 65, Glicemia 148 y Creatinina 0.55.\\nSe realizó lavado quirúrgico y toma de biopsia de piel en región inguinal derecha así como colocación de catéter central de 3 vías en ingle izquierda para iniciar nutrición parenteral total. Las áreas cruentas se extendieron a un 60 % de SC así como a las mucosas oral y perianal, con fácil sangrado, que fueron cubiertas con pasta de Lassar y Polimixina. Sobre ambas córneas se apreció una nata fibrosa por esfacelación corneal, que se extrajo fácilmente y se colocó medicación local a base de gotas oftálmicas con Moxifloxacino, Ciprofloxacino en ungüento y lubricante ocular.\\n\\nSe cambió todo el esquema de antibióticos sistémicos por Ceftriaxona, Vancomicina y Fluconazol, además de analgesia con Midazolam, Nalbufina, Diazapam, Polimixina en labios y Gammaglobulina (dosis total de 12,8 gr.).\\nLa biopsia de piel confirmó las alteraciones estructurales como una forma severa de Eritema multiforme del tipo de la Necrolisis Epidérmica Tóxica secundaria probablemente a fármacos (Anticonvulsivantes). El hemocultivo y los cultivos de faringe y de secreción ocular, fueron negativos.\\nSe realizaron nuevos lavados quirúrgicos seriados bajo sedación y se cubrieron las heridas con apósitos hidrocoloides. No hubo mejoría de las lesiones hasta la tercera semana. Ambos párpados mostraron sinequias que fueron liberadas en múltiples ocasiones, presentando reepitelización corneal. Su evolución fue hacia la mejoría, transfiriéndose de la Unidad de Cuidados Intensivos a planta hospitalaria.\\nUna vez cicatrizado el abdomen, se le realizó una gastrostomía dada la persistencia de las lesiones intraorales. Se retiró el catéter central y la sonda de Foley debido a la fiebre persistente. Los cultivos de punta de catéter determinaron infección por Staphilococo Aureus el día 30 de estancia hospitalaria. Fue dado de alta a los 36 días de ingreso con buen estado general y continuó en tratamiento médico con soporte psicológico en consultas externas.\\nActualmente presenta secuelas por discromías en piel, fotofobia, inicia la deambulación con ayuda, así como la tolerancia a los alimentos por vía oral. Sigue bajo control de oftalmología.\\n\\n</td>\n",
              "      <td>[r60, r50]</td>\n",
              "    </tr>\n",
              "    <tr>\n",
              "      <th>S0211-69952013000500032-2</th>\n",
              "      <td>Mujer de 44 años, con antecedentes de exfumadora, HTA, DM tipo 2, obesidad mórbida (IMC 59,19 kg/m2), colecistectomía, apendicectomía, herniorrafia umbilical y cesárea. Se derivó a Cirugía General para realización de cirugía bariátrica mediante técnica de Larrad. Acudió a Urgencias a los dos meses de la intervención, refiriendo vómitos pospandriales de repetición desde el alta y episodio sincopal. En la exploración física destacó mal estado general, signos de depleción hidrosalina, PA 66/48 y PVC 4 cc H2O. Se realizó analítica: urea 284 mg/dl, Cr 6,98 mg/dl, Na 119 mmol/l, K 2,4 mmol/l, Cl 65 mmol/l, PCR 4,8 mg/dl, lactato 4,7 mmol/l, osmolaridad 333 mOsm/kg; hemograma: Hb 14,2 g/dl, VH 42%; leucocitos 19000/ul; plaquetas 251000/ul; gasometría venosa: pH 7,49, bicarbonato 25,9 mmol/l, pCO2 34 mmHg; función renal en orina: EF Na 0,11%, urea 276 mg/dl, Cr 274,8 mg/dl, Na 5 mmol/l, K 15,4 mmol/l. Se ingresó en Nefrología con el diagnóstico de IRA prerrenal secundaria a depleción de volumen, hiponatremia e hipopotasemia. Se inició reposición hidrosalina y corrección electrolítica progresiva con mejoría de la función renal, hasta su normalización. Durante su ingreso la paciente presentó insuficiencia respiratoria y shock séptico secundario a infección respiratoria. Se trasladó a la unidad de vigilancia intensiva, siendo exitus tras dos meses de ingreso.\\n\\n</td>\n",
              "      <td>[i10, r11]</td>\n",
              "    </tr>\n",
              "  </tbody>\n",
              "</table>\n",
              "</div>\n",
              "    <div class=\"colab-df-buttons\">\n",
              "\n",
              "  <div class=\"colab-df-container\">\n",
              "    <button class=\"colab-df-convert\" onclick=\"convertToInteractive('df-e720de83-4f6f-4807-bc79-e11d2dc5d17f')\"\n",
              "            title=\"Convert this dataframe to an interactive table.\"\n",
              "            style=\"display:none;\">\n",
              "\n",
              "  <svg xmlns=\"http://www.w3.org/2000/svg\" height=\"24px\" viewBox=\"0 -960 960 960\">\n",
              "    <path d=\"M120-120v-720h720v720H120Zm60-500h600v-160H180v160Zm220 220h160v-160H400v160Zm0 220h160v-160H400v160ZM180-400h160v-160H180v160Zm440 0h160v-160H620v160ZM180-180h160v-160H180v160Zm440 0h160v-160H620v160Z\"/>\n",
              "  </svg>\n",
              "    </button>\n",
              "\n",
              "  <style>\n",
              "    .colab-df-container {\n",
              "      display:flex;\n",
              "      gap: 12px;\n",
              "    }\n",
              "\n",
              "    .colab-df-convert {\n",
              "      background-color: #E8F0FE;\n",
              "      border: none;\n",
              "      border-radius: 50%;\n",
              "      cursor: pointer;\n",
              "      display: none;\n",
              "      fill: #1967D2;\n",
              "      height: 32px;\n",
              "      padding: 0 0 0 0;\n",
              "      width: 32px;\n",
              "    }\n",
              "\n",
              "    .colab-df-convert:hover {\n",
              "      background-color: #E2EBFA;\n",
              "      box-shadow: 0px 1px 2px rgba(60, 64, 67, 0.3), 0px 1px 3px 1px rgba(60, 64, 67, 0.15);\n",
              "      fill: #174EA6;\n",
              "    }\n",
              "\n",
              "    .colab-df-buttons div {\n",
              "      margin-bottom: 4px;\n",
              "    }\n",
              "\n",
              "    [theme=dark] .colab-df-convert {\n",
              "      background-color: #3B4455;\n",
              "      fill: #D2E3FC;\n",
              "    }\n",
              "\n",
              "    [theme=dark] .colab-df-convert:hover {\n",
              "      background-color: #434B5C;\n",
              "      box-shadow: 0px 1px 3px 1px rgba(0, 0, 0, 0.15);\n",
              "      filter: drop-shadow(0px 1px 2px rgba(0, 0, 0, 0.3));\n",
              "      fill: #FFFFFF;\n",
              "    }\n",
              "  </style>\n",
              "\n",
              "    <script>\n",
              "      const buttonEl =\n",
              "        document.querySelector('#df-e720de83-4f6f-4807-bc79-e11d2dc5d17f button.colab-df-convert');\n",
              "      buttonEl.style.display =\n",
              "        google.colab.kernel.accessAllowed ? 'block' : 'none';\n",
              "\n",
              "      async function convertToInteractive(key) {\n",
              "        const element = document.querySelector('#df-e720de83-4f6f-4807-bc79-e11d2dc5d17f');\n",
              "        const dataTable =\n",
              "          await google.colab.kernel.invokeFunction('convertToInteractive',\n",
              "                                                    [key], {});\n",
              "        if (!dataTable) return;\n",
              "\n",
              "        const docLinkHtml = 'Like what you see? Visit the ' +\n",
              "          '<a target=\"_blank\" href=https://colab.research.google.com/notebooks/data_table.ipynb>data table notebook</a>'\n",
              "          + ' to learn more about interactive tables.';\n",
              "        element.innerHTML = '';\n",
              "        dataTable['output_type'] = 'display_data';\n",
              "        await google.colab.output.renderOutput(dataTable, element);\n",
              "        const docLink = document.createElement('div');\n",
              "        docLink.innerHTML = docLinkHtml;\n",
              "        element.appendChild(docLink);\n",
              "      }\n",
              "    </script>\n",
              "  </div>\n",
              "\n",
              "\n",
              "<div id=\"df-97959062-9b14-44e4-a40e-2897dac761f5\">\n",
              "  <button class=\"colab-df-quickchart\" onclick=\"quickchart('df-97959062-9b14-44e4-a40e-2897dac761f5')\"\n",
              "            title=\"Suggest charts\"\n",
              "            style=\"display:none;\">\n",
              "\n",
              "<svg xmlns=\"http://www.w3.org/2000/svg\" height=\"24px\"viewBox=\"0 0 24 24\"\n",
              "     width=\"24px\">\n",
              "    <g>\n",
              "        <path d=\"M19 3H5c-1.1 0-2 .9-2 2v14c0 1.1.9 2 2 2h14c1.1 0 2-.9 2-2V5c0-1.1-.9-2-2-2zM9 17H7v-7h2v7zm4 0h-2V7h2v10zm4 0h-2v-4h2v4z\"/>\n",
              "    </g>\n",
              "</svg>\n",
              "  </button>\n",
              "\n",
              "<style>\n",
              "  .colab-df-quickchart {\n",
              "      --bg-color: #E8F0FE;\n",
              "      --fill-color: #1967D2;\n",
              "      --hover-bg-color: #E2EBFA;\n",
              "      --hover-fill-color: #174EA6;\n",
              "      --disabled-fill-color: #AAA;\n",
              "      --disabled-bg-color: #DDD;\n",
              "  }\n",
              "\n",
              "  [theme=dark] .colab-df-quickchart {\n",
              "      --bg-color: #3B4455;\n",
              "      --fill-color: #D2E3FC;\n",
              "      --hover-bg-color: #434B5C;\n",
              "      --hover-fill-color: #FFFFFF;\n",
              "      --disabled-bg-color: #3B4455;\n",
              "      --disabled-fill-color: #666;\n",
              "  }\n",
              "\n",
              "  .colab-df-quickchart {\n",
              "    background-color: var(--bg-color);\n",
              "    border: none;\n",
              "    border-radius: 50%;\n",
              "    cursor: pointer;\n",
              "    display: none;\n",
              "    fill: var(--fill-color);\n",
              "    height: 32px;\n",
              "    padding: 0;\n",
              "    width: 32px;\n",
              "  }\n",
              "\n",
              "  .colab-df-quickchart:hover {\n",
              "    background-color: var(--hover-bg-color);\n",
              "    box-shadow: 0 1px 2px rgba(60, 64, 67, 0.3), 0 1px 3px 1px rgba(60, 64, 67, 0.15);\n",
              "    fill: var(--button-hover-fill-color);\n",
              "  }\n",
              "\n",
              "  .colab-df-quickchart-complete:disabled,\n",
              "  .colab-df-quickchart-complete:disabled:hover {\n",
              "    background-color: var(--disabled-bg-color);\n",
              "    fill: var(--disabled-fill-color);\n",
              "    box-shadow: none;\n",
              "  }\n",
              "\n",
              "  .colab-df-spinner {\n",
              "    border: 2px solid var(--fill-color);\n",
              "    border-color: transparent;\n",
              "    border-bottom-color: var(--fill-color);\n",
              "    animation:\n",
              "      spin 1s steps(1) infinite;\n",
              "  }\n",
              "\n",
              "  @keyframes spin {\n",
              "    0% {\n",
              "      border-color: transparent;\n",
              "      border-bottom-color: var(--fill-color);\n",
              "      border-left-color: var(--fill-color);\n",
              "    }\n",
              "    20% {\n",
              "      border-color: transparent;\n",
              "      border-left-color: var(--fill-color);\n",
              "      border-top-color: var(--fill-color);\n",
              "    }\n",
              "    30% {\n",
              "      border-color: transparent;\n",
              "      border-left-color: var(--fill-color);\n",
              "      border-top-color: var(--fill-color);\n",
              "      border-right-color: var(--fill-color);\n",
              "    }\n",
              "    40% {\n",
              "      border-color: transparent;\n",
              "      border-right-color: var(--fill-color);\n",
              "      border-top-color: var(--fill-color);\n",
              "    }\n",
              "    60% {\n",
              "      border-color: transparent;\n",
              "      border-right-color: var(--fill-color);\n",
              "    }\n",
              "    80% {\n",
              "      border-color: transparent;\n",
              "      border-right-color: var(--fill-color);\n",
              "      border-bottom-color: var(--fill-color);\n",
              "    }\n",
              "    90% {\n",
              "      border-color: transparent;\n",
              "      border-bottom-color: var(--fill-color);\n",
              "    }\n",
              "  }\n",
              "</style>\n",
              "\n",
              "  <script>\n",
              "    async function quickchart(key) {\n",
              "      const quickchartButtonEl =\n",
              "        document.querySelector('#' + key + ' button');\n",
              "      quickchartButtonEl.disabled = true;  // To prevent multiple clicks.\n",
              "      quickchartButtonEl.classList.add('colab-df-spinner');\n",
              "      try {\n",
              "        const charts = await google.colab.kernel.invokeFunction(\n",
              "            'suggestCharts', [key], {});\n",
              "      } catch (error) {\n",
              "        console.error('Error during call to suggestCharts:', error);\n",
              "      }\n",
              "      quickchartButtonEl.classList.remove('colab-df-spinner');\n",
              "      quickchartButtonEl.classList.add('colab-df-quickchart-complete');\n",
              "    }\n",
              "    (() => {\n",
              "      let quickchartButtonEl =\n",
              "        document.querySelector('#df-97959062-9b14-44e4-a40e-2897dac761f5 button');\n",
              "      quickchartButtonEl.style.display =\n",
              "        google.colab.kernel.accessAllowed ? 'block' : 'none';\n",
              "    })();\n",
              "  </script>\n",
              "</div>\n",
              "    </div>\n",
              "  </div>\n"
            ],
            "text/plain": [
              "                                                                                                                                                                                                                                                                                                                                                                                                                                                                                                                                                                                                                                                                                                                                                                                                                                                                                                                                                                                                                                                                                                                                                                                                                                                                                                                                                                                                                                                                                                                                                                                                                                                                                                                                                                                                                                                                                                                                                                                                                                                                                                                                                                                                                                                                                                                                                                                                                                                                                                                                                                                                                                                                                                                                                                                                                                                                                                                                                                                                                                                                                                                                                                                                                                                                                                                                                                                                                                                                                                                                                                                                                                                                                                                                                                                                                                                                                                                                                                                                                                                                                                                                                                                                                                                                                                                                                                                                                                                                                                                                                                                                                                                                                                                                                                                                                                                                                                                                                                                                                                                                                                                                                                                                                                                                                                                                                                                                                                                                                                                                                                                                                  texto  \\\n",
              "archivo                                                                                                                                                                                                                                                                                                                                                                                                                                                                                                                                                                                                                                                                                                                                                                                                                                                                                                                                                                                                                                                                                                                                                                                                                                                                                                                                                                                                                                                                                                                                                                                                                                                                                                                                                                                                                                                                                                                                                                                                                                                                                                                                                                                                                                                                                                                                                                                                                                                                                                                                                                                                                                                                                                                                                                                                                                                                                                                                                                                                                                                                                                                                                                                                                                                                                                                                                                                                                                                                                                                                                                                                                                                                                                                                                                                                                                                                                                                                                                                                                                                                                                                                                                                                                                                                                                                                                                                                                                                                                                                                                                                                                                                                                                                                                                                                                                                                                                                                                                                                                                                                                                                                                                                                                                                                                                                                                                                                                                                                                                                                                                                                                   \n",
              "S0212-71992004000800009-1                                                                                                                                                                                                                                                                                                                                                                                                                                                                                                                                                                                                                                                                                                                                                                                                                                                                                                                                                                                                                                                                                                                                                                                                                                                                                                                                                                                                                                                                                                                                                                               Mujer de 27 años, politoxicómana activa, que 15 días antes de ingresar comienza con tos seca, disnea de intensidad progresiva, fiebre, astenia, anorexia, náuseas y vómitos. Tenía antecedentes de infección por VIH de reciente diagnóstico, desconociendo sus parámetros inmunológicos y virológicos. La exploración al ingreso mostraba caquexia, 40 respiraciones/ min., 120 latidos/min. TA:110/60 mm Hg, muguet, acropaquias, adenopatías cervicales bilaterales menores de 1 cm y supraclavicular derecha de 2 cm. Disminución generalizada del murmullo vesicular y crepitantes bibasales, soplo sistólico II/VI polifocal, hepatomegalia a 2 cm del borde costal y condilomas vulvares. El resto de la exploración somática y neurológica fueron normales. Se realizaron al ingreso las siguientes pruebas complementarias: Hb 11,3 g/dL, 6.900 leucocitos/µL (79% segmentados, 14% linfocitos), 682.000 plaquetas/µL; sodio 119 mmol/L, LDH 603 UI/L, siendo normales el resto de los valores del autoanalizador. Gasometría arterial basal al ingreso: pH 7,54, pCO2 34,8 mm Hg, pO2 73,4 mmHg. En la placa de tórax se observa una masa mediastínica anterior derecha que comprime y desplaza la tráquea y un infiltrado alveolo-intersticial bilateral. Posteriormente se realiza ecografía abdominal y TAC torácico, abdominal y pélvico en los que se aprecian adenopatías axilares bilaterales menores de un cm, una gran masa mediastínica que comprime tráquea y vena cava superior, patrón intersticial pulmonar en resolución y engrosamiento de pared de asas intestinales con pequeña cantidad de líquido libre entre ellas. Se realizó ecocardiograma transtorácico en el que no se encontraron alteraciones. Se inicia tratamiento con cotrimoxazol, levofloxacino y amfotericina-B, a pesar de lo cual desarrolla insuficiencia respiratoria progresiva, precisando ventilación mecánica. Durante los días siguientes se observa mejoría de la insuficiencia respiratoria, posibilitando la retirada de la ventilación mecánica. Posteriormente presenta crisis tónico-clónica generalizada seguida de hemiparesia izquierda; se realiza TAC y RMN craneal, observándose una masa de pared gruesa y centro hipodenso de 4 cm de diámetro en encrucijada témporo-parieto-occipital derecha. Se añade al tratamiento sulfadiacina, pirimetamina, ácido fólico y fenitoína, que se retiran tres semanas más tarde por ausencia de mejoría clínica y de disminución de la lesión intracraneal. Se realizó PAAF y biopsia de adenopatía supraclavicular que se informa como metástasis de tumor maligno indiferenciado de origen epitelial. Más tarde se reciben los resultados siguientes: linfocitos CD4+: 440/mL, carga viral VIH: 25.000 copias/ mL, alfafetoproteina normal y b-HCG: 650 mUI/mL (normal < 5). Los estudios microbiológicos en sangre, orina, esputo, brocoaspirado y punción ganglionar fueron negativos para bacterias, micobacterias y hongos. Las tinciones de muestras respiratorias fueron negativas para P. carinii (P. jiroveci). Las serologías para Toxoplasma, virus hepatotropos y RPR fueron negativas; el antígeno criptocócico fue negativo.\\n\\nDiagnóstico y evolución: Inicialmente se realizó el diagnóstico de neumonía difusa presuntivamente por P. carinii (P. jiroveci) y probable linfoma diseminado con afectación mediastínica, cerebral e intestinal. Tras recibir los resultados de la biopsia ganglionar y de los marcadores tumorales (alfafetoproteina y ß-HCG), se realiza el diagnóstico definitivo: tumor de células germinales extragonadal con afectación ganglionar supraclavicular y mediastínica, y probablemente cerebral. Se propone a la paciente realizar estudio de extensión tumoral e iniciar tratamiento con poliquimioterapia, que rechaza, a pesar de explicársele que la elevada quimiosensibilidad del tumor lo hacía potencialmente curable. La paciente falleció en otro centro varias semanas después del alta.\\n   \n",
              "S0376-78922008000400008-1  Paciente varón de 3 años de edad, sin antecedentes de importancia, que inicia su padecimiento 15 días antes de su ingreso hospitalario al presentar crisis convulsiva tónico-clónica con desviación de la mirada y movimientos lateralizados a la izquierda de unos 20 minutos de duración, no relacionada con hipertermia. Ocho días después de este primer cuadro, vuelve a presentar crisis convulsiva de las mismas características, en esta ocasión con hipertermia, mal estado general y tos no productiva esporádica. Inicia tratamiento con Amoxicilina, Paracetamol, Diclofenaco y Difenilhidantoína.\\nAcude a cita programada para realizársele electroencefalograma, pero es referido a Urgencias por presentar un pico febril de 40º C. Se observa además hiporexia, mal estado general, mucosa labial enrojecida, conjuntivas hiperémicas, lesiones orales tipo herpético dolorosas, con sialorrea abundante. Se palpa adenomegalia cervical en el lado izquierdo de 1,5 cm, abdomen blando y piel íntegra. Se hizo diagnóstico probable al ingreso de Síndrome de Kawasaki.\\nEn las primeras 24 horas de evolución postingreso presentó deterioro clínico con apariencia tóxica, edema en boca y labios, secreción purulenta de ambas conjuntivas, lengua con placa blanquecina, rash exantemático instalado en dirección céfalo-caudal máculopapular, no pruriginoso, con signo de Nikolski positivo en cara.\\n\\nA las 48 horas del ingreso aparecieron vesículas confluentes y esfacelación de éstas en tórax anterior y posterior, mejillas y pabellones auriculares, labios sangrantes, edema facial con presencia de una capa blanquecina en lengua y faringe con descarga retronasal verdosa, estertores roncantes transmitidos, distermia, acrocianosis y dificultad respiratoria caracterizada por tiraje intercostal y subcostal, aleteo nasal y saturación por oximetría del 85%, por lo que es ingresado en Unidad de Cuidados Intensivos de Pediatría ante la posibilidad de edema laríngeo.\\n\\nEn el tercer y cuarto días de internamiento, se apreció un importante esfácelo de la epidermis, principalmente en cara, pérdida de pestañas, esfácelo de mucosa de carrillos y dorso-lingual, de tórax anterior y posterior, porción superior de abdomen, porción superior de ambos brazos y pene, calculándose un 45% de superficie corporal afectada. Se incrementaron los requerimientos hidroelectrolíticos utilizando la fórmula de Galveston y se inició tratamiento médico con Clindamicina, Amikacina y Metilprednisolona. Se suspendieron la Difehilhidantoína y los AINES ante el posible diagnóstico de Síndrome de piel escaldada por Staphilococo versus Síndrome de Stevens Jonson.\\n\\nEl laboratoria mostró:\\n-BH Hgb: 12.4, Hto. 39.1%, VCM 80.2, HCM 25.5, CMHG 31.7, Leucocitos 19.6, Linfocitos 29%, Eosinófilos 3 %, Segmentados 66 %, Bandas 1 %, Monocitos 1 %, Plaquetas 188.000, VSG 6mm/h.\\n-EGO: Densidad 1.020, Ph 5.0, Color amarillo, Leucocitosis 2-3/campo, Cetonas trazas, Cristales escasos y Células epiteliales escasas. Resto negativo.\\n-Electrolitos: Na 139, K 4.2, Cl 101.\\n-Química sanguínea: Bilirrubinas totales 15, Bilirrubinas no conjugadas 29, Proteínas totales 7.1, Albúmina 4.0, Globulinas 3.2, Fosfatasa alcalina 255, GGT 22, ALT 49, AST 65, Glicemia 148 y Creatinina 0.55.\\nSe realizó lavado quirúrgico y toma de biopsia de piel en región inguinal derecha así como colocación de catéter central de 3 vías en ingle izquierda para iniciar nutrición parenteral total. Las áreas cruentas se extendieron a un 60 % de SC así como a las mucosas oral y perianal, con fácil sangrado, que fueron cubiertas con pasta de Lassar y Polimixina. Sobre ambas córneas se apreció una nata fibrosa por esfacelación corneal, que se extrajo fácilmente y se colocó medicación local a base de gotas oftálmicas con Moxifloxacino, Ciprofloxacino en ungüento y lubricante ocular.\\n\\nSe cambió todo el esquema de antibióticos sistémicos por Ceftriaxona, Vancomicina y Fluconazol, además de analgesia con Midazolam, Nalbufina, Diazapam, Polimixina en labios y Gammaglobulina (dosis total de 12,8 gr.).\\nLa biopsia de piel confirmó las alteraciones estructurales como una forma severa de Eritema multiforme del tipo de la Necrolisis Epidérmica Tóxica secundaria probablemente a fármacos (Anticonvulsivantes). El hemocultivo y los cultivos de faringe y de secreción ocular, fueron negativos.\\nSe realizaron nuevos lavados quirúrgicos seriados bajo sedación y se cubrieron las heridas con apósitos hidrocoloides. No hubo mejoría de las lesiones hasta la tercera semana. Ambos párpados mostraron sinequias que fueron liberadas en múltiples ocasiones, presentando reepitelización corneal. Su evolución fue hacia la mejoría, transfiriéndose de la Unidad de Cuidados Intensivos a planta hospitalaria.\\nUna vez cicatrizado el abdomen, se le realizó una gastrostomía dada la persistencia de las lesiones intraorales. Se retiró el catéter central y la sonda de Foley debido a la fiebre persistente. Los cultivos de punta de catéter determinaron infección por Staphilococo Aureus el día 30 de estancia hospitalaria. Fue dado de alta a los 36 días de ingreso con buen estado general y continuó en tratamiento médico con soporte psicológico en consultas externas.\\nActualmente presenta secuelas por discromías en piel, fotofobia, inicia la deambulación con ayuda, así como la tolerancia a los alimentos por vía oral. Sigue bajo control de oftalmología.\\n\\n   \n",
              "S0211-69952013000500032-2                                                                                                                                                                                                                                                                                                                                                                                                                                                                                                                                                                                                                                                                                                                                                                                                                                                                                                                                                                                                                                                                                                                                                                                                                                                                                                                                                                                                                                                                                                                                                                                                                                                                                                                                                                                                                                                                                                                                                                                                                                                                                                                                                                                                                                                                                                                                                                                                                                                                                                                                                                                                                                                                                                                                                                                                                                                                                                                                                                                                                                                                                                                                                                                                                                                                                                                                                                                                                                                                                                                                                                                                                                                                                                                                                                                                                                                                                                                                                                                                                                                                                                                                                                Mujer de 44 años, con antecedentes de exfumadora, HTA, DM tipo 2, obesidad mórbida (IMC 59,19 kg/m2), colecistectomía, apendicectomía, herniorrafia umbilical y cesárea. Se derivó a Cirugía General para realización de cirugía bariátrica mediante técnica de Larrad. Acudió a Urgencias a los dos meses de la intervención, refiriendo vómitos pospandriales de repetición desde el alta y episodio sincopal. En la exploración física destacó mal estado general, signos de depleción hidrosalina, PA 66/48 y PVC 4 cc H2O. Se realizó analítica: urea 284 mg/dl, Cr 6,98 mg/dl, Na 119 mmol/l, K 2,4 mmol/l, Cl 65 mmol/l, PCR 4,8 mg/dl, lactato 4,7 mmol/l, osmolaridad 333 mOsm/kg; hemograma: Hb 14,2 g/dl, VH 42%; leucocitos 19000/ul; plaquetas 251000/ul; gasometría venosa: pH 7,49, bicarbonato 25,9 mmol/l, pCO2 34 mmHg; función renal en orina: EF Na 0,11%, urea 276 mg/dl, Cr 274,8 mg/dl, Na 5 mmol/l, K 15,4 mmol/l. Se ingresó en Nefrología con el diagnóstico de IRA prerrenal secundaria a depleción de volumen, hiponatremia e hipopotasemia. Se inició reposición hidrosalina y corrección electrolítica progresiva con mejoría de la función renal, hasta su normalización. Durante su ingreso la paciente presentó insuficiencia respiratoria y shock séptico secundario a infección respiratoria. Se trasladó a la unidad de vigilancia intensiva, siendo exitus tras dos meses de ingreso.\\n\\n   \n",
              "\n",
              "                                   codigos  \n",
              "archivo                                     \n",
              "S0212-71992004000800009-1  [r59, r50, r11]  \n",
              "S0376-78922008000400008-1       [r60, r50]  \n",
              "S0211-69952013000500032-2       [i10, r11]  "
            ]
          },
          "execution_count": 10,
          "metadata": {},
          "output_type": "execute_result"
        }
      ],
      "source": [
        "df_train.sample(3)"
      ]
    },
    {
      "cell_type": "markdown",
      "id": "dfc77de8-8256-4653-9de0-690dacc58095",
      "metadata": {
        "id": "dfc77de8-8256-4653-9de0-690dacc58095"
      },
      "source": [
        "## Cargar los textos del conjunto de test"
      ]
    },
    {
      "cell_type": "code",
      "execution_count": 11,
      "id": "09135955",
      "metadata": {
        "colab": {
          "base_uri": "https://localhost:8080/"
        },
        "id": "09135955",
        "outputId": "a8e94fa1-d357-4080-c1b6-2c5cea3d50f0"
      },
      "outputs": [
        {
          "name": "stdout",
          "output_type": "stream",
          "text": [
            "<class 'pandas.core.frame.DataFrame'>\n",
            "RangeIndex: 192 entries, 0 to 191\n",
            "Data columns (total 1 columns):\n",
            " #   Column   Non-Null Count  Dtype \n",
            "---  ------   --------------  ----- \n",
            " 0   archivo  192 non-null    object\n",
            "dtypes: object(1)\n",
            "memory usage: 1.6+ KB\n"
          ]
        }
      ],
      "source": [
        "#los códigos están en un TSV con un código por línea\n",
        "test_diag = pd.read_csv(\"data/test/test.tsv\", sep=\"\\t\", header=None, names=['archivo'])\n",
        "test_diag.info()"
      ]
    },
    {
      "cell_type": "code",
      "execution_count": 12,
      "id": "977463ca",
      "metadata": {
        "id": "977463ca"
      },
      "outputs": [],
      "source": [
        "path = 'data/test/text_files/'\n",
        "\n",
        "# Lista para almacenar los textos y sus códigos correspondientes\n",
        "corpus = []\n",
        "\n",
        "# Itera sobre los archivos de texto en el directorio\n",
        "for f in [f for f in os.listdir(path) if f.endswith('.txt')]:\n",
        "    with open(os.path.join(path, f), encoding=\"utf8\") as text:\n",
        "        texto = text.read()\n",
        "\n",
        "    # Extrae el código del nombre del archivo\n",
        "    file = f[:-4]\n",
        "\n",
        "    # Agrega el texto al corpus\n",
        "    corpus.append({\n",
        "        'archivo': file,\n",
        "        'texto': texto\n",
        "    })\n",
        "\n",
        "# Crea un DataFrame a partir del corpus\n",
        "df_test = pd.DataFrame(corpus).set_index('archivo')"
      ]
    },
    {
      "cell_type": "code",
      "execution_count": 13,
      "id": "22a7def9",
      "metadata": {
        "colab": {
          "base_uri": "https://localhost:8080/",
          "height": 1000
        },
        "id": "22a7def9",
        "outputId": "baa2230a-288a-489e-eafc-98dde2ee254e"
      },
      "outputs": [
        {
          "data": {
            "application/vnd.google.colaboratory.intrinsic+json": {
              "summary": "{\n  \"name\": \"df_test\",\n  \"rows\": 3,\n  \"fields\": [\n    {\n      \"column\": \"archivo\",\n      \"properties\": {\n        \"dtype\": \"string\",\n        \"num_unique_values\": 3,\n        \"samples\": [\n          \"S1130-01082009000400009-1\",\n          \"S0004-06142008000500009-1\",\n          \"S0004-06142010000300011-1\"\n        ],\n        \"semantic_type\": \"\",\n        \"description\": \"\"\n      }\n    },\n    {\n      \"column\": \"texto\",\n      \"properties\": {\n        \"dtype\": \"string\",\n        \"num_unique_values\": 3,\n        \"samples\": [\n          \"Var\\u00f3n de 50 a\\u00f1os, diagnosticado de enfermedad de Crohn con afectaci\\u00f3n ileal y perianal compleja en tratamiento inmunosupresor, que acudi\\u00f3 a Urgencias por fiebre, supuraci\\u00f3n perianal y diarrea de 1 semana de evoluci\\u00f3n. El enfermo manten\\u00eda terapia con salicilatos y azatioprina (2,5 mg/kg/d\\u00eda, ajustada seg\\u00fan niveles de TPMT) desde hac\\u00eda 2 a\\u00f1os y hab\\u00eda recibido 6 dosis de infliximab, tratamiento biol\\u00f3gico que interrumpi\\u00f3 6 meses antes del ingreso actual, por motivos laborales.\\nA la exploraci\\u00f3n f\\u00edsica, el paciente impresionaba de mal estado general, estando febril (39 \\u00baC), hipotenso (TA 80/40 mmHg), taquic\\u00e1rdico (104 lpm) y taquipneico (22 rpm). En fosa iliaca derecha se le palpaba un \\\"efecto masa\\\", de consistencia aumentada y se objetivaba un orificio fistuloso en gl\\u00fateo izquierdo sobre un \\u00e1rea indurada, eritematosa, caliente y dolorosa. La anal\\u00edtica urgente mostraba anemia (Hb 7,9 g/dl, Hcto 29%), insuficiencia renal (creatinina 4 mg/dl) y elevaci\\u00f3n de reactantes de fase aguda (PCR 127, plaquetas 424.000/ml). Con el probable diagn\\u00f3stico de sepsis e insuficiencia renal multifactorial (salicilatos, deshidrataci\\u00f3n,...) se instaur\\u00f3 tratamiento con sueroterapia y antibioterapia de amplio espectro. Durante las siguientes 24 horas, el paciente present\\u00f3 desorientaci\\u00f3n, agitaci\\u00f3n y deterioro de su funci\\u00f3n renal con evidentes alteraciones metab\\u00f3licas e hidroelectrol\\u00edticas (urea 68 mmol/l, creatinina 6,9 mg/dl, sodio 138 mmol/l, potasio 6 mmol/l, calcio total 7,5 mmol/l, f\\u00f3sforo inorg\\u00e1nico 5,1 mmol/l, LDH 17.481 U/l, urato 44 mg/dl). A la vista de estos resultados, se realiz\\u00f3 una ecografia Doppler renal que result\\u00f3 anodina, interpret\\u00e1ndose el fracaso renal como de origen multifactorial agravado por la precipitaci\\u00f3n de cristales de \\u00e1cido \\u00farico, para lo que se instaur\\u00f3 tratamiento con hiperhidrataci\\u00f3n, alcalinizaci\\u00f3n de la orina, hemodi\\u00e1lisis, alopurinol y rasburicasa con marcado descenso de los niveles de urato (urato 1,8 mg/dl). No obstante, ante el empeoramiento cl\\u00ednico progresivo del estado general del paciente se realiz\\u00f3 un TAC abdominop\\u00e9lvico que demostr\\u00f3 una masa retroperitoneal, de 13 x 10 cm y una lesi\\u00f3n, en flanco derecho, de 15 x 8,6 cm, que parec\\u00eda corresponder a un conglomerado de asas fijas con pared engrosada, sin poder descartar una neoplasia subyacente. Tambi\\u00e9n se apreciaron m\\u00faltiples adenopat\\u00edas en cadena mesent\\u00e9rica, iliacas e inguinales, as\\u00ed como una lesi\\u00f3n perirrectal izquierda, en probable relaci\\u00f3n a su antecedente de absceso y f\\u00edstula perianal. Esta \\u00faltima lesi\\u00f3n era el \\u00fanico hallazgo radiol\\u00f3gico objetivado, dos meses antes del episodio actual, en una resonancia abdomino-p\\u00e9lvica de control de su enfermedad perianal.\\nA pesar del tratamiento de soporte instaurado, el paciente continu\\u00f3 con fiebre, disminuci\\u00f3n del nivel de consciencia, disnea progresiva y anuria, falleciendo tres d\\u00edas despu\\u00e9s de su ingreso en planta. El diagn\\u00f3stico definitivo fue obtenido tras la realizaci\\u00f3n de una necropsia: plasmocitoma plasmobl\\u00e1stico con predominio de cadenas ligeras tipo lamda que infiltraba \\u00edleon terminal y ciego, ra\\u00edz del mesenterio, ganglios linf\\u00e1ticos abdominales y m\\u00e9dula \\u00f3sea.\\n\\n\",\n          \"Mujer de 46 a\\u00f1os de edad, con antecedente de endometriosis ov\\u00e1rica, a quien se practic\\u00f3 una histerectom\\u00eda abdominal con doble anexectom\\u00eda por endometriosis 45 d\\u00edas antes de acudir a consulta, remitida por su ginec\\u00f3logo por presentar desde el postoperatorio inmediato dolor continuo en regi\\u00f3n iliaca y sacra derecha que mejoraba con antiinflamatorios y por objetivarse en una ecograf\\u00eda abdominal una discreta ectasia renal. A la exploraci\\u00f3n la paciente presenta dolor y defensa a la palpaci\\u00f3n profunda de fosa lumbar derecha y dolorimiento a la percusi\\u00f3n y palpaci\\u00f3n de fosa lumbar izquierda, sugestivo de patolog\\u00eda retroperitoneal.\\nSe realiza urograf\\u00eda intravenosa (UIV) y Tomograf\\u00eda computerizada (TAC) simult\\u00e1neos, observ\\u00e1ndose ri\\u00f1\\u00f3n derecho funcionante con retraso en la captaci\\u00f3n y eliminaci\\u00f3n de contraste y borramiento de la l\\u00ednea de psoas derecho. En la TAC se objetiva imagen lobulada de contenido l\\u00edquido y con aparente extravasaci\\u00f3n de contraste, estando el ur\\u00e9ter incluido en dicha formaci\\u00f3n. Con el diagn\\u00f3stico de urinoma por ligadura o secci\\u00f3n del ur\\u00e9ter derecho y tras estudio preoperatorio se realiza, v\\u00eda iliaca, ureterolisis y ex\\u00e9resis del urinoma, con anastomosis termino-terminal del ur\\u00e9ter tras refrescamiento de los bordes y liberaci\\u00f3n de ambos extremos. Se deja cat\\u00e9ter doble J tutorizando el ur\\u00e9ter que se retira al mes de la cirug\\u00eda. La evoluci\\u00f3n de la paciente ha sido favorable sin complicaciones en el postoperatorio. En el control al a\\u00f1o de la intervenci\\u00f3n se objetiva buena funci\\u00f3n renal con normalidad de la v\\u00eda urinaria en UIV.\\n\\n\",\n          \"Paciente de 24 a\\u00f1os con un hermano gemelo que en Diciembre de 2005 fue intervenido de neoplasia combinada (adenocarcinoma mucinoso y carcinoide de c\\u00e9lulas caliciformes, T4N2M1) que infiltraba la pared apendicular y el meso, con m\\u00faltiples implantes peritoneales y afectaci\\u00f3n de 8 de los 29 ganglios aislados. Se someti\\u00f3 a hemicolectom\\u00eda derecha, peritonectom\\u00eda y resecci\\u00f3n de implantes macrosc\\u00f3picos de peritoneo visceral. Posteriormente se inici\\u00f3 tratamiento quimioter\\u00e1pico coadyuvante con el esquema mFOLFOX4 por 12 ciclos, con episodios de diarrea tras segundo y tercer ciclo y reacci\\u00f3n hurticariforme tras el 7o. Al inicio de la quimioterapia el 5HIAA en orina de 24 horas estaba dentro de los par\\u00e1metros normales y el rastreo corporal con In.111 pentre\\u00f3tida y SPECT no presentaron alteraciones.\\nDiez meses tras la cirug\\u00eda present\\u00f3 un cuadro de dolor testicular agudo. A la exploraci\\u00f3n f\\u00edsica present\\u00f3 teste derecho horinzontalizado, aumentado de tama\\u00f1o y de consistencia dura e irregular en polo superior as\\u00ed como engrosamiento de cord\\u00f3n esperm\\u00e1tico. En la ecograf\\u00eda doppler testicular el test\\u00edculo derecho present\\u00f3 aumento de calibre de las estructuras vasculares, epid\\u00eddimo engrosado, hipoecoico y con vascularizaci\\u00f3n perif\\u00e9rica. Se observ\\u00f3 contenido escrotal anecoico con contenido ecog\\u00e9nico m\\u00f3vil, compatible con hidrocele complicado (piocele y hematocele...). Se decidi\\u00f3 exploraci\\u00f3n quir\\u00fargica urgente en la que se observ\\u00f3 hematocele y engrosamiento con induraci\\u00f3n de la vaginal testicular. La anatom\\u00eda patol\\u00f3gica intraoperatoria se inform\\u00f3 de infiltraci\\u00f3n por adenocarcinoma mucinoso. Se realiz\\u00f3 orquiectom\\u00eda radical derecha con ligadura del cord\\u00f3n a ra\\u00edz del escroto. El an\\u00e1lisis anatomopatol\\u00f3gico definitivo mostr\\u00f3 una neoplasia de la vaginal testicular configurada por lagos de moco y grupos de c\\u00e9lulas epiteliales, la mayor\\u00eda en con morfolog\\u00eda de anillo de sello, sin afectaci\\u00f3n del epid\\u00eddimo ni del test\\u00edculo.\\n\\nTras la cirug\\u00eda testicular se administr\\u00f3 quimioterapia con esquema FOLFIRI m\\u00e1s BEVACIZUMAB en el 3er ciclo. Nueve meses tras la orquiectom\\u00eda el paciente present\\u00f3 progresi\\u00f3n hep\\u00e1tica, pancre\\u00e1tica y adenop\\u00e1tica regional, presentando cuadros suboclusivos. Falleci\\u00f3 a los 21 meses del diagn\\u00f3stico.\\n\\n\"\n        ],\n        \"semantic_type\": \"\",\n        \"description\": \"\"\n      }\n    }\n  ]\n}",
              "type": "dataframe"
            },
            "text/html": [
              "\n",
              "  <div id=\"df-ba60dc13-e73e-4730-a560-dadd5459318c\" class=\"colab-df-container\">\n",
              "    <div>\n",
              "<style scoped>\n",
              "    .dataframe tbody tr th:only-of-type {\n",
              "        vertical-align: middle;\n",
              "    }\n",
              "\n",
              "    .dataframe tbody tr th {\n",
              "        vertical-align: top;\n",
              "    }\n",
              "\n",
              "    .dataframe thead th {\n",
              "        text-align: right;\n",
              "    }\n",
              "</style>\n",
              "<table border=\"1\" class=\"dataframe\">\n",
              "  <thead>\n",
              "    <tr style=\"text-align: right;\">\n",
              "      <th></th>\n",
              "      <th>texto</th>\n",
              "    </tr>\n",
              "    <tr>\n",
              "      <th>archivo</th>\n",
              "      <th></th>\n",
              "    </tr>\n",
              "  </thead>\n",
              "  <tbody>\n",
              "    <tr>\n",
              "      <th>S1130-01082009000400009-1</th>\n",
              "      <td>Varón de 50 años, diagnosticado de enfermedad de Crohn con afectación ileal y perianal compleja en tratamiento inmunosupresor, que acudió a Urgencias por fiebre, supuración perianal y diarrea de 1 semana de evolución. El enfermo mantenía terapia con salicilatos y azatioprina (2,5 mg/kg/día, ajustada según niveles de TPMT) desde hacía 2 años y había recibido 6 dosis de infliximab, tratamiento biológico que interrumpió 6 meses antes del ingreso actual, por motivos laborales.\\nA la exploración física, el paciente impresionaba de mal estado general, estando febril (39 ºC), hipotenso (TA 80/40 mmHg), taquicárdico (104 lpm) y taquipneico (22 rpm). En fosa iliaca derecha se le palpaba un \"efecto masa\", de consistencia aumentada y se objetivaba un orificio fistuloso en glúteo izquierdo sobre un área indurada, eritematosa, caliente y dolorosa. La analítica urgente mostraba anemia (Hb 7,9 g/dl, Hcto 29%), insuficiencia renal (creatinina 4 mg/dl) y elevación de reactantes de fase aguda (PCR 127, plaquetas 424.000/ml). Con el probable diagnóstico de sepsis e insuficiencia renal multifactorial (salicilatos, deshidratación,...) se instauró tratamiento con sueroterapia y antibioterapia de amplio espectro. Durante las siguientes 24 horas, el paciente presentó desorientación, agitación y deterioro de su función renal con evidentes alteraciones metabólicas e hidroelectrolíticas (urea 68 mmol/l, creatinina 6,9 mg/dl, sodio 138 mmol/l, potasio 6 mmol/l, calcio total 7,5 mmol/l, fósforo inorgánico 5,1 mmol/l, LDH 17.481 U/l, urato 44 mg/dl). A la vista de estos resultados, se realizó una ecografia Doppler renal que resultó anodina, interpretándose el fracaso renal como de origen multifactorial agravado por la precipitación de cristales de ácido úrico, para lo que se instauró tratamiento con hiperhidratación, alcalinización de la orina, hemodiálisis, alopurinol y rasburicasa con marcado descenso de los niveles de urato (urato 1,8 mg/dl). No obstante, ante el empeoramiento clínico progresivo del estado general del paciente se realizó un TAC abdominopélvico que demostró una masa retroperitoneal, de 13 x 10 cm y una lesión, en flanco derecho, de 15 x 8,6 cm, que parecía corresponder a un conglomerado de asas fijas con pared engrosada, sin poder descartar una neoplasia subyacente. También se apreciaron múltiples adenopatías en cadena mesentérica, iliacas e inguinales, así como una lesión perirrectal izquierda, en probable relación a su antecedente de absceso y fístula perianal. Esta última lesión era el único hallazgo radiológico objetivado, dos meses antes del episodio actual, en una resonancia abdomino-pélvica de control de su enfermedad perianal.\\nA pesar del tratamiento de soporte instaurado, el paciente continuó con fiebre, disminución del nivel de consciencia, disnea progresiva y anuria, falleciendo tres días después de su ingreso en planta. El diagnóstico definitivo fue obtenido tras la realización de una necropsia: plasmocitoma plasmoblástico con predominio de cadenas ligeras tipo lamda que infiltraba íleon terminal y ciego, raíz del mesenterio, ganglios linfáticos abdominales y médula ósea.\\n\\n</td>\n",
              "    </tr>\n",
              "    <tr>\n",
              "      <th>S0004-06142008000500009-1</th>\n",
              "      <td>Mujer de 46 años de edad, con antecedente de endometriosis ovárica, a quien se practicó una histerectomía abdominal con doble anexectomía por endometriosis 45 días antes de acudir a consulta, remitida por su ginecólogo por presentar desde el postoperatorio inmediato dolor continuo en región iliaca y sacra derecha que mejoraba con antiinflamatorios y por objetivarse en una ecografía abdominal una discreta ectasia renal. A la exploración la paciente presenta dolor y defensa a la palpación profunda de fosa lumbar derecha y dolorimiento a la percusión y palpación de fosa lumbar izquierda, sugestivo de patología retroperitoneal.\\nSe realiza urografía intravenosa (UIV) y Tomografía computerizada (TAC) simultáneos, observándose riñón derecho funcionante con retraso en la captación y eliminación de contraste y borramiento de la línea de psoas derecho. En la TAC se objetiva imagen lobulada de contenido líquido y con aparente extravasación de contraste, estando el uréter incluido en dicha formación. Con el diagnóstico de urinoma por ligadura o sección del uréter derecho y tras estudio preoperatorio se realiza, vía iliaca, ureterolisis y exéresis del urinoma, con anastomosis termino-terminal del uréter tras refrescamiento de los bordes y liberación de ambos extremos. Se deja catéter doble J tutorizando el uréter que se retira al mes de la cirugía. La evolución de la paciente ha sido favorable sin complicaciones en el postoperatorio. En el control al año de la intervención se objetiva buena función renal con normalidad de la vía urinaria en UIV.\\n\\n</td>\n",
              "    </tr>\n",
              "    <tr>\n",
              "      <th>S0004-06142010000300011-1</th>\n",
              "      <td>Paciente de 24 años con un hermano gemelo que en Diciembre de 2005 fue intervenido de neoplasia combinada (adenocarcinoma mucinoso y carcinoide de células caliciformes, T4N2M1) que infiltraba la pared apendicular y el meso, con múltiples implantes peritoneales y afectación de 8 de los 29 ganglios aislados. Se sometió a hemicolectomía derecha, peritonectomía y resección de implantes macroscópicos de peritoneo visceral. Posteriormente se inició tratamiento quimioterápico coadyuvante con el esquema mFOLFOX4 por 12 ciclos, con episodios de diarrea tras segundo y tercer ciclo y reacción hurticariforme tras el 7o. Al inicio de la quimioterapia el 5HIAA en orina de 24 horas estaba dentro de los parámetros normales y el rastreo corporal con In.111 pentreótida y SPECT no presentaron alteraciones.\\nDiez meses tras la cirugía presentó un cuadro de dolor testicular agudo. A la exploración física presentó teste derecho horinzontalizado, aumentado de tamaño y de consistencia dura e irregular en polo superior así como engrosamiento de cordón espermático. En la ecografía doppler testicular el testículo derecho presentó aumento de calibre de las estructuras vasculares, epidídimo engrosado, hipoecoico y con vascularización periférica. Se observó contenido escrotal anecoico con contenido ecogénico móvil, compatible con hidrocele complicado (piocele y hematocele...). Se decidió exploración quirúrgica urgente en la que se observó hematocele y engrosamiento con induración de la vaginal testicular. La anatomía patológica intraoperatoria se informó de infiltración por adenocarcinoma mucinoso. Se realizó orquiectomía radical derecha con ligadura del cordón a raíz del escroto. El análisis anatomopatológico definitivo mostró una neoplasia de la vaginal testicular configurada por lagos de moco y grupos de células epiteliales, la mayoría en con morfología de anillo de sello, sin afectación del epidídimo ni del testículo.\\n\\nTras la cirugía testicular se administró quimioterapia con esquema FOLFIRI más BEVACIZUMAB en el 3er ciclo. Nueve meses tras la orquiectomía el paciente presentó progresión hepática, pancreática y adenopática regional, presentando cuadros suboclusivos. Falleció a los 21 meses del diagnóstico.\\n\\n</td>\n",
              "    </tr>\n",
              "  </tbody>\n",
              "</table>\n",
              "</div>\n",
              "    <div class=\"colab-df-buttons\">\n",
              "\n",
              "  <div class=\"colab-df-container\">\n",
              "    <button class=\"colab-df-convert\" onclick=\"convertToInteractive('df-ba60dc13-e73e-4730-a560-dadd5459318c')\"\n",
              "            title=\"Convert this dataframe to an interactive table.\"\n",
              "            style=\"display:none;\">\n",
              "\n",
              "  <svg xmlns=\"http://www.w3.org/2000/svg\" height=\"24px\" viewBox=\"0 -960 960 960\">\n",
              "    <path d=\"M120-120v-720h720v720H120Zm60-500h600v-160H180v160Zm220 220h160v-160H400v160Zm0 220h160v-160H400v160ZM180-400h160v-160H180v160Zm440 0h160v-160H620v160ZM180-180h160v-160H180v160Zm440 0h160v-160H620v160Z\"/>\n",
              "  </svg>\n",
              "    </button>\n",
              "\n",
              "  <style>\n",
              "    .colab-df-container {\n",
              "      display:flex;\n",
              "      gap: 12px;\n",
              "    }\n",
              "\n",
              "    .colab-df-convert {\n",
              "      background-color: #E8F0FE;\n",
              "      border: none;\n",
              "      border-radius: 50%;\n",
              "      cursor: pointer;\n",
              "      display: none;\n",
              "      fill: #1967D2;\n",
              "      height: 32px;\n",
              "      padding: 0 0 0 0;\n",
              "      width: 32px;\n",
              "    }\n",
              "\n",
              "    .colab-df-convert:hover {\n",
              "      background-color: #E2EBFA;\n",
              "      box-shadow: 0px 1px 2px rgba(60, 64, 67, 0.3), 0px 1px 3px 1px rgba(60, 64, 67, 0.15);\n",
              "      fill: #174EA6;\n",
              "    }\n",
              "\n",
              "    .colab-df-buttons div {\n",
              "      margin-bottom: 4px;\n",
              "    }\n",
              "\n",
              "    [theme=dark] .colab-df-convert {\n",
              "      background-color: #3B4455;\n",
              "      fill: #D2E3FC;\n",
              "    }\n",
              "\n",
              "    [theme=dark] .colab-df-convert:hover {\n",
              "      background-color: #434B5C;\n",
              "      box-shadow: 0px 1px 3px 1px rgba(0, 0, 0, 0.15);\n",
              "      filter: drop-shadow(0px 1px 2px rgba(0, 0, 0, 0.3));\n",
              "      fill: #FFFFFF;\n",
              "    }\n",
              "  </style>\n",
              "\n",
              "    <script>\n",
              "      const buttonEl =\n",
              "        document.querySelector('#df-ba60dc13-e73e-4730-a560-dadd5459318c button.colab-df-convert');\n",
              "      buttonEl.style.display =\n",
              "        google.colab.kernel.accessAllowed ? 'block' : 'none';\n",
              "\n",
              "      async function convertToInteractive(key) {\n",
              "        const element = document.querySelector('#df-ba60dc13-e73e-4730-a560-dadd5459318c');\n",
              "        const dataTable =\n",
              "          await google.colab.kernel.invokeFunction('convertToInteractive',\n",
              "                                                    [key], {});\n",
              "        if (!dataTable) return;\n",
              "\n",
              "        const docLinkHtml = 'Like what you see? Visit the ' +\n",
              "          '<a target=\"_blank\" href=https://colab.research.google.com/notebooks/data_table.ipynb>data table notebook</a>'\n",
              "          + ' to learn more about interactive tables.';\n",
              "        element.innerHTML = '';\n",
              "        dataTable['output_type'] = 'display_data';\n",
              "        await google.colab.output.renderOutput(dataTable, element);\n",
              "        const docLink = document.createElement('div');\n",
              "        docLink.innerHTML = docLinkHtml;\n",
              "        element.appendChild(docLink);\n",
              "      }\n",
              "    </script>\n",
              "  </div>\n",
              "\n",
              "\n",
              "<div id=\"df-eeb81b29-314b-499d-bd16-0923e236be04\">\n",
              "  <button class=\"colab-df-quickchart\" onclick=\"quickchart('df-eeb81b29-314b-499d-bd16-0923e236be04')\"\n",
              "            title=\"Suggest charts\"\n",
              "            style=\"display:none;\">\n",
              "\n",
              "<svg xmlns=\"http://www.w3.org/2000/svg\" height=\"24px\"viewBox=\"0 0 24 24\"\n",
              "     width=\"24px\">\n",
              "    <g>\n",
              "        <path d=\"M19 3H5c-1.1 0-2 .9-2 2v14c0 1.1.9 2 2 2h14c1.1 0 2-.9 2-2V5c0-1.1-.9-2-2-2zM9 17H7v-7h2v7zm4 0h-2V7h2v10zm4 0h-2v-4h2v4z\"/>\n",
              "    </g>\n",
              "</svg>\n",
              "  </button>\n",
              "\n",
              "<style>\n",
              "  .colab-df-quickchart {\n",
              "      --bg-color: #E8F0FE;\n",
              "      --fill-color: #1967D2;\n",
              "      --hover-bg-color: #E2EBFA;\n",
              "      --hover-fill-color: #174EA6;\n",
              "      --disabled-fill-color: #AAA;\n",
              "      --disabled-bg-color: #DDD;\n",
              "  }\n",
              "\n",
              "  [theme=dark] .colab-df-quickchart {\n",
              "      --bg-color: #3B4455;\n",
              "      --fill-color: #D2E3FC;\n",
              "      --hover-bg-color: #434B5C;\n",
              "      --hover-fill-color: #FFFFFF;\n",
              "      --disabled-bg-color: #3B4455;\n",
              "      --disabled-fill-color: #666;\n",
              "  }\n",
              "\n",
              "  .colab-df-quickchart {\n",
              "    background-color: var(--bg-color);\n",
              "    border: none;\n",
              "    border-radius: 50%;\n",
              "    cursor: pointer;\n",
              "    display: none;\n",
              "    fill: var(--fill-color);\n",
              "    height: 32px;\n",
              "    padding: 0;\n",
              "    width: 32px;\n",
              "  }\n",
              "\n",
              "  .colab-df-quickchart:hover {\n",
              "    background-color: var(--hover-bg-color);\n",
              "    box-shadow: 0 1px 2px rgba(60, 64, 67, 0.3), 0 1px 3px 1px rgba(60, 64, 67, 0.15);\n",
              "    fill: var(--button-hover-fill-color);\n",
              "  }\n",
              "\n",
              "  .colab-df-quickchart-complete:disabled,\n",
              "  .colab-df-quickchart-complete:disabled:hover {\n",
              "    background-color: var(--disabled-bg-color);\n",
              "    fill: var(--disabled-fill-color);\n",
              "    box-shadow: none;\n",
              "  }\n",
              "\n",
              "  .colab-df-spinner {\n",
              "    border: 2px solid var(--fill-color);\n",
              "    border-color: transparent;\n",
              "    border-bottom-color: var(--fill-color);\n",
              "    animation:\n",
              "      spin 1s steps(1) infinite;\n",
              "  }\n",
              "\n",
              "  @keyframes spin {\n",
              "    0% {\n",
              "      border-color: transparent;\n",
              "      border-bottom-color: var(--fill-color);\n",
              "      border-left-color: var(--fill-color);\n",
              "    }\n",
              "    20% {\n",
              "      border-color: transparent;\n",
              "      border-left-color: var(--fill-color);\n",
              "      border-top-color: var(--fill-color);\n",
              "    }\n",
              "    30% {\n",
              "      border-color: transparent;\n",
              "      border-left-color: var(--fill-color);\n",
              "      border-top-color: var(--fill-color);\n",
              "      border-right-color: var(--fill-color);\n",
              "    }\n",
              "    40% {\n",
              "      border-color: transparent;\n",
              "      border-right-color: var(--fill-color);\n",
              "      border-top-color: var(--fill-color);\n",
              "    }\n",
              "    60% {\n",
              "      border-color: transparent;\n",
              "      border-right-color: var(--fill-color);\n",
              "    }\n",
              "    80% {\n",
              "      border-color: transparent;\n",
              "      border-right-color: var(--fill-color);\n",
              "      border-bottom-color: var(--fill-color);\n",
              "    }\n",
              "    90% {\n",
              "      border-color: transparent;\n",
              "      border-bottom-color: var(--fill-color);\n",
              "    }\n",
              "  }\n",
              "</style>\n",
              "\n",
              "  <script>\n",
              "    async function quickchart(key) {\n",
              "      const quickchartButtonEl =\n",
              "        document.querySelector('#' + key + ' button');\n",
              "      quickchartButtonEl.disabled = true;  // To prevent multiple clicks.\n",
              "      quickchartButtonEl.classList.add('colab-df-spinner');\n",
              "      try {\n",
              "        const charts = await google.colab.kernel.invokeFunction(\n",
              "            'suggestCharts', [key], {});\n",
              "      } catch (error) {\n",
              "        console.error('Error during call to suggestCharts:', error);\n",
              "      }\n",
              "      quickchartButtonEl.classList.remove('colab-df-spinner');\n",
              "      quickchartButtonEl.classList.add('colab-df-quickchart-complete');\n",
              "    }\n",
              "    (() => {\n",
              "      let quickchartButtonEl =\n",
              "        document.querySelector('#df-eeb81b29-314b-499d-bd16-0923e236be04 button');\n",
              "      quickchartButtonEl.style.display =\n",
              "        google.colab.kernel.accessAllowed ? 'block' : 'none';\n",
              "    })();\n",
              "  </script>\n",
              "</div>\n",
              "    </div>\n",
              "  </div>\n"
            ],
            "text/plain": [
              "                                                                                                                                                                                                                                                                                                                                                                                                                                                                                                                                                                                                                                                                                                                                                                                                                                                                                                                                                                                                                                                                                                                                                                                                                                                                                                                                                                                                                                                                                                                                                                                                                                                                                                                                                                                                                                                                                                                                                                                                                                                                                                                                                                                                                                                                                                                                                                                                                                                                                                                                                                                                                                                                                                                                                                                                                                                                                                                                                                                                                                                                                                                                                                                                                                                                                    texto\n",
              "archivo                                                                                                                                                                                                                                                                                                                                                                                                                                                                                                                                                                                                                                                                                                                                                                                                                                                                                                                                                                                                                                                                                                                                                                                                                                                                                                                                                                                                                                                                                                                                                                                                                                                                                                                                                                                                                                                                                                                                                                                                                                                                                                                                                                                                                                                                                                                                                                                                                                                                                                                                                                                                                                                                                                                                                                                                                                                                                                                                                                                                                                                                                                                                                                                                                                                                                  \n",
              "S1130-01082009000400009-1  Varón de 50 años, diagnosticado de enfermedad de Crohn con afectación ileal y perianal compleja en tratamiento inmunosupresor, que acudió a Urgencias por fiebre, supuración perianal y diarrea de 1 semana de evolución. El enfermo mantenía terapia con salicilatos y azatioprina (2,5 mg/kg/día, ajustada según niveles de TPMT) desde hacía 2 años y había recibido 6 dosis de infliximab, tratamiento biológico que interrumpió 6 meses antes del ingreso actual, por motivos laborales.\\nA la exploración física, el paciente impresionaba de mal estado general, estando febril (39 ºC), hipotenso (TA 80/40 mmHg), taquicárdico (104 lpm) y taquipneico (22 rpm). En fosa iliaca derecha se le palpaba un \"efecto masa\", de consistencia aumentada y se objetivaba un orificio fistuloso en glúteo izquierdo sobre un área indurada, eritematosa, caliente y dolorosa. La analítica urgente mostraba anemia (Hb 7,9 g/dl, Hcto 29%), insuficiencia renal (creatinina 4 mg/dl) y elevación de reactantes de fase aguda (PCR 127, plaquetas 424.000/ml). Con el probable diagnóstico de sepsis e insuficiencia renal multifactorial (salicilatos, deshidratación,...) se instauró tratamiento con sueroterapia y antibioterapia de amplio espectro. Durante las siguientes 24 horas, el paciente presentó desorientación, agitación y deterioro de su función renal con evidentes alteraciones metabólicas e hidroelectrolíticas (urea 68 mmol/l, creatinina 6,9 mg/dl, sodio 138 mmol/l, potasio 6 mmol/l, calcio total 7,5 mmol/l, fósforo inorgánico 5,1 mmol/l, LDH 17.481 U/l, urato 44 mg/dl). A la vista de estos resultados, se realizó una ecografia Doppler renal que resultó anodina, interpretándose el fracaso renal como de origen multifactorial agravado por la precipitación de cristales de ácido úrico, para lo que se instauró tratamiento con hiperhidratación, alcalinización de la orina, hemodiálisis, alopurinol y rasburicasa con marcado descenso de los niveles de urato (urato 1,8 mg/dl). No obstante, ante el empeoramiento clínico progresivo del estado general del paciente se realizó un TAC abdominopélvico que demostró una masa retroperitoneal, de 13 x 10 cm y una lesión, en flanco derecho, de 15 x 8,6 cm, que parecía corresponder a un conglomerado de asas fijas con pared engrosada, sin poder descartar una neoplasia subyacente. También se apreciaron múltiples adenopatías en cadena mesentérica, iliacas e inguinales, así como una lesión perirrectal izquierda, en probable relación a su antecedente de absceso y fístula perianal. Esta última lesión era el único hallazgo radiológico objetivado, dos meses antes del episodio actual, en una resonancia abdomino-pélvica de control de su enfermedad perianal.\\nA pesar del tratamiento de soporte instaurado, el paciente continuó con fiebre, disminución del nivel de consciencia, disnea progresiva y anuria, falleciendo tres días después de su ingreso en planta. El diagnóstico definitivo fue obtenido tras la realización de una necropsia: plasmocitoma plasmoblástico con predominio de cadenas ligeras tipo lamda que infiltraba íleon terminal y ciego, raíz del mesenterio, ganglios linfáticos abdominales y médula ósea.\\n\\n\n",
              "S0004-06142008000500009-1                                                                                                                                                                                                                                                                                                                                                                                                                                                                                                                                                                                                                                                                                                                                                                                                                                                                                                                                                                                                                                                                                                                                                                                                                                                                                                                                                                                                                                                                                                                                                                                                                                     Mujer de 46 años de edad, con antecedente de endometriosis ovárica, a quien se practicó una histerectomía abdominal con doble anexectomía por endometriosis 45 días antes de acudir a consulta, remitida por su ginecólogo por presentar desde el postoperatorio inmediato dolor continuo en región iliaca y sacra derecha que mejoraba con antiinflamatorios y por objetivarse en una ecografía abdominal una discreta ectasia renal. A la exploración la paciente presenta dolor y defensa a la palpación profunda de fosa lumbar derecha y dolorimiento a la percusión y palpación de fosa lumbar izquierda, sugestivo de patología retroperitoneal.\\nSe realiza urografía intravenosa (UIV) y Tomografía computerizada (TAC) simultáneos, observándose riñón derecho funcionante con retraso en la captación y eliminación de contraste y borramiento de la línea de psoas derecho. En la TAC se objetiva imagen lobulada de contenido líquido y con aparente extravasación de contraste, estando el uréter incluido en dicha formación. Con el diagnóstico de urinoma por ligadura o sección del uréter derecho y tras estudio preoperatorio se realiza, vía iliaca, ureterolisis y exéresis del urinoma, con anastomosis termino-terminal del uréter tras refrescamiento de los bordes y liberación de ambos extremos. Se deja catéter doble J tutorizando el uréter que se retira al mes de la cirugía. La evolución de la paciente ha sido favorable sin complicaciones en el postoperatorio. En el control al año de la intervención se objetiva buena función renal con normalidad de la vía urinaria en UIV.\\n\\n\n",
              "S0004-06142010000300011-1                                                                                                                                                                                                                                                                                                                                                                                                                                                                                                                                                                                                                                                                                                                                                                                                                                                                                                                                              Paciente de 24 años con un hermano gemelo que en Diciembre de 2005 fue intervenido de neoplasia combinada (adenocarcinoma mucinoso y carcinoide de células caliciformes, T4N2M1) que infiltraba la pared apendicular y el meso, con múltiples implantes peritoneales y afectación de 8 de los 29 ganglios aislados. Se sometió a hemicolectomía derecha, peritonectomía y resección de implantes macroscópicos de peritoneo visceral. Posteriormente se inició tratamiento quimioterápico coadyuvante con el esquema mFOLFOX4 por 12 ciclos, con episodios de diarrea tras segundo y tercer ciclo y reacción hurticariforme tras el 7o. Al inicio de la quimioterapia el 5HIAA en orina de 24 horas estaba dentro de los parámetros normales y el rastreo corporal con In.111 pentreótida y SPECT no presentaron alteraciones.\\nDiez meses tras la cirugía presentó un cuadro de dolor testicular agudo. A la exploración física presentó teste derecho horinzontalizado, aumentado de tamaño y de consistencia dura e irregular en polo superior así como engrosamiento de cordón espermático. En la ecografía doppler testicular el testículo derecho presentó aumento de calibre de las estructuras vasculares, epidídimo engrosado, hipoecoico y con vascularización periférica. Se observó contenido escrotal anecoico con contenido ecogénico móvil, compatible con hidrocele complicado (piocele y hematocele...). Se decidió exploración quirúrgica urgente en la que se observó hematocele y engrosamiento con induración de la vaginal testicular. La anatomía patológica intraoperatoria se informó de infiltración por adenocarcinoma mucinoso. Se realizó orquiectomía radical derecha con ligadura del cordón a raíz del escroto. El análisis anatomopatológico definitivo mostró una neoplasia de la vaginal testicular configurada por lagos de moco y grupos de células epiteliales, la mayoría en con morfología de anillo de sello, sin afectación del epidídimo ni del testículo.\\n\\nTras la cirugía testicular se administró quimioterapia con esquema FOLFIRI más BEVACIZUMAB en el 3er ciclo. Nueve meses tras la orquiectomía el paciente presentó progresión hepática, pancreática y adenopática regional, presentando cuadros suboclusivos. Falleció a los 21 meses del diagnóstico.\\n\\n"
            ]
          },
          "execution_count": 13,
          "metadata": {},
          "output_type": "execute_result"
        }
      ],
      "source": [
        "df_test.sample(3)"
      ]
    },
    {
      "cell_type": "markdown",
      "id": "b472f280-db6a-438d-8340-f7b19758399b",
      "metadata": {
        "id": "b472f280-db6a-438d-8340-f7b19758399b"
      },
      "source": [
        "## Binarizar las etiquetas"
      ]
    },
    {
      "cell_type": "code",
      "execution_count": 14,
      "id": "ae41be51-448e-433b-b10f-b4236afbaa7a",
      "metadata": {
        "colab": {
          "base_uri": "https://localhost:8080/"
        },
        "id": "ae41be51-448e-433b-b10f-b4236afbaa7a",
        "outputId": "b55b72cb-1664-4962-a132-fa99246cf365"
      },
      "outputs": [
        {
          "name": "stdout",
          "output_type": "stream",
          "text": [
            "10\n"
          ]
        }
      ],
      "source": [
        "# para entrenar un clasificador multi-etiqueta generamos una matriz binaria de las etiquetas\n",
        "from sklearn.preprocessing import MultiLabelBinarizer\n",
        "\n",
        "mlb = MultiLabelBinarizer()\n",
        "y_train = mlb.fit_transform(df_train['codigos'])\n",
        "\n",
        "#Guardamos las clases utilizadas en el conjunto de train\n",
        "clases = mlb.classes_\n",
        "num_classes = clases.shape\n",
        "print(num_classes[0])"
      ]
    },
    {
      "cell_type": "markdown",
      "id": "6431f372-160e-4082-8540-33d40c09e745",
      "metadata": {
        "id": "6431f372-160e-4082-8540-33d40c09e745"
      },
      "source": [
        "## Procesamiento del lenguaje natural"
      ]
    },
    {
      "cell_type": "code",
      "execution_count": 15,
      "id": "eb7c1b10-8fe0-4786-a5bc-0ae2a5384272",
      "metadata": {
        "id": "eb7c1b10-8fe0-4786-a5bc-0ae2a5384272"
      },
      "outputs": [],
      "source": [
        "import utils\n",
        "\n",
        "df_train_clean = utils.clean_corpus(df_train, column_name='texto')\n",
        "df_test_clean = utils.clean_corpus(df_test, column_name='texto')"
      ]
    },
    {
      "cell_type": "code",
      "execution_count": 16,
      "id": "8476ec88-d3f6-477f-8cc9-d298ce8077b9",
      "metadata": {
        "colab": {
          "base_uri": "https://localhost:8080/"
        },
        "id": "8476ec88-d3f6-477f-8cc9-d298ce8077b9",
        "outputId": "931f5531-381c-4df5-a398-613086c36144"
      },
      "outputs": [
        {
          "name": "stderr",
          "output_type": "stream",
          "text": [
            "[nltk_data] Downloading package punkt to /root/nltk_data...\n",
            "[nltk_data]   Unzipping tokenizers/punkt.zip.\n"
          ]
        },
        {
          "data": {
            "text/plain": [
              "True"
            ]
          },
          "execution_count": 16,
          "metadata": {},
          "output_type": "execute_result"
        }
      ],
      "source": [
        "# Hacerlo solo la primera vez\n",
        "import nltk\n",
        "nltk.download('punkt')"
      ]
    },
    {
      "cell_type": "code",
      "execution_count": 16,
      "id": "6c3955c8",
      "metadata": {
        "id": "6c3955c8"
      },
      "outputs": [],
      "source": []
    },
    {
      "cell_type": "code",
      "execution_count": 17,
      "id": "cd2a2111-b1cc-44a9-aaf6-4b215fcb1f1d",
      "metadata": {
        "colab": {
          "base_uri": "https://localhost:8080/",
          "height": 787
        },
        "id": "cd2a2111-b1cc-44a9-aaf6-4b215fcb1f1d",
        "outputId": "2eb1db8e-c18b-4923-fcb0-3571af15c3a9"
      },
      "outputs": [
        {
          "data": {
            "image/png": "[encoded data removed]",
            "text/plain": [
              "<Figure size 1000x800 with 2 Axes>"
            ]
          },
          "metadata": {},
          "output_type": "display_data"
        }
      ],
      "source": [
        "#Hay un vocabulario demasiado grande como para representarlo en una BoW\n",
        "utils.plot_bow_heatmap(df_train_clean, column_name='texto', n_words=10, n_grams=1)"
      ]
    },
    {
      "cell_type": "code",
      "execution_count": 17,
      "id": "ac5cacb7",
      "metadata": {
        "id": "ac5cacb7"
      },
      "outputs": [],
      "source": []
    },
    {
      "cell_type": "markdown",
      "id": "09324f7e-ee73-41e9-b94f-a0a6a5e38b02",
      "metadata": {
        "id": "09324f7e-ee73-41e9-b94f-a0a6a5e38b02"
      },
      "source": [
        "## Modelos"
      ]
    },
    {
      "cell_type": "code",
      "execution_count": 18,
      "id": "a284d656",
      "metadata": {
        "id": "a284d656"
      },
      "outputs": [],
      "source": [
        "from sklearn.feature_extraction.text import TfidfVectorizer\n",
        "from sklearn.pipeline import Pipeline\n",
        "from sklearn.multiclass import OneVsRestClassifier\n",
        "from sklearn.ensemble import RandomForestClassifier\n",
        "from sklearn.naive_bayes import MultinomialNB\n",
        "from sklearn.metrics import accuracy_score, f1_score\n",
        "from sklearn.model_selection import train_test_split\n",
        "from sklearn.svm import SVC\n",
        "from sklearn.linear_model import LogisticRegression\n"
      ]
    },
    {
      "cell_type": "code",
      "execution_count": 19,
      "id": "f12cc452",
      "metadata": {
        "id": "f12cc452"
      },
      "outputs": [],
      "source": [
        "# Vectorizar el texto utilizando TF-IDF\n",
        "vectorizer = TfidfVectorizer(max_features=10000)\n",
        "X_train_vectorized = vectorizer.fit_transform(df_train_clean['texto'])\n",
        "\n",
        "X_train_split, X_val_split, y_train_split, y_val_split = train_test_split(X_train_vectorized, y_train, test_size=0.2, random_state=42)"
      ]
    },
    {
      "cell_type": "code",
      "execution_count": 20,
      "id": "1f6c8dcb",
      "metadata": {
        "id": "1f6c8dcb"
      },
      "outputs": [],
      "source": [
        "model = Pipeline([\n",
        "    ('clf', OneVsRestClassifier(RandomForestClassifier()))\n",
        "])"
      ]
    },
    {
      "cell_type": "code",
      "execution_count": 21,
      "id": "c3b6b649",
      "metadata": {
        "colab": {
          "base_uri": "https://localhost:8080/"
        },
        "id": "c3b6b649",
        "outputId": "fc32b4dd-946d-44b4-e03e-d224c1e8398f"
      },
      "outputs": [
        {
          "name": "stdout",
          "output_type": "stream",
          "text": [
            "Validation Accuracy: 0.061946902654867256\n",
            "Validation F1-score: 0.28260869565217395\n"
          ]
        }
      ],
      "source": [
        "# Entrenar el modelo con los datos de entrenamiento y validar con los datos de validación\n",
        "model.fit(X_train_split, y_train_split)\n",
        "\n",
        "# Realizar predicciones en el conjunto de validación\n",
        "y_val_pred = model.predict(X_val_split)\n",
        "\n",
        "# Calcular la precisión y F1-score en el conjunto de validación\n",
        "accuracy_val = accuracy_score(y_val_split, y_val_pred)\n",
        "f1_val = f1_score(y_val_split, y_val_pred, average='micro')\n",
        "\n",
        "print(\"Validation Accuracy:\", accuracy_val)\n",
        "print(\"Validation F1-score:\", f1_val)"
      ]
    },
    {
      "cell_type": "code",
      "execution_count": 22,
      "id": "8769c284",
      "metadata": {
        "id": "8769c284"
      },
      "outputs": [],
      "source": [
        "from xgboost import XGBClassifier"
      ]
    },
    {
      "cell_type": "code",
      "execution_count": 23,
      "id": "df4a232b-c840-4d51-8c00-2000c91fd83a",
      "metadata": {
        "id": "df4a232b-c840-4d51-8c00-2000c91fd83a"
      },
      "outputs": [],
      "source": [
        "model2 = Pipeline([\n",
        "    ('clf', OneVsRestClassifier(XGBClassifier()))\n",
        "])"
      ]
    },
    {
      "cell_type": "code",
      "execution_count": 24,
      "id": "9ed98953-a8f9-453f-b107-8653c037a824",
      "metadata": {
        "colab": {
          "base_uri": "https://localhost:8080/"
        },
        "id": "9ed98953-a8f9-453f-b107-8653c037a824",
        "outputId": "acec57be-7ef7-4bae-aa30-82be8a0a32a9"
      },
      "outputs": [
        {
          "name": "stdout",
          "output_type": "stream",
          "text": [
            "Validation Accuracy: 0.5221238938053098\n",
            "Validation F1-score: 0.847682119205298\n"
          ]
        }
      ],
      "source": [
        "# Entrenar el modelo con los datos de entrenamiento y validar con los datos de validación\n",
        "model2.fit(X_train_split, y_train_split)\n",
        "\n",
        "# Realizar predicciones en el conjunto de validación\n",
        "y_val_pred = model2.predict(X_val_split)\n",
        "\n",
        "# Calcular la precisión y F1-score en el conjunto de validación\n",
        "accuracy_val = accuracy_score(y_val_split, y_val_pred)\n",
        "f1_val = f1_score(y_val_split, y_val_pred, average='micro')\n",
        "\n",
        "print(\"Validation Accuracy:\", accuracy_val)\n",
        "print(\"Validation F1-score:\", f1_val)"
      ]
    },
    {
      "cell_type": "code",
      "execution_count": 25,
      "id": "d5609387",
      "metadata": {
        "id": "d5609387"
      },
      "outputs": [],
      "source": [
        "from sklearn.ensemble import AdaBoostClassifier"
      ]
    },
    {
      "cell_type": "code",
      "execution_count": 26,
      "id": "59e6add7-769c-40b6-931b-1fca0721a749",
      "metadata": {
        "id": "59e6add7-769c-40b6-931b-1fca0721a749"
      },
      "outputs": [],
      "source": [
        "model3 = Pipeline([\n",
        "    ('clf', OneVsRestClassifier(AdaBoostClassifier()))\n",
        "])"
      ]
    },
    {
      "cell_type": "code",
      "execution_count": 27,
      "id": "a4bdeabe-13e4-48f6-bc3c-0538b3394303",
      "metadata": {
        "colab": {
          "base_uri": "https://localhost:8080/"
        },
        "id": "a4bdeabe-13e4-48f6-bc3c-0538b3394303",
        "outputId": "7ca6d224-d2f6-4864-a231-d0f74e4484fa"
      },
      "outputs": [
        {
          "name": "stdout",
          "output_type": "stream",
          "text": [
            "Validation Accuracy: 0.5132743362831859\n",
            "Validation F1-score: 0.8366890380313199\n"
          ]
        }
      ],
      "source": [
        "# Entrenar el modelo con los datos de entrenamiento y validar con los datos de validación\n",
        "model3.fit(X_train_split, y_train_split)\n",
        "\n",
        "# Realizar predicciones en el conjunto de validación\n",
        "y_val_pred = model3.predict(X_val_split)\n",
        "\n",
        "# Calcular la precisión y F1-score en el conjunto de validación\n",
        "accuracy_val = accuracy_score(y_val_split, y_val_pred)\n",
        "f1_val = f1_score(y_val_split, y_val_pred, average='micro')\n",
        "\n",
        "print(\"Validation Accuracy:\", accuracy_val)\n",
        "print(\"Validation F1-score:\", f1_val)"
      ]
    },
    {
      "cell_type": "markdown",
      "id": "55595515",
      "metadata": {
        "id": "55595515"
      },
      "source": [
        "### Búsqueda de hiperparámetros"
      ]
    },
    {
      "cell_type": "code",
      "execution_count": 28,
      "id": "152e941a",
      "metadata": {
        "id": "152e941a"
      },
      "outputs": [],
      "source": [
        "from sklearn.tree import DecisionTreeClassifier\n",
        "from sklearn.model_selection import GridSearchCV\n"
      ]
    },
    {
      "cell_type": "code",
      "execution_count": 31,
      "id": "80cc3d54",
      "metadata": {
        "colab": {
          "base_uri": "https://localhost:8080/"
        },
        "id": "80cc3d54",
        "outputId": "70a942ff-d883-4d63-bc8c-ec61dd874057"
      },
      "outputs": [
        {
          "name": "stdout",
          "output_type": "stream",
          "text": [
            "Fitting 3 folds for each of 6 candidates, totalling 18 fits\n",
            "Mejores hiperparámetros: {'clf__estimator__learning_rate': 0.01, 'clf__estimator__n_estimators': 370}\n",
            "Validation Accuracy: 0.5309734513274337\n",
            "Validation F1-score: 0.8465116279069769\n"
          ]
        }
      ],
      "source": [
        "from sklearn.pipeline import Pipeline\n",
        "from sklearn.ensemble import AdaBoostClassifier\n",
        "from sklearn.multiclass import OneVsRestClassifier\n",
        "from sklearn.model_selection import GridSearchCV\n",
        "from sklearn.datasets import make_multilabel_classification\n",
        "from sklearn.model_selection import train_test_split\n",
        "from sklearn.metrics import make_scorer, f1_score\n",
        "\n",
        "# Ejemplo de datos de clasificación multietiqueta\n",
        "X, y = make_multilabel_classification(n_samples=1000, n_features=20, n_classes=5, n_labels=2, random_state=42)\n",
        "X_train, X_test, y_train, y_test = train_test_split(X, y, test_size=0.2, random_state=42)\n",
        "\n",
        "# Definir el pipeline\n",
        "pipeline = Pipeline([\n",
        "    ('clf', OneVsRestClassifier(AdaBoostClassifier()))\n",
        "])\n",
        "\n",
        "# Definir los hiperparámetros a buscar\n",
        "param_grid = {\n",
        "    'clf__estimator__n_estimators': [370, 375, 380],\n",
        "    'clf__estimator__learning_rate': [0.01, 0.011]\n",
        "}\n",
        "\n",
        "# Definir el objeto GridSearchCV\n",
        "grid_search = GridSearchCV(\n",
        "    estimator=pipeline,\n",
        "    param_grid=param_grid,\n",
        "    scoring=make_scorer(f1_score, average='micro'),\n",
        "    cv=3,\n",
        "    verbose=1,\n",
        "    n_jobs=-1\n",
        ")\n",
        "\n",
        "# Ajustar el GridSearchCV a los datos de entrenamiento\n",
        "grid_search.fit(X_train_split, y_train_split)\n",
        "\n",
        "# Obtener los mejores hiperparámetros\n",
        "print(\"Mejores hiperparámetros:\", grid_search.best_params_)\n",
        "\n",
        "# Evaluar el mejor modelo en el conjunto de prueba\n",
        "best_model = grid_search.best_estimator_\n",
        "y_val_pred = best_model.predict(X_val_split)\n",
        "\n",
        "# Calcular la precisión y F1-score en el conjunto de validación\n",
        "accuracy_val = accuracy_score(y_val_split, y_val_pred)\n",
        "f1_val = f1_score(y_val_split, y_val_pred, average='micro')\n",
        "\n",
        "print(\"Validation Accuracy:\", accuracy_val)\n",
        "print(\"Validation F1-score:\", f1_val)\n",
        "\n"
      ]
    },
    {
      "cell_type": "markdown",
      "id": "1335b4d9",
      "metadata": {},
      "source": [
        "Mejores hiperparámetros: {'clf__estimator__learning_rate': 0.01, 'clf__estimator__n_estimators': 370}"
      ]
    },
    {
      "cell_type": "markdown",
      "id": "c2c7119e-b68d-447f-ae89-ef18c223ebf8",
      "metadata": {
        "id": "c2c7119e-b68d-447f-ae89-ef18c223ebf8"
      },
      "source": [
        "## Guardar predicciones de Test"
      ]
    },
    {
      "cell_type": "code",
      "execution_count": 36,
      "id": "ff863c1c-9821-4ad4-a912-1abe400f5c46",
      "metadata": {
        "id": "ff863c1c-9821-4ad4-a912-1abe400f5c46"
      },
      "outputs": [
        {
          "data": {
            "text/plain": [
              "array([[0, 0, 0, ..., 1, 1, 0],\n",
              "       [0, 0, 0, ..., 0, 0, 0],\n",
              "       [0, 0, 0, ..., 0, 0, 0],\n",
              "       ...,\n",
              "       [0, 0, 1, ..., 0, 0, 1],\n",
              "       [0, 0, 0, ..., 0, 1, 0],\n",
              "       [0, 0, 0, ..., 0, 0, 1]])"
            ]
          },
          "execution_count": 36,
          "metadata": {},
          "output_type": "execute_result"
        }
      ],
      "source": [
        "y_val_pred"
      ]
    },
    {
      "cell_type": "code",
      "execution_count": 29,
      "id": "942d26ad-7138-4f00-a07d-44a47b5c233c",
      "metadata": {
        "id": "942d26ad-7138-4f00-a07d-44a47b5c233c"
      },
      "outputs": [],
      "source": []
    }
  ],
  "metadata": {
    "accelerator": "GPU",
    "colab": {
      "gpuType": "T4",
      "provenance": []
    },
    "kernelspec": {
      "display_name": "Python 3",
      "name": "python3"
    },
    "language_info": {
      "codemirror_mode": {
        "name": "ipython",
        "version": 3
      },
      "file_extension": ".py",
      "mimetype": "text/x-python",
      "name": "python",
      "nbconvert_exporter": "python",
      "pygments_lexer": "ipython3",
      "version": "3.11.5"
    }
  },
  "nbformat": 4,
  "nbformat_minor": 5
}
