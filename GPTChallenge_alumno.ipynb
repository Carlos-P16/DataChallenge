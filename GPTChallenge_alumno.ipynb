{
 "cells": [
  {
   "cell_type": "markdown",
   "id": "9eca6be9-3ab2-4756-80a0-4880568d1cd7",
   "metadata": {},
   "source": [
    "# GPTChallenge: diagnóstico a partir de HCE"
   ]
  },
  {
   "cell_type": "markdown",
   "id": "de358c45-755b-4fad-9d68-72e591de8b4b",
   "metadata": {},
   "source": [
    "Vamos a trabajar con el corpus CodEsp (textos de historial clínico etiquetados con sus códigos CIE-10 Diagnóstico)"
   ]
  },
  {
   "cell_type": "code",
   "execution_count": 1,
   "id": "e2d4da20-1cea-4309-941f-c2440b01801a",
   "metadata": {},
   "outputs": [],
   "source": [
    "import pandas as pd\n",
    "import os, re\n",
    "import numpy as np\n",
    "\n",
    "pd.options.display.max_colwidth = None"
   ]
  },
  {
   "cell_type": "code",
   "execution_count": 2,
   "id": "566a8909-46d3-4ccd-8a67-96d819f60e09",
   "metadata": {},
   "outputs": [
    {
     "name": "stdout",
     "output_type": "stream",
     "text": [
      "<class 'pandas.core.frame.DataFrame'>\n",
      "RangeIndex: 8316 entries, 0 to 8315\n",
      "Data columns (total 2 columns):\n",
      " #   Column   Non-Null Count  Dtype \n",
      "---  ------   --------------  ----- \n",
      " 0   archivo  8316 non-null   object\n",
      " 1   codigo   8316 non-null   object\n",
      "dtypes: object(2)\n",
      "memory usage: 130.1+ KB\n"
     ]
    }
   ],
   "source": [
    "#los códigos están en un TSV con un código por línea\n",
    "train_diag = pd.read_csv(\"data/train/train.tsv\", sep=\"\\t\", header=None, names=[\"archivo\", \"codigo\"])\n",
    "train_diag.info()"
   ]
  },
  {
   "cell_type": "code",
   "execution_count": 3,
   "id": "b15d7057-8afb-4005-8601-79ce2fe6e71a",
   "metadata": {
    "scrolled": true
   },
   "outputs": [
    {
     "data": {
      "text/plain": [
       "codigo\n",
       "r52        163\n",
       "r69        150\n",
       "r50.9      142\n",
       "i10        116\n",
       "r59.9       95\n",
       "          ... \n",
       "d37.030      1\n",
       "c79.71       1\n",
       "g25.0        1\n",
       "l76.3        1\n",
       "n81.2        1\n",
       "Name: count, Length: 2194, dtype: int64"
      ]
     },
     "execution_count": 3,
     "metadata": {},
     "output_type": "execute_result"
    }
   ],
   "source": [
    "train_diag['codigo'].value_counts()"
   ]
  },
  {
   "cell_type": "code",
   "execution_count": 4,
   "id": "3cbd33aa-1d54-419f-a1f1-728bb03b79d7",
   "metadata": {},
   "outputs": [
    {
     "name": "stdout",
     "output_type": "stream",
     "text": [
      "cat\n",
      "r52    163\n",
      "r10    163\n",
      "r59    160\n",
      "r69    150\n",
      "r50    144\n",
      "      ... \n",
      "c31      1\n",
      "d62      1\n",
      "s53      1\n",
      "s34      1\n",
      "n81      1\n",
      "Name: count, Length: 918, dtype: int64\n"
     ]
    },
    {
     "data": {
      "text/plain": [
       "918"
      ]
     },
     "execution_count": 4,
     "metadata": {},
     "output_type": "execute_result"
    }
   ],
   "source": [
    "#cogemos la categoría superior de cada código y las agrupamos\n",
    "train_diag['cat'] = train_diag['codigo'].str.extract(r'(\\w\\d\\d)')\n",
    "print(train_diag['cat'].value_counts())\n",
    "train_diag['cat'].nunique()"
   ]
  },
  {
   "cell_type": "code",
   "execution_count": 5,
   "id": "8eaf143a-b460-410e-8af2-a268181153d3",
   "metadata": {},
   "outputs": [
    {
     "name": "stdout",
     "output_type": "stream",
     "text": [
      "['r52', 'r10', 'r59', 'r69', 'r50', 'r60', 'i10', 'r11', 'n28', 'd49']\n"
     ]
    }
   ],
   "source": [
    "categories=train_diag['cat'].value_counts()[:10]\n",
    "top_categorias = categories.index.to_list()\n",
    "print(top_categorias)"
   ]
  },
  {
   "cell_type": "code",
   "execution_count": 6,
   "id": "25e458c1-01ec-4c48-8c3e-45f37e4553c8",
   "metadata": {},
   "outputs": [],
   "source": [
    "#seleccionamos sólo las etiquetas de este subconjunto\n",
    "train_diag = train_diag[np.isin(train_diag['cat'], top_categorias)]"
   ]
  },
  {
   "cell_type": "code",
   "execution_count": 7,
   "id": "c1befd52-7347-4e6d-8760-3a08b5fd8b02",
   "metadata": {},
   "outputs": [
    {
     "name": "stdout",
     "output_type": "stream",
     "text": [
      "<class 'pandas.core.frame.DataFrame'>\n",
      "Index: 562 entries, S0004-06142005000700014-1 to S2340-98942015000100005-1\n",
      "Data columns (total 2 columns):\n",
      " #   Column   Non-Null Count  Dtype \n",
      "---  ------   --------------  ----- \n",
      " 0   texto    562 non-null    object\n",
      " 1   codigos  562 non-null    object\n",
      "dtypes: object(2)\n",
      "memory usage: 13.2+ KB\n"
     ]
    }
   ],
   "source": [
    "#cargamos los dos conjuntos de train\n",
    "path = 'data/train/text_files/'\n",
    "\n",
    "corpus = []\n",
    "for f in [f for f in os.listdir(path) if f.endswith('.txt')]:\n",
    "    with open(os.path.join(path, f), encoding=\"utf8\") as text:\n",
    "        texto = text.read()\n",
    "    #buscamos códigos\n",
    "    file = f[:-4]\n",
    "    codigos = train_diag.query('archivo==@file')['cat'].to_list()\n",
    "    codigos = list(set(codigos))\n",
    "    if codigos:\n",
    "        corpus.append({\n",
    "            'archivo': file,\n",
    "            'texto': texto,\n",
    "            'codigos': codigos\n",
    "        })\n",
    "    \n",
    "df_train = pd.DataFrame(corpus).set_index('archivo')\n",
    "df_train.info()"
   ]
  },
  {
   "cell_type": "code",
   "execution_count": 8,
   "id": "dcf73334-972c-4746-829f-0891641a1b18",
   "metadata": {},
   "outputs": [
    {
     "data": {
      "text/html": [
       "<div>\n",
       "<style scoped>\n",
       "    .dataframe tbody tr th:only-of-type {\n",
       "        vertical-align: middle;\n",
       "    }\n",
       "\n",
       "    .dataframe tbody tr th {\n",
       "        vertical-align: top;\n",
       "    }\n",
       "\n",
       "    .dataframe thead th {\n",
       "        text-align: right;\n",
       "    }\n",
       "</style>\n",
       "<table border=\"1\" class=\"dataframe\">\n",
       "  <thead>\n",
       "    <tr style=\"text-align: right;\">\n",
       "      <th></th>\n",
       "      <th>texto</th>\n",
       "      <th>codigos</th>\n",
       "    </tr>\n",
       "    <tr>\n",
       "      <th>archivo</th>\n",
       "      <th></th>\n",
       "      <th></th>\n",
       "    </tr>\n",
       "  </thead>\n",
       "  <tbody>\n",
       "    <tr>\n",
       "      <th>S0212-16112010000600024-1</th>\n",
       "      <td>Varón de 77 años que acude a urgencias del hospital por vómitos de una semana de evolución asociados a ausencia de deposición, con dolor en la región inguinal derecha de tres días de duración. No presenta deterioro cognitivo pero sí un grave deterioro social. Refiere que desde hace un año sólo ingiere líquidos con una pérdida de 15kg de peso durante este periodo (peso habitual aproximado de 70kg; peso actual al ingreso de 55kg). No sale de casa desde hace quince días con vida cama-sillón, vive con su mujer invidente de 87 años de edad y presenta escasa higiene corporal.\\nEl paciente presenta como antecedentes personales epitelioma basocelular terebrante supranasal no intervenido y ulcus gástrico tratado con cimetidina anteriormente.\\nEn la exploración física al ingreso se objetivan signos de hipoperfusión periférica, caquexia severa y hernia inguinoescrotal derecha irreductible, con probable contenido intestinal y abdomen distendido doloroso a la palpación. Se diagnostica obstrucción intestinal secundaria a hernia inguinal incarcerada por lo que se decide intervenir quirúrgicamente, realizándose resección del segmento intestinal isquémico y perforado con anastomosis latero-lateral y herniorrafia.\\nDurante la intervención quirúrgica se observa peritonitis difusa e inestabilidad hemodinámica. Ante la presencia de signos de shock y disminución del nivel de conciencia a pesar de estar sin sedación, el paciente ingresa a cargo de la Unidad de Cuidados Intensivos (UCI).\\nSe comienza tratamiento antibiótico con imipenem presentando una evolución favorable durante los primeros cuatro días, hasta comienzo de aumento progresivo de signos de infección e inflamación (leucocitosis de 38.320 leucocitos/mm3 y PCR de 273 mg/L) sugestivos de sepsis abdominal, con inestabilidad hemodinámica, fracaso renal agudo (estado edematoso, anuria y creatinina sérica de hasta 3,35 mg/dL), anemización brusca (niveles de hemoglobina de 6,2 g/dL y hematocrito de 18,5%), y salida de contenido biliar por los drenajes. Ante tales hallazgos se procede a una nueva intervención quirúrgica.\\nDesde el punto de vista nutricional el paciente presenta una desnutrición calórico-proteica grave, con hipoalbuminemia e hipoproteinemia severas (albúmina 1.4 g/dL y proteina 3.7 g/dL), decidiéndose comenzar, tras estabilización hemodinámica, soporte nutricional por vía iv desde el segundo día de ingreso en la unidad. Inicialmente se prescribe nutrición parenteral total (NPT) con un aporte de macronutrientes correspondiente a un paciente de 70kg con estrés metabólico severo. Desde el Servicio de Farmacia se identifica al enfermo como un paciente con alto riesgo de sufrir SR, dado su estado caquéctico y los antecedentes personales previamente descritos (pérdida &gt; 20% del peso corporal en un año, graves problemas psicosociales y depresión en el anciano). Ante la complejidad añadida del fracaso renal agudo del paciente y el alto riesgo de SR se recomienda un comienzo progresivo del soporte nutricional adaptando el aporte de macronutrientes al peso real y no ideal del paciente. Atendiendo a las recomendaciones de las principales guías clínicas para la prevención del SR6, se recomienda la administración profiláctica de tiamina, y se inicia nutrición parenteral con un aporte calórico de aproximadamente 15 kcal/kg de peso actual (distribución calórica de 39% carbohidratos, 39% lípidos y 22% proteínas), un volumen total de aproximadamente 1500 mL y un seguimiento estrecho de los parámetros nutricionales y analíticos (fundamentalmente iones intracelulares). Se restringe durante los primeros días el aporte de fosfato, potasio y magnesio, debido a la hiperfosfatemia (fosfato 8.91 mg/dL), hiperpotasemia (potasio 5.27 mEq/L) e hipermagnesemia (magnesio 3 mg/dL) desencadenadas por el fracaso renal agudo. En los días consecutivos se incrementa lentamente el aporte calórico-proteico, teniendo especial precaución con el aporte de nitrógeno durante la primera semana debido al fallo renal del paciente. A partir del décimo día se cubren finalmente los requerimientos nutricionales del paciente. El aporte energético es de 30 kcal/kg (distribución calórica de 48% carbohidratos, 30% lípidos y 22% proteínas), con un aporte protéico de 1,6g/kg, adaptándose a la situación metabólica del enfermo.\\nDurante los primeros días los parámetros analíticos y nutricionales evolucionan favorablemente de forma paralela a la mejoría de la función renal, hasta la aparición de sepsis abdominal y todas las complicaciones descritas anteriormente.\\n\\nDada la edad del paciente, la enfermedad actual y el mal pronóstico de las complicaciones desarrolladas se decide en sesión conjunta la limitación del esfuerzo terapéutico, falleciendo al 17o día de ingreso.\\n\\n</td>\n",
       "      <td>[r69, r11, r10, r60]</td>\n",
       "    </tr>\n",
       "    <tr>\n",
       "      <th>S1130-63432014000500010-1</th>\n",
       "      <td>Presentamos el caso de una paciente con 60 años de edad, fumadora, diagnosticada de hipotiroidismo posablación tiroidea con yodo radiactivo y OG severa con neuropatía óptica bilateral, clasificándose según los criterios de Actividad Clínica (CAS) con una puntuación de 5 sobre 7: pseudofaquia en ambos ojos, punctata inferior OD, edema palpebral, hiperemia y quemosis conjuntival e hiperemia y edema de carúncula. También se midió la Agudeza Visual (AV), a pesar de no estar incluido en los criterios CAS para evaluar la capacidad del sistema visual, obteniendo una AV de 0.4 en Ojo Derecho (OD) y AV de 0.5 en Ojo Izquierdo (OI). La AV normal es igual a 1. Comenzó con los síntomas oculares 1 año antes del diagnóstico.\\nEl objetivo del tratamiento fue restablecer el eutiroidismo, dejar el hábito tabáquico y controlar la enfermedad mediante la administración de corticoides a dosis altas vía intravenosa intermitente (6 dosis de metilprednisolona 500 mg/semana, seguido de otras 6 dosis de metilprednisolona 250 mg/semana). A pesar de ello, se obtuvo escasa respuesta, por lo que fue necesario realizar descompresión orbitaria bilateral debido al empeoramiento de la AV.\\nSin embargo, la orbitopatía continuó progresando hasta alcanzar una AV de cuenta dedos en OD y AV menor a 0.05 en OI, siendo necesario realizar una segunda descompresión orbitaria.\\nAl haber agotado todas las posibilidades terapéuticas, se solicitó a la Comisión de Farmacia y Terapéutica de nuestro hospital la autorización para el uso de Tocilizumab \"off-label\" en esta paciente. Después de obtener la autorización y el consentimiento informado correspondiente, se inició tratamiento con Tocilizumab intravenoso a dosis de 8 mg/ Kg de peso corporal, una vez cada 4 semanas, administrándose un total de 5 dosis.\\nTras 2 semanas desde el inicio del tratamiento, la paciente comenzó a mostrar una mejora en los signos y síntomas de la patología, tanto subjetivos como objetivos, siendo la AV en el OI en este momento igual a 0.05. A las 9 semanas continuó la mejoría, mostrando una AV en el OI igual a 0.1, casi sin signos de edema y eritema conjuntival y palpebral. A las 18 semanas la AV en el OI fue igual a 0.6 y tras 20 semanas de tratamiento la AV en el OI alcanzó el valor de 1 (AV normal). En el OD no pudo cuantificarse la mejoría en ese momento debido al estrabismo presente tras las descompresiones realizadas, quedando pendiente de intervención quirúrgica para solventar dicha patología.\\nTras 5 sesiones con Tocilizumab, la paciente se encuentra sin actividad inflamatoria y con una AV de 0,1 en OD y AV de 1 en OI sin presentar efectos adversos, con una puntuación CAS de 0 sobre 7.\\n\\n</td>\n",
       "      <td>[r69, r60]</td>\n",
       "    </tr>\n",
       "    <tr>\n",
       "      <th>S0365-66912007001100010-1</th>\n",
       "      <td>Paciente de 63 años que refería déficit de agudeza visual (AV) en el ojo derecho (OD) de varios meses de evolución.\\nEntre sus antecedentes personales destacaba una epilepsia postraumática de diez años de evolución, hipertensión arterial y diabetes mellitus tipo II.\\nSe encontraba en tratamiento con 1,5 gr de vigabatrina y 200 mg de carbamazepina diarios desde el traumatismo.\\nLa AV era de 0,3 en OD y 0,8 en ojo izquierdo con corrección.\\nLa biomicroscopía anterior y tonometría eran normales.\\nEn la oftalmoscopía destacaba la palidez de ambas papilas y una membrana epirretiniana macular en OD.\\n\\nSe realizaron perimetrías computarizadas Humphrey 30/2 blanco-blanco y azul-amarillo que presentaban reducciones campimétricas concéntricas severas en ambos ojos (Humphrey instruments, modelo 745, Carl Zeiss Inc).\\n\\nCarecía de antecedentes familiares de interés, por lo que se descartó una neuropatía óptica hereditaria.\\nLa anamnesis y las determinaciones analíticas de volumen corpuscular medio, vitaminas B1, B6, B12 y ácido fólico descartaron la etiología nutricional.\\nSe estableció el diagnóstico de retinotoxicidad por vigabatrina remitiéndose al servicio de neurología.\\nAl año de seguimiento persistía la pérdida campimétrica y de AV.\\n\\n</td>\n",
       "      <td>[i10]</td>\n",
       "    </tr>\n",
       "  </tbody>\n",
       "</table>\n",
       "</div>"
      ],
      "text/plain": [
       "                                                                                                                                                                                                                                                                                                                                                                                                                                                                                                                                                                                                                                                                                                                                                                                                                                                                                                                                                                                                                                                                                                                                                                                                                                                                                                                                                                                                                                                                                                                                                                                                                                                                                                                                                                                                                                                                                                                                                                                                                                                                                                                                                                                                                                                                                                                                                                                                                                                                                                                                                                                                                                                                                                                                                                                                                                                                                                                                                                                                                                                                                                                                                                                                                                                                                                                                                                                                                                                                                                                                                                                                                                                                                                                                                                                                                                                                                                                                                                                                                                                                                                                                                                                                                                                                                                                                                                                                                                                                                                                                                                                                                                                                                                                                                                                                                                                                                                                                                                     texto  \\\n",
       "archivo                                                                                                                                                                                                                                                                                                                                                                                                                                                                                                                                                                                                                                                                                                                                                                                                                                                                                                                                                                                                                                                                                                                                                                                                                                                                                                                                                                                                                                                                                                                                                                                                                                                                                                                                                                                                                                                                                                                                                                                                                                                                                                                                                                                                                                                                                                                                                                                                                                                                                                                                                                                                                                                                                                                                                                                                                                                                                                                                                                                                                                                                                                                                                                                                                                                                                                                                                                                                                                                                                                                                                                                                                                                                                                                                                                                                                                                                                                                                                                                                                                                                                                                                                                                                                                                                                                                                                                                                                                                                                                                                                                                                                                                                                                                                                                                                                                                                                                                                                                      \n",
       "S0212-16112010000600024-1  Varón de 77 años que acude a urgencias del hospital por vómitos de una semana de evolución asociados a ausencia de deposición, con dolor en la región inguinal derecha de tres días de duración. No presenta deterioro cognitivo pero sí un grave deterioro social. Refiere que desde hace un año sólo ingiere líquidos con una pérdida de 15kg de peso durante este periodo (peso habitual aproximado de 70kg; peso actual al ingreso de 55kg). No sale de casa desde hace quince días con vida cama-sillón, vive con su mujer invidente de 87 años de edad y presenta escasa higiene corporal.\\nEl paciente presenta como antecedentes personales epitelioma basocelular terebrante supranasal no intervenido y ulcus gástrico tratado con cimetidina anteriormente.\\nEn la exploración física al ingreso se objetivan signos de hipoperfusión periférica, caquexia severa y hernia inguinoescrotal derecha irreductible, con probable contenido intestinal y abdomen distendido doloroso a la palpación. Se diagnostica obstrucción intestinal secundaria a hernia inguinal incarcerada por lo que se decide intervenir quirúrgicamente, realizándose resección del segmento intestinal isquémico y perforado con anastomosis latero-lateral y herniorrafia.\\nDurante la intervención quirúrgica se observa peritonitis difusa e inestabilidad hemodinámica. Ante la presencia de signos de shock y disminución del nivel de conciencia a pesar de estar sin sedación, el paciente ingresa a cargo de la Unidad de Cuidados Intensivos (UCI).\\nSe comienza tratamiento antibiótico con imipenem presentando una evolución favorable durante los primeros cuatro días, hasta comienzo de aumento progresivo de signos de infección e inflamación (leucocitosis de 38.320 leucocitos/mm3 y PCR de 273 mg/L) sugestivos de sepsis abdominal, con inestabilidad hemodinámica, fracaso renal agudo (estado edematoso, anuria y creatinina sérica de hasta 3,35 mg/dL), anemización brusca (niveles de hemoglobina de 6,2 g/dL y hematocrito de 18,5%), y salida de contenido biliar por los drenajes. Ante tales hallazgos se procede a una nueva intervención quirúrgica.\\nDesde el punto de vista nutricional el paciente presenta una desnutrición calórico-proteica grave, con hipoalbuminemia e hipoproteinemia severas (albúmina 1.4 g/dL y proteina 3.7 g/dL), decidiéndose comenzar, tras estabilización hemodinámica, soporte nutricional por vía iv desde el segundo día de ingreso en la unidad. Inicialmente se prescribe nutrición parenteral total (NPT) con un aporte de macronutrientes correspondiente a un paciente de 70kg con estrés metabólico severo. Desde el Servicio de Farmacia se identifica al enfermo como un paciente con alto riesgo de sufrir SR, dado su estado caquéctico y los antecedentes personales previamente descritos (pérdida > 20% del peso corporal en un año, graves problemas psicosociales y depresión en el anciano). Ante la complejidad añadida del fracaso renal agudo del paciente y el alto riesgo de SR se recomienda un comienzo progresivo del soporte nutricional adaptando el aporte de macronutrientes al peso real y no ideal del paciente. Atendiendo a las recomendaciones de las principales guías clínicas para la prevención del SR6, se recomienda la administración profiláctica de tiamina, y se inicia nutrición parenteral con un aporte calórico de aproximadamente 15 kcal/kg de peso actual (distribución calórica de 39% carbohidratos, 39% lípidos y 22% proteínas), un volumen total de aproximadamente 1500 mL y un seguimiento estrecho de los parámetros nutricionales y analíticos (fundamentalmente iones intracelulares). Se restringe durante los primeros días el aporte de fosfato, potasio y magnesio, debido a la hiperfosfatemia (fosfato 8.91 mg/dL), hiperpotasemia (potasio 5.27 mEq/L) e hipermagnesemia (magnesio 3 mg/dL) desencadenadas por el fracaso renal agudo. En los días consecutivos se incrementa lentamente el aporte calórico-proteico, teniendo especial precaución con el aporte de nitrógeno durante la primera semana debido al fallo renal del paciente. A partir del décimo día se cubren finalmente los requerimientos nutricionales del paciente. El aporte energético es de 30 kcal/kg (distribución calórica de 48% carbohidratos, 30% lípidos y 22% proteínas), con un aporte protéico de 1,6g/kg, adaptándose a la situación metabólica del enfermo.\\nDurante los primeros días los parámetros analíticos y nutricionales evolucionan favorablemente de forma paralela a la mejoría de la función renal, hasta la aparición de sepsis abdominal y todas las complicaciones descritas anteriormente.\\n\\nDada la edad del paciente, la enfermedad actual y el mal pronóstico de las complicaciones desarrolladas se decide en sesión conjunta la limitación del esfuerzo terapéutico, falleciendo al 17o día de ingreso.\\n\\n   \n",
       "S1130-63432014000500010-1                                                                                                                                                                                                                                                                                                                                                                                                                                                                                                                                                                                                                                                                                                                                                                                                                                                                                                                                                                                                                                                                                                                                                                                                                                                                                                                                                                                                                                                                                                                                                                                                                                                                                                                                                                                                                                                                                                                                                                                                                                                                                                                                                               Presentamos el caso de una paciente con 60 años de edad, fumadora, diagnosticada de hipotiroidismo posablación tiroidea con yodo radiactivo y OG severa con neuropatía óptica bilateral, clasificándose según los criterios de Actividad Clínica (CAS) con una puntuación de 5 sobre 7: pseudofaquia en ambos ojos, punctata inferior OD, edema palpebral, hiperemia y quemosis conjuntival e hiperemia y edema de carúncula. También se midió la Agudeza Visual (AV), a pesar de no estar incluido en los criterios CAS para evaluar la capacidad del sistema visual, obteniendo una AV de 0.4 en Ojo Derecho (OD) y AV de 0.5 en Ojo Izquierdo (OI). La AV normal es igual a 1. Comenzó con los síntomas oculares 1 año antes del diagnóstico.\\nEl objetivo del tratamiento fue restablecer el eutiroidismo, dejar el hábito tabáquico y controlar la enfermedad mediante la administración de corticoides a dosis altas vía intravenosa intermitente (6 dosis de metilprednisolona 500 mg/semana, seguido de otras 6 dosis de metilprednisolona 250 mg/semana). A pesar de ello, se obtuvo escasa respuesta, por lo que fue necesario realizar descompresión orbitaria bilateral debido al empeoramiento de la AV.\\nSin embargo, la orbitopatía continuó progresando hasta alcanzar una AV de cuenta dedos en OD y AV menor a 0.05 en OI, siendo necesario realizar una segunda descompresión orbitaria.\\nAl haber agotado todas las posibilidades terapéuticas, se solicitó a la Comisión de Farmacia y Terapéutica de nuestro hospital la autorización para el uso de Tocilizumab \"off-label\" en esta paciente. Después de obtener la autorización y el consentimiento informado correspondiente, se inició tratamiento con Tocilizumab intravenoso a dosis de 8 mg/ Kg de peso corporal, una vez cada 4 semanas, administrándose un total de 5 dosis.\\nTras 2 semanas desde el inicio del tratamiento, la paciente comenzó a mostrar una mejora en los signos y síntomas de la patología, tanto subjetivos como objetivos, siendo la AV en el OI en este momento igual a 0.05. A las 9 semanas continuó la mejoría, mostrando una AV en el OI igual a 0.1, casi sin signos de edema y eritema conjuntival y palpebral. A las 18 semanas la AV en el OI fue igual a 0.6 y tras 20 semanas de tratamiento la AV en el OI alcanzó el valor de 1 (AV normal). En el OD no pudo cuantificarse la mejoría en ese momento debido al estrabismo presente tras las descompresiones realizadas, quedando pendiente de intervención quirúrgica para solventar dicha patología.\\nTras 5 sesiones con Tocilizumab, la paciente se encuentra sin actividad inflamatoria y con una AV de 0,1 en OD y AV de 1 en OI sin presentar efectos adversos, con una puntuación CAS de 0 sobre 7.\\n\\n   \n",
       "S0365-66912007001100010-1                                                                                                                                                                                                                                                                                                                                                                                                                                                                                                                                                                                                                                                                                                                                                                                                                                                                                                                                                                                                                                                                                                                                                                                                                                                                                                                                                                                                                                                                                                                                                                                                                                                                                                                                                                                                                                                                                                                                                                                                                                                                                                                                                                                                                                                                                                                                                                                                                                                                                                                                                                                                                                                                                                                                                                                                                                                                                                                                                                                                                                                                                                                                                                                                                                                                                                                                                                                                                                                                                                                                                                                                                                             Paciente de 63 años que refería déficit de agudeza visual (AV) en el ojo derecho (OD) de varios meses de evolución.\\nEntre sus antecedentes personales destacaba una epilepsia postraumática de diez años de evolución, hipertensión arterial y diabetes mellitus tipo II.\\nSe encontraba en tratamiento con 1,5 gr de vigabatrina y 200 mg de carbamazepina diarios desde el traumatismo.\\nLa AV era de 0,3 en OD y 0,8 en ojo izquierdo con corrección.\\nLa biomicroscopía anterior y tonometría eran normales.\\nEn la oftalmoscopía destacaba la palidez de ambas papilas y una membrana epirretiniana macular en OD.\\n\\nSe realizaron perimetrías computarizadas Humphrey 30/2 blanco-blanco y azul-amarillo que presentaban reducciones campimétricas concéntricas severas en ambos ojos (Humphrey instruments, modelo 745, Carl Zeiss Inc).\\n\\nCarecía de antecedentes familiares de interés, por lo que se descartó una neuropatía óptica hereditaria.\\nLa anamnesis y las determinaciones analíticas de volumen corpuscular medio, vitaminas B1, B6, B12 y ácido fólico descartaron la etiología nutricional.\\nSe estableció el diagnóstico de retinotoxicidad por vigabatrina remitiéndose al servicio de neurología.\\nAl año de seguimiento persistía la pérdida campimétrica y de AV.\\n\\n   \n",
       "\n",
       "                                        codigos  \n",
       "archivo                                          \n",
       "S0212-16112010000600024-1  [r69, r11, r10, r60]  \n",
       "S1130-63432014000500010-1            [r69, r60]  \n",
       "S0365-66912007001100010-1                 [i10]  "
      ]
     },
     "execution_count": 8,
     "metadata": {},
     "output_type": "execute_result"
    }
   ],
   "source": [
    "df_train.sample(3)"
   ]
  },
  {
   "cell_type": "markdown",
   "id": "dfc77de8-8256-4653-9de0-690dacc58095",
   "metadata": {},
   "source": [
    "## Cargar los textos del conjunto de test"
   ]
  },
  {
   "cell_type": "code",
   "execution_count": 9,
   "id": "09135955",
   "metadata": {},
   "outputs": [
    {
     "name": "stdout",
     "output_type": "stream",
     "text": [
      "<class 'pandas.core.frame.DataFrame'>\n",
      "RangeIndex: 192 entries, 0 to 191\n",
      "Data columns (total 1 columns):\n",
      " #   Column   Non-Null Count  Dtype \n",
      "---  ------   --------------  ----- \n",
      " 0   archivo  192 non-null    object\n",
      "dtypes: object(1)\n",
      "memory usage: 1.6+ KB\n"
     ]
    }
   ],
   "source": [
    "#los códigos están en un TSV con un código por línea\n",
    "test_diag = pd.read_csv(\"data/test/test.tsv\", sep=\"\\t\", header=None, names=['archivo'])\n",
    "test_diag.info()"
   ]
  },
  {
   "cell_type": "code",
   "execution_count": 10,
   "id": "977463ca",
   "metadata": {},
   "outputs": [],
   "source": [
    "path = 'data/test/text_files/'\n",
    "\n",
    "# Lista para almacenar los textos y sus códigos correspondientes\n",
    "corpus = []\n",
    "\n",
    "# Itera sobre los archivos de texto en el directorio\n",
    "for f in [f for f in os.listdir(path) if f.endswith('.txt')]:\n",
    "    with open(os.path.join(path, f), encoding=\"utf8\") as text:\n",
    "        texto = text.read()\n",
    "    \n",
    "    # Extrae el código del nombre del archivo\n",
    "    file = f[:-4]\n",
    "    \n",
    "    # Agrega el texto al corpus\n",
    "    corpus.append({\n",
    "        'archivo': file,\n",
    "        'texto': texto\n",
    "    })\n",
    "\n",
    "# Crea un DataFrame a partir del corpus\n",
    "df_test = pd.DataFrame(corpus).set_index('archivo')"
   ]
  },
  {
   "cell_type": "code",
   "execution_count": 11,
   "id": "22a7def9",
   "metadata": {},
   "outputs": [
    {
     "data": {
      "text/html": [
       "<div>\n",
       "<style scoped>\n",
       "    .dataframe tbody tr th:only-of-type {\n",
       "        vertical-align: middle;\n",
       "    }\n",
       "\n",
       "    .dataframe tbody tr th {\n",
       "        vertical-align: top;\n",
       "    }\n",
       "\n",
       "    .dataframe thead th {\n",
       "        text-align: right;\n",
       "    }\n",
       "</style>\n",
       "<table border=\"1\" class=\"dataframe\">\n",
       "  <thead>\n",
       "    <tr style=\"text-align: right;\">\n",
       "      <th></th>\n",
       "      <th>texto</th>\n",
       "    </tr>\n",
       "    <tr>\n",
       "      <th>archivo</th>\n",
       "      <th></th>\n",
       "    </tr>\n",
       "  </thead>\n",
       "  <tbody>\n",
       "    <tr>\n",
       "      <th>S0004-06142010000300011-1</th>\n",
       "      <td>Paciente de 24 años con un hermano gemelo que en Diciembre de 2005 fue intervenido de neoplasia combinada (adenocarcinoma mucinoso y carcinoide de células caliciformes, T4N2M1) que infiltraba la pared apendicular y el meso, con múltiples implantes peritoneales y afectación de 8 de los 29 ganglios aislados. Se sometió a hemicolectomía derecha, peritonectomía y resección de implantes macroscópicos de peritoneo visceral. Posteriormente se inició tratamiento quimioterápico coadyuvante con el esquema mFOLFOX4 por 12 ciclos, con episodios de diarrea tras segundo y tercer ciclo y reacción hurticariforme tras el 7o. Al inicio de la quimioterapia el 5HIAA en orina de 24 horas estaba dentro de los parámetros normales y el rastreo corporal con In.111 pentreótida y SPECT no presentaron alteraciones.\\nDiez meses tras la cirugía presentó un cuadro de dolor testicular agudo. A la exploración física presentó teste derecho horinzontalizado, aumentado de tamaño y de consistencia dura e irregular en polo superior así como engrosamiento de cordón espermático. En la ecografía doppler testicular el testículo derecho presentó aumento de calibre de las estructuras vasculares, epidídimo engrosado, hipoecoico y con vascularización periférica. Se observó contenido escrotal anecoico con contenido ecogénico móvil, compatible con hidrocele complicado (piocele y hematocele...). Se decidió exploración quirúrgica urgente en la que se observó hematocele y engrosamiento con induración de la vaginal testicular. La anatomía patológica intraoperatoria se informó de infiltración por adenocarcinoma mucinoso. Se realizó orquiectomía radical derecha con ligadura del cordón a raíz del escroto. El análisis anatomopatológico definitivo mostró una neoplasia de la vaginal testicular configurada por lagos de moco y grupos de células epiteliales, la mayoría en con morfología de anillo de sello, sin afectación del epidídimo ni del testículo.\\n\\nTras la cirugía testicular se administró quimioterapia con esquema FOLFIRI más BEVACIZUMAB en el 3er ciclo. Nueve meses tras la orquiectomía el paciente presentó progresión hepática, pancreática y adenopática regional, presentando cuadros suboclusivos. Falleció a los 21 meses del diagnóstico.\\n\\n</td>\n",
       "    </tr>\n",
       "    <tr>\n",
       "      <th>S1139-76322015000100012-4</th>\n",
       "      <td>Varón de cinco años que presenta eritema perianal acompañado de dolor anal al defecar, afebril. Se recogen frotis anal y faríngeo y se realiza test rápido de detección de estreptococo, que resulta positivo en el anal, creciendo EBHGA en el cultivo rectal. Se inicia tratamiento con penicilina oral. A los 20 días regresa porque, pese a mejorar inicialmente, ha reaparecido el eritema con menor intensidad acompañado de estreñimiento y fisuras a la exploración. Se pauta mupirocina tópica con mejoría parcial del cuadro a los cuatro días, asociándose clotrimazol tópico por sospecha de sobreinfección fúngica, con resolución final del cuadro.\\n</td>\n",
       "    </tr>\n",
       "    <tr>\n",
       "      <th>S0365-66912012000200003-1</th>\n",
       "      <td>Mujer de 66 años de edad remitida a nuestro Servicio por clínica de uveítis en ojo derecho desde hacía un año. La paciente refería disminución de visión en dicho ojo pero no contaba miodesopsias, ni metamorfopsias. Entre los antecedentes médicos destacaba que hace doce años sufrió una hemorragia intracraneal que requirió intervención quirúrgica y transfusión de dos unidades de concentrado de hematíes.\\nEn la exploración oftalmológica la mejor agudeza visual corregida (MAVC) era 8/20 en el ojo derecho y 10/20 en el ojo izquierdo. En el examen con lámpara de hendidura se observaban restos celulares en vítreo sin signos de actividad. En el examen de fondo de ojo se observaba membrana epimacular en ambos ojos, no se encontraron signos de vasculitis retiniana, ni la presencia de snowballs o snowbanks. Con la tomografía de coherencia óptica se confirmaba la membrana epimacular. Se le diagnósticó una uveítis intermedia de etiología desconocida.\\n\\nEn los meses siguientes la paciente desarrolló debilidad progresiva en miembros inferiores llegando a desarrollar incapacidad para la marcha. Asimismo, consultó por un episodio de vitritis ++ que remitió con triamcinolona transeptal (TRIGON depot).\\nEn el estudio etiológico, tras descartar otras causas del cuadro neurológico, con resonancia magnética nuclear normal, ante la asociación de uveítis y mielopatía idiopática con hiperreflexia patelar, se solicitó serología para el VLHT-1 que resultó positiva por enzimoinmunoanálisis (EIA) para la detección de anticuerpos frente a VLHT-1 (ABBOTT HTLV-1/HTLV-2, Innogenetics N.V.). Las muestras por EIA se analizaron mediante un inmunoblot en tira, (INNO-LIATM HTLV I/II, Innogenetics N.V.) que confirmaron la presencia de anticuerpos frente al HTLV-1. Se estableció entonces el diagnóstico de paraparesia espástica tropical y uveítis intermedia por VLHT-1. Se le pautó tratamiento con prednisona oral mejorando su clínica neurológica así como su MAVC, alcanzando una visión de 14/20 en ojo derecho y 18/20 en ojo izquierdo.\\n\\n</td>\n",
       "    </tr>\n",
       "  </tbody>\n",
       "</table>\n",
       "</div>"
      ],
      "text/plain": [
       "                                                                                                                                                                                                                                                                                                                                                                                                                                                                                                                                                                                                                                                                                                                                                                                                                                                                                                                                                                                                                                                                                                                                                                                                                                                                                                                                                                                                                                                                                                                                                                                                                                                                                                                                                                                                                                                                                                                                                                                                                                                                                                                                                                                                                                                                                                                                        texto\n",
       "archivo                                                                                                                                                                                                                                                                                                                                                                                                                                                                                                                                                                                                                                                                                                                                                                                                                                                                                                                                                                                                                                                                                                                                                                                                                                                                                                                                                                                                                                                                                                                                                                                                                                                                                                                                                                                                                                                                                                                                                                                                                                                                                                                                                                                                                                                                                                                                      \n",
       "S0004-06142010000300011-1  Paciente de 24 años con un hermano gemelo que en Diciembre de 2005 fue intervenido de neoplasia combinada (adenocarcinoma mucinoso y carcinoide de células caliciformes, T4N2M1) que infiltraba la pared apendicular y el meso, con múltiples implantes peritoneales y afectación de 8 de los 29 ganglios aislados. Se sometió a hemicolectomía derecha, peritonectomía y resección de implantes macroscópicos de peritoneo visceral. Posteriormente se inició tratamiento quimioterápico coadyuvante con el esquema mFOLFOX4 por 12 ciclos, con episodios de diarrea tras segundo y tercer ciclo y reacción hurticariforme tras el 7o. Al inicio de la quimioterapia el 5HIAA en orina de 24 horas estaba dentro de los parámetros normales y el rastreo corporal con In.111 pentreótida y SPECT no presentaron alteraciones.\\nDiez meses tras la cirugía presentó un cuadro de dolor testicular agudo. A la exploración física presentó teste derecho horinzontalizado, aumentado de tamaño y de consistencia dura e irregular en polo superior así como engrosamiento de cordón espermático. En la ecografía doppler testicular el testículo derecho presentó aumento de calibre de las estructuras vasculares, epidídimo engrosado, hipoecoico y con vascularización periférica. Se observó contenido escrotal anecoico con contenido ecogénico móvil, compatible con hidrocele complicado (piocele y hematocele...). Se decidió exploración quirúrgica urgente en la que se observó hematocele y engrosamiento con induración de la vaginal testicular. La anatomía patológica intraoperatoria se informó de infiltración por adenocarcinoma mucinoso. Se realizó orquiectomía radical derecha con ligadura del cordón a raíz del escroto. El análisis anatomopatológico definitivo mostró una neoplasia de la vaginal testicular configurada por lagos de moco y grupos de células epiteliales, la mayoría en con morfología de anillo de sello, sin afectación del epidídimo ni del testículo.\\n\\nTras la cirugía testicular se administró quimioterapia con esquema FOLFIRI más BEVACIZUMAB en el 3er ciclo. Nueve meses tras la orquiectomía el paciente presentó progresión hepática, pancreática y adenopática regional, presentando cuadros suboclusivos. Falleció a los 21 meses del diagnóstico.\\n\\n\n",
       "S1139-76322015000100012-4                                                                                                                                                                                                                                                                                                                                                                                                                                                                                                                                                                                                                                                                                                                                                                                                                                                                                                                                                                                                                                                                                                                                                                                                                                                                                                                                                                                                                                                                                                                                                                                                                                                 Varón de cinco años que presenta eritema perianal acompañado de dolor anal al defecar, afebril. Se recogen frotis anal y faríngeo y se realiza test rápido de detección de estreptococo, que resulta positivo en el anal, creciendo EBHGA en el cultivo rectal. Se inicia tratamiento con penicilina oral. A los 20 días regresa porque, pese a mejorar inicialmente, ha reaparecido el eritema con menor intensidad acompañado de estreñimiento y fisuras a la exploración. Se pauta mupirocina tópica con mejoría parcial del cuadro a los cuatro días, asociándose clotrimazol tópico por sospecha de sobreinfección fúngica, con resolución final del cuadro.\\n\n",
       "S0365-66912012000200003-1                                                                                                                                                                                                    Mujer de 66 años de edad remitida a nuestro Servicio por clínica de uveítis en ojo derecho desde hacía un año. La paciente refería disminución de visión en dicho ojo pero no contaba miodesopsias, ni metamorfopsias. Entre los antecedentes médicos destacaba que hace doce años sufrió una hemorragia intracraneal que requirió intervención quirúrgica y transfusión de dos unidades de concentrado de hematíes.\\nEn la exploración oftalmológica la mejor agudeza visual corregida (MAVC) era 8/20 en el ojo derecho y 10/20 en el ojo izquierdo. En el examen con lámpara de hendidura se observaban restos celulares en vítreo sin signos de actividad. En el examen de fondo de ojo se observaba membrana epimacular en ambos ojos, no se encontraron signos de vasculitis retiniana, ni la presencia de snowballs o snowbanks. Con la tomografía de coherencia óptica se confirmaba la membrana epimacular. Se le diagnósticó una uveítis intermedia de etiología desconocida.\\n\\nEn los meses siguientes la paciente desarrolló debilidad progresiva en miembros inferiores llegando a desarrollar incapacidad para la marcha. Asimismo, consultó por un episodio de vitritis ++ que remitió con triamcinolona transeptal (TRIGON depot).\\nEn el estudio etiológico, tras descartar otras causas del cuadro neurológico, con resonancia magnética nuclear normal, ante la asociación de uveítis y mielopatía idiopática con hiperreflexia patelar, se solicitó serología para el VLHT-1 que resultó positiva por enzimoinmunoanálisis (EIA) para la detección de anticuerpos frente a VLHT-1 (ABBOTT HTLV-1/HTLV-2, Innogenetics N.V.). Las muestras por EIA se analizaron mediante un inmunoblot en tira, (INNO-LIATM HTLV I/II, Innogenetics N.V.) que confirmaron la presencia de anticuerpos frente al HTLV-1. Se estableció entonces el diagnóstico de paraparesia espástica tropical y uveítis intermedia por VLHT-1. Se le pautó tratamiento con prednisona oral mejorando su clínica neurológica así como su MAVC, alcanzando una visión de 14/20 en ojo derecho y 18/20 en ojo izquierdo.\\n\\n"
      ]
     },
     "execution_count": 11,
     "metadata": {},
     "output_type": "execute_result"
    }
   ],
   "source": [
    "df_test.sample(3)"
   ]
  },
  {
   "cell_type": "markdown",
   "id": "b472f280-db6a-438d-8340-f7b19758399b",
   "metadata": {},
   "source": [
    "## Binarizar las etiquetas"
   ]
  },
  {
   "cell_type": "code",
   "execution_count": 12,
   "id": "ae41be51-448e-433b-b10f-b4236afbaa7a",
   "metadata": {},
   "outputs": [
    {
     "name": "stdout",
     "output_type": "stream",
     "text": [
      "10\n"
     ]
    }
   ],
   "source": [
    "# para entrenar un clasificador multi-etiqueta generamos una matriz binaria de las etiquetas\n",
    "from sklearn.preprocessing import MultiLabelBinarizer\n",
    "\n",
    "mlb = MultiLabelBinarizer()\n",
    "y_train = mlb.fit_transform(df_train['codigos'])\n",
    "\n",
    "#Guardamos las clases utilizadas en el conjunto de train\n",
    "clases = mlb.classes_\n",
    "num_classes = clases.shape\n",
    "print(num_classes[0])"
   ]
  },
  {
   "cell_type": "markdown",
   "id": "6431f372-160e-4082-8540-33d40c09e745",
   "metadata": {},
   "source": [
    "## Procesamiento del lenguaje natural"
   ]
  },
  {
   "cell_type": "code",
   "execution_count": 13,
   "id": "eb7c1b10-8fe0-4786-a5bc-0ae2a5384272",
   "metadata": {},
   "outputs": [],
   "source": [
    "import utils\n",
    "\n",
    "df_train_clean = utils.clean_corpus(df_train, column_name='texto')\n",
    "df_test_clean = utils.clean_corpus(df_test, column_name='texto')"
   ]
  },
  {
   "cell_type": "code",
   "execution_count": 15,
   "id": "8476ec88-d3f6-477f-8cc9-d298ce8077b9",
   "metadata": {},
   "outputs": [],
   "source": [
    "# Hacerlo solo la primera vez\n",
    "\n",
    "#import nltk\n",
    "#nltk.download('punkt')"
   ]
  },
  {
   "cell_type": "code",
   "execution_count": 16,
   "id": "cd2a2111-b1cc-44a9-aaf6-4b215fcb1f1d",
   "metadata": {},
   "outputs": [
    {
     "data": {
      "image/png": "[encoded data removed]",
      "text/plain": [
       "<Figure size 1000x800 with 2 Axes>"
      ]
     },
     "metadata": {},
     "output_type": "display_data"
    }
   ],
   "source": [
    "#Hay un vocabulario demasiado grande como para representarlo en una BoW\n",
    "\n",
    "utils.plot_bow_heatmap(df_train_clean, column_name='texto', n_words=10, n_grams=1)"
   ]
  },
  {
   "cell_type": "code",
   "execution_count": null,
   "id": "a3347eb0-e6ed-458c-908d-34f23a56180a",
   "metadata": {},
   "outputs": [],
   "source": []
  },
  {
   "cell_type": "code",
   "execution_count": null,
   "id": "0689372a-2ed7-45d5-895c-92b4f773c428",
   "metadata": {},
   "outputs": [],
   "source": []
  },
  {
   "cell_type": "markdown",
   "id": "09324f7e-ee73-41e9-b94f-a0a6a5e38b02",
   "metadata": {},
   "source": [
    "## Modelos"
   ]
  },
  {
   "cell_type": "code",
   "execution_count": 39,
   "id": "a284d656",
   "metadata": {},
   "outputs": [],
   "source": [
    "from sklearn.feature_extraction.text import TfidfVectorizer\n",
    "from sklearn.pipeline import Pipeline\n",
    "from sklearn.multiclass import OneVsRestClassifier\n",
    "from sklearn.ensemble import RandomForestClassifier\n",
    "from sklearn.naive_bayes import MultinomialNB\n",
    "from sklearn.metrics import accuracy_score, f1_score\n",
    "from sklearn.model_selection import train_test_split\n",
    "from sklearn.svm import SVC\n",
    "from sklearn.linear_model import LogisticRegression\n"
   ]
  },
  {
   "cell_type": "code",
   "execution_count": 33,
   "id": "f12cc452",
   "metadata": {},
   "outputs": [],
   "source": [
    "# Vectorizar el texto utilizando TF-IDF\n",
    "vectorizer = TfidfVectorizer(max_features=10000)\n",
    "X_train_vectorized = vectorizer.fit_transform(df_train_clean['texto'])\n",
    "\n",
    "X_train_split, X_val_split, y_train_split, y_val_split = train_test_split(X_train_vectorized, y_train, test_size=0.2, random_state=42)"
   ]
  },
  {
   "cell_type": "code",
   "execution_count": 34,
   "id": "1f6c8dcb",
   "metadata": {},
   "outputs": [],
   "source": [
    "model = Pipeline([\n",
    "    ('clf', OneVsRestClassifier(RandomForestClassifier()))\n",
    "])"
   ]
  },
  {
   "cell_type": "code",
   "execution_count": 35,
   "id": "c3b6b649",
   "metadata": {},
   "outputs": [
    {
     "name": "stdout",
     "output_type": "stream",
     "text": [
      "Validation Accuracy: 0.07079646017699115\n",
      "Validation F1-score: 0.2645914396887159\n"
     ]
    }
   ],
   "source": [
    "# Entrenar el modelo con los datos de entrenamiento y validar con los datos de validación\n",
    "model.fit(X_train_split, y_train_split)\n",
    "\n",
    "# Realizar predicciones en el conjunto de validación\n",
    "y_val_pred = model.predict(X_val_split)\n",
    "\n",
    "# Calcular la precisión y F1-score en el conjunto de validación\n",
    "accuracy_val = accuracy_score(y_val_split, y_val_pred)\n",
    "f1_val = f1_score(y_val_split, y_val_pred, average='micro')\n",
    "\n",
    "print(\"Validation Accuracy:\", accuracy_val)\n",
    "print(\"Validation F1-score:\", f1_val)"
   ]
  },
  {
   "cell_type": "code",
   "execution_count": 43,
   "id": "8769c284",
   "metadata": {},
   "outputs": [],
   "source": [
    "from xgboost import XGBClassifier"
   ]
  },
  {
   "cell_type": "code",
   "execution_count": 44,
   "id": "df4a232b-c840-4d51-8c00-2000c91fd83a",
   "metadata": {},
   "outputs": [],
   "source": [
    "model2 = Pipeline([\n",
    "    ('clf', OneVsRestClassifier(XGBClassifier()))\n",
    "])"
   ]
  },
  {
   "cell_type": "code",
   "execution_count": 45,
   "id": "9ed98953-a8f9-453f-b107-8653c037a824",
   "metadata": {},
   "outputs": [
    {
     "name": "stdout",
     "output_type": "stream",
     "text": [
      "Validation Accuracy: 0.4336283185840708\n",
      "Validation F1-score: 0.8115942028985508\n"
     ]
    }
   ],
   "source": [
    "# Entrenar el modelo con los datos de entrenamiento y validar con los datos de validación\n",
    "model2.fit(X_train_split, y_train_split)\n",
    "\n",
    "# Realizar predicciones en el conjunto de validación\n",
    "y_val_pred = model2.predict(X_val_split)\n",
    "\n",
    "# Calcular la precisión y F1-score en el conjunto de validación\n",
    "accuracy_val = accuracy_score(y_val_split, y_val_pred)\n",
    "f1_val = f1_score(y_val_split, y_val_pred, average='micro')\n",
    "\n",
    "print(\"Validation Accuracy:\", accuracy_val)\n",
    "print(\"Validation F1-score:\", f1_val)"
   ]
  },
  {
   "cell_type": "code",
   "execution_count": 46,
   "id": "d5609387",
   "metadata": {},
   "outputs": [],
   "source": [
    "from sklearn.ensemble import AdaBoostClassifier"
   ]
  },
  {
   "cell_type": "code",
   "execution_count": 48,
   "id": "59e6add7-769c-40b6-931b-1fca0721a749",
   "metadata": {},
   "outputs": [],
   "source": [
    "model3 = Pipeline([\n",
    "    ('clf', OneVsRestClassifier(AdaBoostClassifier()))\n",
    "])"
   ]
  },
  {
   "cell_type": "code",
   "execution_count": 49,
   "id": "a4bdeabe-13e4-48f6-bc3c-0538b3394303",
   "metadata": {},
   "outputs": [
    {
     "name": "stdout",
     "output_type": "stream",
     "text": [
      "Validation Accuracy: 0.4424778761061947\n",
      "Validation F1-score: 0.815347721822542\n"
     ]
    }
   ],
   "source": [
    "# Entrenar el modelo con los datos de entrenamiento y validar con los datos de validación\n",
    "model3.fit(X_train_split, y_train_split)\n",
    "\n",
    "# Realizar predicciones en el conjunto de validación\n",
    "y_val_pred = model3.predict(X_val_split)\n",
    "\n",
    "# Calcular la precisión y F1-score en el conjunto de validación\n",
    "accuracy_val = accuracy_score(y_val_split, y_val_pred)\n",
    "f1_val = f1_score(y_val_split, y_val_pred, average='micro')\n",
    "\n",
    "print(\"Validation Accuracy:\", accuracy_val)\n",
    "print(\"Validation F1-score:\", f1_val)"
   ]
  },
  {
   "cell_type": "markdown",
   "id": "c2c7119e-b68d-447f-ae89-ef18c223ebf8",
   "metadata": {},
   "source": [
    "## Guardar predicciones de Test"
   ]
  },
  {
   "cell_type": "code",
   "execution_count": null,
   "id": "ff863c1c-9821-4ad4-a912-1abe400f5c46",
   "metadata": {},
   "outputs": [],
   "source": []
  },
  {
   "cell_type": "code",
   "execution_count": null,
   "id": "942d26ad-7138-4f00-a07d-44a47b5c233c",
   "metadata": {},
   "outputs": [],
   "source": []
  }
 ],
 "metadata": {
  "kernelspec": {
   "display_name": "Python 3 (ipykernel)",
   "language": "python",
   "name": "python3"
  },
  "language_info": {
   "codemirror_mode": {
    "name": "ipython",
    "version": 3
   },
   "file_extension": ".py",
   "mimetype": "text/x-python",
   "name": "python",
   "nbconvert_exporter": "python",
   "pygments_lexer": "ipython3",
   "version": "3.10.14"
  }
 },
 "nbformat": 4,
 "nbformat_minor": 5
}
