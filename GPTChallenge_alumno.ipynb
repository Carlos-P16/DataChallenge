{
  "cells": [
    {
      "cell_type": "markdown",
      "id": "9eca6be9-3ab2-4756-80a0-4880568d1cd7",
      "metadata": {
        "id": "9eca6be9-3ab2-4756-80a0-4880568d1cd7"
      },
      "source": [
        "# GPTChallenge: diagnóstico a partir de HCE"
      ]
    },
    {
      "cell_type": "markdown",
      "id": "de358c45-755b-4fad-9d68-72e591de8b4b",
      "metadata": {
        "id": "de358c45-755b-4fad-9d68-72e591de8b4b"
      },
      "source": [
        "Vamos a trabajar con el corpus CodEsp (textos de historial clínico etiquetados con sus códigos CIE-10 Diagnóstico)"
      ]
    },
    {
      "cell_type": "code",
      "execution_count": 1,
      "id": "mYu-VRFpDNxr",
      "metadata": {
        "id": "mYu-VRFpDNxr"
      },
      "outputs": [],
      "source": [
        "# !unzip DataChallenge.zip"
      ]
    },
    {
      "cell_type": "code",
      "execution_count": 2,
      "id": "e2d4da20-1cea-4309-941f-c2440b01801a",
      "metadata": {
        "id": "e2d4da20-1cea-4309-941f-c2440b01801a"
      },
      "outputs": [],
      "source": [
        "import pandas as pd\n",
        "import os, re\n",
        "import numpy as np\n",
        "\n",
        "pd.options.display.max_colwidth = None"
      ]
    },
    {
      "cell_type": "code",
      "execution_count": 3,
      "id": "566a8909-46d3-4ccd-8a67-96d819f60e09",
      "metadata": {
        "colab": {
          "base_uri": "https://localhost:8080/"
        },
        "id": "566a8909-46d3-4ccd-8a67-96d819f60e09",
        "outputId": "088786a9-d870-4710-e0dd-0df85a98ac87"
      },
      "outputs": [
        {
          "name": "stdout",
          "output_type": "stream",
          "text": [
            "<class 'pandas.core.frame.DataFrame'>\n",
            "RangeIndex: 8316 entries, 0 to 8315\n",
            "Data columns (total 2 columns):\n",
            " #   Column   Non-Null Count  Dtype \n",
            "---  ------   --------------  ----- \n",
            " 0   archivo  8316 non-null   object\n",
            " 1   codigo   8316 non-null   object\n",
            "dtypes: object(2)\n",
            "memory usage: 130.1+ KB\n"
          ]
        }
      ],
      "source": [
        "#los códigos están en un TSV con un código por línea\n",
        "train_diag = pd.read_csv(\"data/train/train.tsv\", sep=\"\\t\", header=None, names=[\"archivo\", \"codigo\"])\n",
        "train_diag.info()"
      ]
    },
    {
      "cell_type": "code",
      "execution_count": 4,
      "id": "b15d7057-8afb-4005-8601-79ce2fe6e71a",
      "metadata": {
        "colab": {
          "base_uri": "https://localhost:8080/"
        },
        "id": "b15d7057-8afb-4005-8601-79ce2fe6e71a",
        "outputId": "da838340-e6b4-4a3c-c78f-1ad7ead86a25",
        "scrolled": true
      },
      "outputs": [
        {
          "data": {
            "text/plain": [
              "codigo\n",
              "r52        163\n",
              "r69        150\n",
              "r50.9      142\n",
              "i10        116\n",
              "r59.9       95\n",
              "          ... \n",
              "d37.030      1\n",
              "c79.71       1\n",
              "g25.0        1\n",
              "l76.3        1\n",
              "n81.2        1\n",
              "Name: count, Length: 2194, dtype: int64"
            ]
          },
          "execution_count": 4,
          "metadata": {},
          "output_type": "execute_result"
        }
      ],
      "source": [
        "train_diag['codigo'].value_counts()"
      ]
    },
    {
      "cell_type": "code",
      "execution_count": 5,
      "id": "3cbd33aa-1d54-419f-a1f1-728bb03b79d7",
      "metadata": {
        "colab": {
          "base_uri": "https://localhost:8080/"
        },
        "id": "3cbd33aa-1d54-419f-a1f1-728bb03b79d7",
        "outputId": "8ccac4ea-b6e1-437a-da7a-a6466f903c51"
      },
      "outputs": [
        {
          "name": "stdout",
          "output_type": "stream",
          "text": [
            "cat\n",
            "r52    163\n",
            "r10    163\n",
            "r59    160\n",
            "r69    150\n",
            "r50    144\n",
            "      ... \n",
            "c31      1\n",
            "d62      1\n",
            "s53      1\n",
            "s34      1\n",
            "n81      1\n",
            "Name: count, Length: 918, dtype: int64\n"
          ]
        },
        {
          "data": {
            "text/plain": [
              "918"
            ]
          },
          "execution_count": 5,
          "metadata": {},
          "output_type": "execute_result"
        }
      ],
      "source": [
        "#cogemos la categoría superior de cada código y las agrupamos\n",
        "train_diag['cat'] = train_diag['codigo'].str.extract(r'(\\w\\d\\d)')\n",
        "print(train_diag['cat'].value_counts())\n",
        "train_diag['cat'].nunique()"
      ]
    },
    {
      "cell_type": "code",
      "execution_count": 6,
      "id": "8eaf143a-b460-410e-8af2-a268181153d3",
      "metadata": {
        "colab": {
          "base_uri": "https://localhost:8080/"
        },
        "id": "8eaf143a-b460-410e-8af2-a268181153d3",
        "outputId": "d1687a84-9973-4e9e-8e3c-67696d4b23a8"
      },
      "outputs": [
        {
          "name": "stdout",
          "output_type": "stream",
          "text": [
            "['r52', 'r10', 'r59', 'r69', 'r50', 'r60', 'i10', 'r11', 'n28', 'd49']\n"
          ]
        }
      ],
      "source": [
        "categories=train_diag['cat'].value_counts()[:10]\n",
        "top_categorias = categories.index.to_list()\n",
        "print(top_categorias)"
      ]
    },
    {
      "cell_type": "code",
      "execution_count": 7,
      "id": "25e458c1-01ec-4c48-8c3e-45f37e4553c8",
      "metadata": {
        "id": "25e458c1-01ec-4c48-8c3e-45f37e4553c8"
      },
      "outputs": [],
      "source": [
        "#seleccionamos sólo las etiquetas de este subconjunto\n",
        "train_diag = train_diag[np.isin(train_diag['cat'], top_categorias)]"
      ]
    },
    {
      "cell_type": "code",
      "execution_count": 8,
      "id": "c1befd52-7347-4e6d-8760-3a08b5fd8b02",
      "metadata": {
        "colab": {
          "base_uri": "https://localhost:8080/"
        },
        "id": "c1befd52-7347-4e6d-8760-3a08b5fd8b02",
        "outputId": "35ca2ab3-154d-4f3a-f0d2-32ec40661229"
      },
      "outputs": [
        {
          "name": "stdout",
          "output_type": "stream",
          "text": [
            "<class 'pandas.core.frame.DataFrame'>\n",
            "Index: 562 entries, S0004-06142005000700014-1 to S2340-98942015000100005-1\n",
            "Data columns (total 2 columns):\n",
            " #   Column   Non-Null Count  Dtype \n",
            "---  ------   --------------  ----- \n",
            " 0   texto    562 non-null    object\n",
            " 1   codigos  562 non-null    object\n",
            "dtypes: object(2)\n",
            "memory usage: 13.2+ KB\n"
          ]
        }
      ],
      "source": [
        "#cargamos los dos conjuntos de train\n",
        "path = 'data/train/text_files/'\n",
        "\n",
        "corpus = []\n",
        "for f in [f for f in os.listdir(path) if f.endswith('.txt')]:\n",
        "    with open(os.path.join(path, f), encoding=\"utf8\") as text:\n",
        "        texto = text.read()\n",
        "    #buscamos códigos\n",
        "    file = f[:-4]\n",
        "    codigos = train_diag.query('archivo==@file')['cat'].to_list()\n",
        "    codigos = list(set(codigos))\n",
        "    if codigos:\n",
        "        corpus.append({\n",
        "            'archivo': file,\n",
        "            'texto': texto,\n",
        "            'codigos': codigos\n",
        "        })\n",
        "\n",
        "df_train = pd.DataFrame(corpus).set_index('archivo')\n",
        "df_train.info()"
      ]
    },
    {
      "cell_type": "code",
      "execution_count": 9,
      "id": "dcf73334-972c-4746-829f-0891641a1b18",
      "metadata": {
        "colab": {
          "base_uri": "https://localhost:8080/",
          "height": 1000
        },
        "id": "dcf73334-972c-4746-829f-0891641a1b18",
        "outputId": "5de65c26-6762-433c-8928-8523ec366b40"
      },
      "outputs": [
        {
          "data": {
            "text/html": [
              "<div>\n",
              "<style scoped>\n",
              "    .dataframe tbody tr th:only-of-type {\n",
              "        vertical-align: middle;\n",
              "    }\n",
              "\n",
              "    .dataframe tbody tr th {\n",
              "        vertical-align: top;\n",
              "    }\n",
              "\n",
              "    .dataframe thead th {\n",
              "        text-align: right;\n",
              "    }\n",
              "</style>\n",
              "<table border=\"1\" class=\"dataframe\">\n",
              "  <thead>\n",
              "    <tr style=\"text-align: right;\">\n",
              "      <th></th>\n",
              "      <th>texto</th>\n",
              "      <th>codigos</th>\n",
              "    </tr>\n",
              "    <tr>\n",
              "      <th>archivo</th>\n",
              "      <th></th>\n",
              "      <th></th>\n",
              "    </tr>\n",
              "  </thead>\n",
              "  <tbody>\n",
              "    <tr>\n",
              "      <th>S1130-05582008000500009-1</th>\n",
              "      <td>Paciente varón de 64 años de edad que acudió al Servicio de Cirugía Oral y Maxilofacial del Hospital Universitario Central de Asturias por presentar un carcinoma de células escamosas que afectaba al borde lingual, la pared lateral orofaríngea, el área amigdalar y el hemipaladar blando izquierdos. Presentaba asimismo grandes adenopatías metastásicas en los ejes vasculares y en las regiones submaxilares de ambos lados del cuello.\\nEn un primer tiempo quirúrgico se realizó la resección del tumor, un vaciamiento cervical radical clásico izquierdo y una reconstrucción del defecto con un colgajo microvascularizado fasciocutáneo anterolateral de muslo. Tres semanas más tarde se procedió a realizar un vaciamiento cervical radical clásico derecho. Dada la magnitud de la cirugía y en previsión de posibles complicaciones postoperatorias, en la primera intervención se practicó también una traqueotomía reglada electiva, empleando el colgajo de Björk como modo de apertura de la tráquea. La traqueotomía se mantuvo hasta varios días después de la segunda intervención, produciéndose un cierre espontáneo del traqueostoma tras decanular al paciente y liberar la unión del colgajo traqueal a la piel.\\n\\nPosteriormente el paciente recibió tratamiento radioterápico complementario sobre la cavidad oral, la orofarínge y los niveles ganglionares cervicales I al VI.\\nEn una TC cervicotorácica de control, solicitado 4 meses tras la cirugía, se apreció la existencia de una pequeña masa compatible con proceso neoplásico en el lóbulo medio pulmonar derecho, motivo por el que fue remitido al Servicio de Neumología. Se realizó entonces una broncoscopia, en la cual se observó un hilo de sutura en la luz de la tráquea, de color negro, de unos 2,5 cm de longitud, insertado por uno de sus extremos en la pared traqueal anterior. Se intentó retirar, pero al comprobar que estaba fijado firmemente, y para evitar posibles desgarros en la pared de la tráquea, se optó por no hacerlo. Finalmente, la masa pulmonar resultó ser de naturaleza inflamatoria y se resolvió espontáneamente.\\n\\nEn relación con el hilo de sutura traqueal, la única sintomatología referida por el paciente era, ocasionalmente, sensación de cuerpo extraño, sin llegar a producir tos ni disnea.\\n\\n</td>\n",
              "      <td>[r59]</td>\n",
              "    </tr>\n",
              "    <tr>\n",
              "      <th>S1130-05582011000300005-1</th>\n",
              "      <td>Paciente de 56 años de edad, tratado por cáncer de borde lingual izquierdo mediante glosectomía izquierda y linfadenectomía cervical izquierda, pT4N2bM0 borde quirúrgico positivo, recibiendo radioquimioterapia adyuvante concurrentes (cisplatino, radioterapia conformada tridimensional) (66Gy lecho tumoral, 54Gy cadenas cervicales) que finaliza en marzo 2006. En noviembre 2007 (18 meses) objetivamos una masa laterocervical derecha, nivel II, de 4cm y 29mm en TC. Estudio de extensión negativo. Anatomía patológica: carcinoma. Considerado irresecable en comité de Tumores de Cabeza y Cuello (CTCC) por dudas de infiltración del músculo esternocleidomastoideo, decidimos quimioterapia (cisplatino seis ciclos) y reevaluación. En mayo de 2008 RNM cervical objetiva remisión parcial (24mm). Valorado en CTCC, decidimos linfadenectomía cervical funcional modificada derecha con resección de vena yugular y nervio espinal englobado por masa tumoral, seguida de HDRBT intersticial (junio de 2008), colocando los vectores en el acto quirúrgico. Tras extirpación total, el lecho tumoral, y órganos de riesgo (carótida, plexo braquial) fueron identificados por el cirujano y el oncólogo. Utilizamos implante monoplano con cinco tubos plásticos (separados 1cm minimizando riesgo de toxicidad vascular) y botones confort (fijación catéter-piel) Nucletron®. Empleamos para simulación terapéutica cortes (5mm) de TC helicoidal. La anatomía patológica fue de metástasis de carcinoma escamoso pobremente diferenciado en 4 de 7 de ganglios resecados, todos con infiltración extraganglionar. El volumen de planificación de HDRBT se definió a 5mm desde el centro del catéter. La dosis total de 34Gy (10 fracciones de 3,4Gy, 2 al día [separadas 6 horas], cinco días consecutivos), se inició cinco días tras cirugía.\\n\\nComo seguimiento multidisciplinar evaluamos: estado funcional, exploración física, toxicidad, valor TSH, y TC cervical. En febrero 2011, el paciente está libre de enfermedad, buen estado general, sin dolor, como toxicidad crónica: fibrosis tejidos blandos grado I (criterios del Instituto Nacional del Cáncer [versión 3.0]).\\n\\n</td>\n",
              "      <td>[r69]</td>\n",
              "    </tr>\n",
              "    <tr>\n",
              "      <th>S0210-48062004000800009-1</th>\n",
              "      <td>Paciente varón de 61 años remitido a nuestra consulta por hallazgo ecográfico casual de masa renal tras estudio de epigastralgia.\\nEntre los antecedentes personales destacan colelitiasis e hidrocelectomía derecha. En la anamnesis el paciente no refiere dolor en fosas renales, hematuria, episodios de infección urinaria ni astenia, anorexia o pérdida de peso. La exploración física no objetiva masas abdominales ni megalias.\\nLa ecografía muestra un nódulo exofítico de 4 x 2 cm de diámetro mayor a nivel del polo superior del riñón derecho que presenta áreas sólidas y quísticas, con zonas vascularizadas (Eco-doppler). Ante el diagnóstico de masa renal compleja se solicita una TC abdomino-pélvica que objetiva la lesión quística compleja a nivel renal, siendo imposible determinar de forma definitiva su naturaleza benigna. Realizamos una RNM abdominal que identifica la masa de 4,2 x 3,3 x 3 cm, hipointensa en las secuencias T1 y marcadamente hiperintensa en las T2, con varios septos lineales en su interior, realce lineal de las paredes del quiste y de los septos internos tras administrar gadolinio, por lo que es diagnóstica de masa quística mínimamente complicada.\\n\\nAnte la duda diagnóstica de la TC y los hallazgos ecográficos (quiste renal grado III de Bosniak) decidimos realizar exploración quirúrgica y mediante incisión en el flanco practicamos tumorectomía.\\nLa evolución posterior fue satisfactoria y el estudio histológico confirmó la presencia de un carcinoma de células claras renales, quístico multilocular, grado I de Fuhrman, con márgenes de resección negativos.\\nEn la TC de control a los 6 meses de la intervención podemos observar los cambios postquirúrgicos a nivel de la cortical renal y de la grasa adyacente, sin evidencia de recidiva local. El paciente actualmente está asintomático, siendo revisado cada 6 meses con ecografía y anualmente con TC.\\n\\n</td>\n",
              "      <td>[n28, r10]</td>\n",
              "    </tr>\n",
              "  </tbody>\n",
              "</table>\n",
              "</div>"
            ],
            "text/plain": [
              "                                                                                                                                                                                                                                                                                                                                                                                                                                                                                                                                                                                                                                                                                                                                                                                                                                                                                                                                                                                                                                                                                                                                                                                                                                                                                                                                                                                                                                                                                                                                                                                                                                                                                                                                                                                                                                                                                                                                                                                                                                                                                                                                                                                                                                                                                                                                                                          texto  \\\n",
              "archivo                                                                                                                                                                                                                                                                                                                                                                                                                                                                                                                                                                                                                                                                                                                                                                                                                                                                                                                                                                                                                                                                                                                                                                                                                                                                                                                                                                                                                                                                                                                                                                                                                                                                                                                                                                                                                                                                                                                                                                                                                                                                                                                                                                                                                                                                                                                                                                           \n",
              "S1130-05582008000500009-1  Paciente varón de 64 años de edad que acudió al Servicio de Cirugía Oral y Maxilofacial del Hospital Universitario Central de Asturias por presentar un carcinoma de células escamosas que afectaba al borde lingual, la pared lateral orofaríngea, el área amigdalar y el hemipaladar blando izquierdos. Presentaba asimismo grandes adenopatías metastásicas en los ejes vasculares y en las regiones submaxilares de ambos lados del cuello.\\nEn un primer tiempo quirúrgico se realizó la resección del tumor, un vaciamiento cervical radical clásico izquierdo y una reconstrucción del defecto con un colgajo microvascularizado fasciocutáneo anterolateral de muslo. Tres semanas más tarde se procedió a realizar un vaciamiento cervical radical clásico derecho. Dada la magnitud de la cirugía y en previsión de posibles complicaciones postoperatorias, en la primera intervención se practicó también una traqueotomía reglada electiva, empleando el colgajo de Björk como modo de apertura de la tráquea. La traqueotomía se mantuvo hasta varios días después de la segunda intervención, produciéndose un cierre espontáneo del traqueostoma tras decanular al paciente y liberar la unión del colgajo traqueal a la piel.\\n\\nPosteriormente el paciente recibió tratamiento radioterápico complementario sobre la cavidad oral, la orofarínge y los niveles ganglionares cervicales I al VI.\\nEn una TC cervicotorácica de control, solicitado 4 meses tras la cirugía, se apreció la existencia de una pequeña masa compatible con proceso neoplásico en el lóbulo medio pulmonar derecho, motivo por el que fue remitido al Servicio de Neumología. Se realizó entonces una broncoscopia, en la cual se observó un hilo de sutura en la luz de la tráquea, de color negro, de unos 2,5 cm de longitud, insertado por uno de sus extremos en la pared traqueal anterior. Se intentó retirar, pero al comprobar que estaba fijado firmemente, y para evitar posibles desgarros en la pared de la tráquea, se optó por no hacerlo. Finalmente, la masa pulmonar resultó ser de naturaleza inflamatoria y se resolvió espontáneamente.\\n\\nEn relación con el hilo de sutura traqueal, la única sintomatología referida por el paciente era, ocasionalmente, sensación de cuerpo extraño, sin llegar a producir tos ni disnea.\\n\\n   \n",
              "S1130-05582011000300005-1                                                                                                                                     Paciente de 56 años de edad, tratado por cáncer de borde lingual izquierdo mediante glosectomía izquierda y linfadenectomía cervical izquierda, pT4N2bM0 borde quirúrgico positivo, recibiendo radioquimioterapia adyuvante concurrentes (cisplatino, radioterapia conformada tridimensional) (66Gy lecho tumoral, 54Gy cadenas cervicales) que finaliza en marzo 2006. En noviembre 2007 (18 meses) objetivamos una masa laterocervical derecha, nivel II, de 4cm y 29mm en TC. Estudio de extensión negativo. Anatomía patológica: carcinoma. Considerado irresecable en comité de Tumores de Cabeza y Cuello (CTCC) por dudas de infiltración del músculo esternocleidomastoideo, decidimos quimioterapia (cisplatino seis ciclos) y reevaluación. En mayo de 2008 RNM cervical objetiva remisión parcial (24mm). Valorado en CTCC, decidimos linfadenectomía cervical funcional modificada derecha con resección de vena yugular y nervio espinal englobado por masa tumoral, seguida de HDRBT intersticial (junio de 2008), colocando los vectores en el acto quirúrgico. Tras extirpación total, el lecho tumoral, y órganos de riesgo (carótida, plexo braquial) fueron identificados por el cirujano y el oncólogo. Utilizamos implante monoplano con cinco tubos plásticos (separados 1cm minimizando riesgo de toxicidad vascular) y botones confort (fijación catéter-piel) Nucletron®. Empleamos para simulación terapéutica cortes (5mm) de TC helicoidal. La anatomía patológica fue de metástasis de carcinoma escamoso pobremente diferenciado en 4 de 7 de ganglios resecados, todos con infiltración extraganglionar. El volumen de planificación de HDRBT se definió a 5mm desde el centro del catéter. La dosis total de 34Gy (10 fracciones de 3,4Gy, 2 al día [separadas 6 horas], cinco días consecutivos), se inició cinco días tras cirugía.\\n\\nComo seguimiento multidisciplinar evaluamos: estado funcional, exploración física, toxicidad, valor TSH, y TC cervical. En febrero 2011, el paciente está libre de enfermedad, buen estado general, sin dolor, como toxicidad crónica: fibrosis tejidos blandos grado I (criterios del Instituto Nacional del Cáncer [versión 3.0]).\\n\\n   \n",
              "S0210-48062004000800009-1                                                                                                                                                                                                                                                                                                                                                                                         Paciente varón de 61 años remitido a nuestra consulta por hallazgo ecográfico casual de masa renal tras estudio de epigastralgia.\\nEntre los antecedentes personales destacan colelitiasis e hidrocelectomía derecha. En la anamnesis el paciente no refiere dolor en fosas renales, hematuria, episodios de infección urinaria ni astenia, anorexia o pérdida de peso. La exploración física no objetiva masas abdominales ni megalias.\\nLa ecografía muestra un nódulo exofítico de 4 x 2 cm de diámetro mayor a nivel del polo superior del riñón derecho que presenta áreas sólidas y quísticas, con zonas vascularizadas (Eco-doppler). Ante el diagnóstico de masa renal compleja se solicita una TC abdomino-pélvica que objetiva la lesión quística compleja a nivel renal, siendo imposible determinar de forma definitiva su naturaleza benigna. Realizamos una RNM abdominal que identifica la masa de 4,2 x 3,3 x 3 cm, hipointensa en las secuencias T1 y marcadamente hiperintensa en las T2, con varios septos lineales en su interior, realce lineal de las paredes del quiste y de los septos internos tras administrar gadolinio, por lo que es diagnóstica de masa quística mínimamente complicada.\\n\\nAnte la duda diagnóstica de la TC y los hallazgos ecográficos (quiste renal grado III de Bosniak) decidimos realizar exploración quirúrgica y mediante incisión en el flanco practicamos tumorectomía.\\nLa evolución posterior fue satisfactoria y el estudio histológico confirmó la presencia de un carcinoma de células claras renales, quístico multilocular, grado I de Fuhrman, con márgenes de resección negativos.\\nEn la TC de control a los 6 meses de la intervención podemos observar los cambios postquirúrgicos a nivel de la cortical renal y de la grasa adyacente, sin evidencia de recidiva local. El paciente actualmente está asintomático, siendo revisado cada 6 meses con ecografía y anualmente con TC.\\n\\n   \n",
              "\n",
              "                              codigos  \n",
              "archivo                                \n",
              "S1130-05582008000500009-1       [r59]  \n",
              "S1130-05582011000300005-1       [r69]  \n",
              "S0210-48062004000800009-1  [n28, r10]  "
            ]
          },
          "execution_count": 9,
          "metadata": {},
          "output_type": "execute_result"
        }
      ],
      "source": [
        "df_train.sample(3)"
      ]
    },
    {
      "cell_type": "markdown",
      "id": "dfc77de8-8256-4653-9de0-690dacc58095",
      "metadata": {
        "id": "dfc77de8-8256-4653-9de0-690dacc58095"
      },
      "source": [
        "## Cargar los textos del conjunto de test"
      ]
    },
    {
      "cell_type": "code",
      "execution_count": 10,
      "id": "09135955",
      "metadata": {
        "colab": {
          "base_uri": "https://localhost:8080/"
        },
        "id": "09135955",
        "outputId": "a8e94fa1-d357-4080-c1b6-2c5cea3d50f0"
      },
      "outputs": [
        {
          "name": "stdout",
          "output_type": "stream",
          "text": [
            "<class 'pandas.core.frame.DataFrame'>\n",
            "RangeIndex: 192 entries, 0 to 191\n",
            "Data columns (total 1 columns):\n",
            " #   Column   Non-Null Count  Dtype \n",
            "---  ------   --------------  ----- \n",
            " 0   archivo  192 non-null    object\n",
            "dtypes: object(1)\n",
            "memory usage: 1.6+ KB\n"
          ]
        }
      ],
      "source": [
        "#los códigos están en un TSV con un código por línea\n",
        "test_diag = pd.read_csv(\"data/test/test.tsv\", sep=\"\\t\", header=None, names=['archivo'])\n",
        "test_diag.info()"
      ]
    },
    {
      "cell_type": "code",
      "execution_count": 11,
      "id": "977463ca",
      "metadata": {
        "id": "977463ca"
      },
      "outputs": [],
      "source": [
        "path = 'data/test/text_files/'\n",
        "\n",
        "# Lista para almacenar los textos y sus códigos correspondientes\n",
        "corpus = []\n",
        "\n",
        "# Itera sobre los archivos de texto en el directorio\n",
        "for f in [f for f in os.listdir(path) if f.endswith('.txt')]:\n",
        "    with open(os.path.join(path, f), encoding=\"utf8\") as text:\n",
        "        texto = text.read()\n",
        "\n",
        "    # Extrae el código del nombre del archivo\n",
        "    file = f[:-4]\n",
        "\n",
        "    # Agrega el texto al corpus\n",
        "    corpus.append({\n",
        "        'archivo': file,\n",
        "        'texto': texto\n",
        "    })\n",
        "\n",
        "# Crea un DataFrame a partir del corpus\n",
        "df_test = pd.DataFrame(corpus).set_index('archivo')"
      ]
    },
    {
      "cell_type": "code",
      "execution_count": 12,
      "id": "22a7def9",
      "metadata": {
        "colab": {
          "base_uri": "https://localhost:8080/",
          "height": 1000
        },
        "id": "22a7def9",
        "outputId": "baa2230a-288a-489e-eafc-98dde2ee254e"
      },
      "outputs": [
        {
          "data": {
            "text/html": [
              "<div>\n",
              "<style scoped>\n",
              "    .dataframe tbody tr th:only-of-type {\n",
              "        vertical-align: middle;\n",
              "    }\n",
              "\n",
              "    .dataframe tbody tr th {\n",
              "        vertical-align: top;\n",
              "    }\n",
              "\n",
              "    .dataframe thead th {\n",
              "        text-align: right;\n",
              "    }\n",
              "</style>\n",
              "<table border=\"1\" class=\"dataframe\">\n",
              "  <thead>\n",
              "    <tr style=\"text-align: right;\">\n",
              "      <th></th>\n",
              "      <th>texto</th>\n",
              "    </tr>\n",
              "    <tr>\n",
              "      <th>archivo</th>\n",
              "      <th></th>\n",
              "    </tr>\n",
              "  </thead>\n",
              "  <tbody>\n",
              "    <tr>\n",
              "      <th>S0212-71992004001100007-1</th>\n",
              "      <td>Paciente varón de 60 años de edad, con prótesis mitral metálica tipo Björk-Shilley y anuloplastia tricuspídea 20 años atrás por valvulopatía reumática, fibrilación auricular crónica (FAC), HTA, insuficiencia cardiaca congestiva (ICC) con un Grado Funcional NYHA I/IV. Recibía tratamiento con acenocumarol. Ingresa en nuestro servicio por cuadro de fiebre, escalofríos, y empeoramiento de su disnea habitual, apareciendo ortopnea y edemas en MMII. La exploración clínica era compatible con una ICC (venas yugulares ingurgitadas, pulso arritmico a 100 lpm, ritmo de galope, crepitantes basales bilaterales pulmonares, hepatomegalia de 2 traveses con reflejo hepatoyugular positivo y edemas pretibiales con fóvea en los MMII). En la analítica presentaba una hemoglobina de 12,4 g/L, leucocitos 17.810/ml, con un 87% de neutrófilos, estando el resto de los parámetros habituales dentro de la normalidad. La radiografía de tórax mostraba signos de ICC. Se realizaron hemocultivos seriados en los que se aisló de forma persistente Neisseria Sicca, por lo que se inició tratamiento con Penicilina G sódica intravenosa 24 millones de unidades en perfusión contínua y Gentamicina 80 mg I.V. cada 8 horas (2 primeras semanas), quedando el paciente afebril al tercer día de comenzar el tratamiento. En el transcurso del ingreso aparecieron unas lesiones rojizas y dolorosas en los pulpejos de los dedos de ambas manos compatibles con fenómenos vasculíticos, realizándose, por tanto, el diagnóstico de Endocarditis Infecciosa (EI) según los criterios clínicos de Durack (4). La Ecocardiografia Transtorácica (ETT) y Transesofágica (ETE) demostró una prótesis mitral normofuncionante y ausencia de vegetaciones. Al 9º día de tratamiento el paciente presentó un episodio brusco de pérdida de fuerza en hemicuerpo izquierdo, visualizándose en TAC craneal 3 imagénes hiperdensas a nivel temporalparietal y occipital de ambos hemisferios compatibles con focos hemorrágicos. En ese momento en I.N.R. era de 2,45, a pesar de lo cual, la anticoagulación fue suspendida. Cuatro días después, y la tras estabilización del paciente, se decidió reiniciar anticoagulación con heparina sódica iv completándose 6 semanas de tratamiento antibiótico y heparina. En el TAC cerebral de control tras el tratamiento, persistía el hematoma occipitoparietal, habiendo desaparecido los otros focos hemorrágicos. Ante éstos hallazgos y la posibilidad de resangrado, el paciente fue dado de alta con bemiparina 10.000 U.I. subcutánea una vez al día, durante 3 meses, tras los cuales se realizó nuevo estudio ecocardiográfico y TAC craneal que demostraron la normalidad de la válvula mitral y la práctica resolución del hematoma cerebral, por lo que nuevamente se inició anticoagulación oral con acenocumarol, encontrándose a los tres meses de la misma, asintomático.\\n</td>\n",
              "    </tr>\n",
              "    <tr>\n",
              "      <th>S0004-06142007000900012-1</th>\n",
              "      <td>Mujer de 67 años de edad con antecedentes personales de apendicectomía, hernia discal y de hiato, fractura de tibia y peroné, así como cólico nefrítico derecho que acude a consulta de urología para revisión. En el estudio ecográfico, se observa una neoformación sólida en riñón derecho de 5 cm.; se realiza TAC en el que se describe una masa a nivel cortical de riñón derecho, de aproximadamente 5 cm, de bordes externos lobulados, que no parece afectar al espacio perirrenal, no observándose adenopatías, ni dilatación de vía renal excretora. Con el diagnóstico de probable hipernefroma se realiza nefrectomía radical derecha mediante laparoscopia.\\n\\nEn el estudio macroscópico se describe una neoformación cortical de 5 cm de diámetro máximo, bien delimitada, pero no encapsulada, que deforma la superficie cortical sin atravesarla, con una superficie de corte de coloración amarillenta con áreas de aspecto hemorrágicas y áreas quísticas.\\nEn el estudio microscópico la neoformación está constituida por estructuras acinares tapizadas por pequeñas células cuboidales uniformes, con escaso citoplasma y núcleos con cromatina uniforme, inmersas en un estroma ligeramente celular. Se realizó estudio inmunohistoquímico para determinación de vimentina, citoqueratina 7, citoqueratina de amplio espectro, CD34, cromogranina y EMA (Master Diagnostic. Granada. España), observándose expresión generalizada de vimentina, focal de citoqueraina 7 y EMA en las células epiteliales, y CD34 en el componente estromal.\\n\\nLa paciente cursa tras la intervención sin incidentes destacables y se encuentra asintomática a los 24 meses de la intervención.\\n\\n</td>\n",
              "    </tr>\n",
              "    <tr>\n",
              "      <th>S1698-44472004000400012-1</th>\n",
              "      <td>Varón de 54 años de edad, remitido a nuestro servicio en mayo del 2003 por presentar odontalgia en relación con un tercer molar inferior derecho erupcionado. A la inspección oral se pudo observar la existencia de una tumefacción que expandía las corticales vestibulo-linguales, en la región del tercer molar mandibular derecho, cariado por distal. La mucosa oral estaba indemne, y no se palpaban adenomegalias cervicales. El paciente refería la existencia de una hipoestesia en el territorio de distribución del nervio mentoniano de quince días de evolución. En la ortopantomografía, se evidenció la presencia de una imagen radiolúcida, de contornos poco definidos, en el cuerpo mandibular derecho. Dos días después, bajo anestesia local, se procedió a la exodoncia del tercer molar y curetaje-biopsia del tejido subyacente. Durante el acto operatorio, se produjo una intensa hemorragia, que pudo ser cohibida con el empleo de Surgicel (Johnson &amp; Johnson, Nuevo Brunswick, NJ) y mediante el empaquetado en el lecho alveolar de cera de hueso.\\n\\nEl hemograma y el estudio de coagulación postoperato-rios no mostraron alteraciones significativas. El diagnóstico histopatológico del material remitido fue de: metástasis mandibular por hepatocarcinoma bien diferenciado. Las células neoplásicas no se teñían con las citoqueratinas 19 y 20, ni con la alfa-fetoproteina, pero si mostraron una intensa tinción granular citoplasmática con el marcador hepatocito N.\\n\\nEntre los antecedentes personales del paciente, destacaban una historia de diabetes tipo II de 8 años de evolución, controlada con hipoglucemiantes orales. Se trataba de un bebedor de 130 g. etanol/día desde los 30 años, y fumador de 2 paquetes de cigarrillos/día desde los 20 años. Un año antes de nuestra valoración, el enfermo había sido diagnosticado de cirrosis hepática (estadio A de Child Pugh: 5/15), y de hepatocarcinoma multicéntrico con afectación de los segmentos II, III, y IV, siendo intervenido mediante resección hepática parcial, al mes de su diagnostico. Previamente se había realizado un estudio completo que incluyó gammagrafía ósea con tecnecio 99-MDP y tomografía computarizada de cráneo, pulmón, abdomen y pelvis, sin objetivar la presencia de metástasis. Los valores séricos de alfa-fetoproteina eran, en los controles postoperatorios, normales (3,6 ng/ml).\\nA los 15 días de nuestra intervención se objetivó una marcada elevación de los niveles de alfa-fetoproteina (221 ng/ml), evidenciándose mediante gammagrafía ósea y resonancia magnética la existencia de múltiples metástasis que afectaban al occipital izquierdo, cuerpo esternal, pelvis, y múltiples vértebras. El paciente fue sometido a radioterapia paliativa sobre las lesiones vertebrales (10 Gy a la semana de Co 60) sin mejoría, siendo éxitus a los seis meses de nuestra biopsia.\\n\\n</td>\n",
              "    </tr>\n",
              "  </tbody>\n",
              "</table>\n",
              "</div>"
            ],
            "text/plain": [
              "                                                                                                                                                                                                                                                                                                                                                                                                                                                                                                                                                                                                                                                                                                                                                                                                                                                                                                                                                                                                                                                                                                                                                                                                                                                                                                                                                                                                                                                                                                                                                                                                                                                                                                                                                                                                                                                                                                                                                                                                                                                                                                                                                                                                                                                                                                                                                                                                                                                                                                                                                                                                                                                                                                                                                                                                                                                                                                                                                                    texto\n",
              "archivo                                                                                                                                                                                                                                                                                                                                                                                                                                                                                                                                                                                                                                                                                                                                                                                                                                                                                                                                                                                                                                                                                                                                                                                                                                                                                                                                                                                                                                                                                                                                                                                                                                                                                                                                                                                                                                                                                                                                                                                                                                                                                                                                                                                                                                                                                                                                                                                                                                                                                                                                                                                                                                                                                                                                                                                                                                                                                                                                                                  \n",
              "S0212-71992004001100007-1  Paciente varón de 60 años de edad, con prótesis mitral metálica tipo Björk-Shilley y anuloplastia tricuspídea 20 años atrás por valvulopatía reumática, fibrilación auricular crónica (FAC), HTA, insuficiencia cardiaca congestiva (ICC) con un Grado Funcional NYHA I/IV. Recibía tratamiento con acenocumarol. Ingresa en nuestro servicio por cuadro de fiebre, escalofríos, y empeoramiento de su disnea habitual, apareciendo ortopnea y edemas en MMII. La exploración clínica era compatible con una ICC (venas yugulares ingurgitadas, pulso arritmico a 100 lpm, ritmo de galope, crepitantes basales bilaterales pulmonares, hepatomegalia de 2 traveses con reflejo hepatoyugular positivo y edemas pretibiales con fóvea en los MMII). En la analítica presentaba una hemoglobina de 12,4 g/L, leucocitos 17.810/ml, con un 87% de neutrófilos, estando el resto de los parámetros habituales dentro de la normalidad. La radiografía de tórax mostraba signos de ICC. Se realizaron hemocultivos seriados en los que se aisló de forma persistente Neisseria Sicca, por lo que se inició tratamiento con Penicilina G sódica intravenosa 24 millones de unidades en perfusión contínua y Gentamicina 80 mg I.V. cada 8 horas (2 primeras semanas), quedando el paciente afebril al tercer día de comenzar el tratamiento. En el transcurso del ingreso aparecieron unas lesiones rojizas y dolorosas en los pulpejos de los dedos de ambas manos compatibles con fenómenos vasculíticos, realizándose, por tanto, el diagnóstico de Endocarditis Infecciosa (EI) según los criterios clínicos de Durack (4). La Ecocardiografia Transtorácica (ETT) y Transesofágica (ETE) demostró una prótesis mitral normofuncionante y ausencia de vegetaciones. Al 9º día de tratamiento el paciente presentó un episodio brusco de pérdida de fuerza en hemicuerpo izquierdo, visualizándose en TAC craneal 3 imagénes hiperdensas a nivel temporalparietal y occipital de ambos hemisferios compatibles con focos hemorrágicos. En ese momento en I.N.R. era de 2,45, a pesar de lo cual, la anticoagulación fue suspendida. Cuatro días después, y la tras estabilización del paciente, se decidió reiniciar anticoagulación con heparina sódica iv completándose 6 semanas de tratamiento antibiótico y heparina. En el TAC cerebral de control tras el tratamiento, persistía el hematoma occipitoparietal, habiendo desaparecido los otros focos hemorrágicos. Ante éstos hallazgos y la posibilidad de resangrado, el paciente fue dado de alta con bemiparina 10.000 U.I. subcutánea una vez al día, durante 3 meses, tras los cuales se realizó nuevo estudio ecocardiográfico y TAC craneal que demostraron la normalidad de la válvula mitral y la práctica resolución del hematoma cerebral, por lo que nuevamente se inició anticoagulación oral con acenocumarol, encontrándose a los tres meses de la misma, asintomático.\\n\n",
              "S0004-06142007000900012-1                                                                                                                                                                                                                                                                                                                                                                                                                                                                                                                                                                                                                                                                                                                                                                                                                                                                                                                                                                                                                                                                                                                                                                                                                                    Mujer de 67 años de edad con antecedentes personales de apendicectomía, hernia discal y de hiato, fractura de tibia y peroné, así como cólico nefrítico derecho que acude a consulta de urología para revisión. En el estudio ecográfico, se observa una neoformación sólida en riñón derecho de 5 cm.; se realiza TAC en el que se describe una masa a nivel cortical de riñón derecho, de aproximadamente 5 cm, de bordes externos lobulados, que no parece afectar al espacio perirrenal, no observándose adenopatías, ni dilatación de vía renal excretora. Con el diagnóstico de probable hipernefroma se realiza nefrectomía radical derecha mediante laparoscopia.\\n\\nEn el estudio macroscópico se describe una neoformación cortical de 5 cm de diámetro máximo, bien delimitada, pero no encapsulada, que deforma la superficie cortical sin atravesarla, con una superficie de corte de coloración amarillenta con áreas de aspecto hemorrágicas y áreas quísticas.\\nEn el estudio microscópico la neoformación está constituida por estructuras acinares tapizadas por pequeñas células cuboidales uniformes, con escaso citoplasma y núcleos con cromatina uniforme, inmersas en un estroma ligeramente celular. Se realizó estudio inmunohistoquímico para determinación de vimentina, citoqueratina 7, citoqueratina de amplio espectro, CD34, cromogranina y EMA (Master Diagnostic. Granada. España), observándose expresión generalizada de vimentina, focal de citoqueraina 7 y EMA en las células epiteliales, y CD34 en el componente estromal.\\n\\nLa paciente cursa tras la intervención sin incidentes destacables y se encuentra asintomática a los 24 meses de la intervención.\\n\\n\n",
              "S1698-44472004000400012-1   Varón de 54 años de edad, remitido a nuestro servicio en mayo del 2003 por presentar odontalgia en relación con un tercer molar inferior derecho erupcionado. A la inspección oral se pudo observar la existencia de una tumefacción que expandía las corticales vestibulo-linguales, en la región del tercer molar mandibular derecho, cariado por distal. La mucosa oral estaba indemne, y no se palpaban adenomegalias cervicales. El paciente refería la existencia de una hipoestesia en el territorio de distribución del nervio mentoniano de quince días de evolución. En la ortopantomografía, se evidenció la presencia de una imagen radiolúcida, de contornos poco definidos, en el cuerpo mandibular derecho. Dos días después, bajo anestesia local, se procedió a la exodoncia del tercer molar y curetaje-biopsia del tejido subyacente. Durante el acto operatorio, se produjo una intensa hemorragia, que pudo ser cohibida con el empleo de Surgicel (Johnson & Johnson, Nuevo Brunswick, NJ) y mediante el empaquetado en el lecho alveolar de cera de hueso.\\n\\nEl hemograma y el estudio de coagulación postoperato-rios no mostraron alteraciones significativas. El diagnóstico histopatológico del material remitido fue de: metástasis mandibular por hepatocarcinoma bien diferenciado. Las células neoplásicas no se teñían con las citoqueratinas 19 y 20, ni con la alfa-fetoproteina, pero si mostraron una intensa tinción granular citoplasmática con el marcador hepatocito N.\\n\\nEntre los antecedentes personales del paciente, destacaban una historia de diabetes tipo II de 8 años de evolución, controlada con hipoglucemiantes orales. Se trataba de un bebedor de 130 g. etanol/día desde los 30 años, y fumador de 2 paquetes de cigarrillos/día desde los 20 años. Un año antes de nuestra valoración, el enfermo había sido diagnosticado de cirrosis hepática (estadio A de Child Pugh: 5/15), y de hepatocarcinoma multicéntrico con afectación de los segmentos II, III, y IV, siendo intervenido mediante resección hepática parcial, al mes de su diagnostico. Previamente se había realizado un estudio completo que incluyó gammagrafía ósea con tecnecio 99-MDP y tomografía computarizada de cráneo, pulmón, abdomen y pelvis, sin objetivar la presencia de metástasis. Los valores séricos de alfa-fetoproteina eran, en los controles postoperatorios, normales (3,6 ng/ml).\\nA los 15 días de nuestra intervención se objetivó una marcada elevación de los niveles de alfa-fetoproteina (221 ng/ml), evidenciándose mediante gammagrafía ósea y resonancia magnética la existencia de múltiples metástasis que afectaban al occipital izquierdo, cuerpo esternal, pelvis, y múltiples vértebras. El paciente fue sometido a radioterapia paliativa sobre las lesiones vertebrales (10 Gy a la semana de Co 60) sin mejoría, siendo éxitus a los seis meses de nuestra biopsia.\\n\\n"
            ]
          },
          "execution_count": 12,
          "metadata": {},
          "output_type": "execute_result"
        }
      ],
      "source": [
        "df_test.sample(3)"
      ]
    },
    {
      "cell_type": "markdown",
      "id": "b472f280-db6a-438d-8340-f7b19758399b",
      "metadata": {
        "id": "b472f280-db6a-438d-8340-f7b19758399b"
      },
      "source": [
        "## Binarizar las etiquetas"
      ]
    },
    {
      "cell_type": "code",
      "execution_count": 13,
      "id": "ae41be51-448e-433b-b10f-b4236afbaa7a",
      "metadata": {
        "colab": {
          "base_uri": "https://localhost:8080/"
        },
        "id": "ae41be51-448e-433b-b10f-b4236afbaa7a",
        "outputId": "b55b72cb-1664-4962-a132-fa99246cf365"
      },
      "outputs": [
        {
          "name": "stdout",
          "output_type": "stream",
          "text": [
            "10\n"
          ]
        }
      ],
      "source": [
        "# para entrenar un clasificador multi-etiqueta generamos una matriz binaria de las etiquetas\n",
        "from sklearn.preprocessing import MultiLabelBinarizer\n",
        "\n",
        "mlb = MultiLabelBinarizer()\n",
        "y_train = mlb.fit_transform(df_train['codigos'])\n",
        "\n",
        "#Guardamos las clases utilizadas en el conjunto de train\n",
        "clases = mlb.classes_\n",
        "num_classes = clases.shape\n",
        "print(num_classes[0])"
      ]
    },
    {
      "cell_type": "markdown",
      "id": "6431f372-160e-4082-8540-33d40c09e745",
      "metadata": {
        "id": "6431f372-160e-4082-8540-33d40c09e745"
      },
      "source": [
        "## Procesamiento del lenguaje natural"
      ]
    },
    {
      "cell_type": "code",
      "execution_count": 14,
      "id": "eb7c1b10-8fe0-4786-a5bc-0ae2a5384272",
      "metadata": {
        "id": "eb7c1b10-8fe0-4786-a5bc-0ae2a5384272"
      },
      "outputs": [],
      "source": [
        "import utils\n",
        "\n",
        "df_train_clean = utils.clean_corpus(df_train, column_name='texto')\n",
        "df_test_clean = utils.clean_corpus(df_test, column_name='texto')"
      ]
    },
    {
      "cell_type": "code",
      "execution_count": 15,
      "id": "8476ec88-d3f6-477f-8cc9-d298ce8077b9",
      "metadata": {
        "colab": {
          "base_uri": "https://localhost:8080/"
        },
        "id": "8476ec88-d3f6-477f-8cc9-d298ce8077b9",
        "outputId": "931f5531-381c-4df5-a398-613086c36144"
      },
      "outputs": [
        {
          "name": "stderr",
          "output_type": "stream",
          "text": [
            "[nltk_data] Downloading package punkt to\n",
            "[nltk_data]     C:\\Users\\carpe\\AppData\\Roaming\\nltk_data...\n",
            "[nltk_data]   Package punkt is already up-to-date!\n"
          ]
        },
        {
          "data": {
            "text/plain": [
              "True"
            ]
          },
          "execution_count": 15,
          "metadata": {},
          "output_type": "execute_result"
        }
      ],
      "source": [
        "# Hacerlo solo la primera vez\n",
        "import nltk\n",
        "nltk.download('punkt')"
      ]
    },
    {
      "cell_type": "code",
      "execution_count": 16,
      "id": "cd2a2111-b1cc-44a9-aaf6-4b215fcb1f1d",
      "metadata": {
        "colab": {
          "base_uri": "https://localhost:8080/",
          "height": 787
        },
        "id": "cd2a2111-b1cc-44a9-aaf6-4b215fcb1f1d",
        "outputId": "2eb1db8e-c18b-4923-fcb0-3571af15c3a9"
      },
      "outputs": [
        {
          "data": {
            "image/png": "[encoded data removed]",
            "text/plain": [
              "<Figure size 1000x800 with 2 Axes>"
            ]
          },
          "metadata": {},
          "output_type": "display_data"
        }
      ],
      "source": [
        "#Hay un vocabulario demasiado grande como para representarlo en una BoW\n",
        "utils.plot_bow_heatmap(df_train_clean, column_name='texto', n_words=10, n_grams=1)"
      ]
    },
    {
      "cell_type": "markdown",
      "id": "09324f7e-ee73-41e9-b94f-a0a6a5e38b02",
      "metadata": {
        "id": "09324f7e-ee73-41e9-b94f-a0a6a5e38b02"
      },
      "source": [
        "## Modelos"
      ]
    },
    {
      "cell_type": "code",
      "execution_count": 17,
      "id": "a284d656",
      "metadata": {
        "id": "a284d656"
      },
      "outputs": [],
      "source": [
        "from sklearn.feature_extraction.text import TfidfVectorizer\n",
        "from sklearn.pipeline import Pipeline\n",
        "from sklearn.multiclass import OneVsRestClassifier\n",
        "from sklearn.ensemble import RandomForestClassifier\n",
        "from sklearn.naive_bayes import MultinomialNB\n",
        "from sklearn.metrics import accuracy_score, f1_score\n",
        "from sklearn.model_selection import train_test_split\n",
        "from sklearn.svm import SVC\n",
        "from sklearn.linear_model import LogisticRegression\n"
      ]
    },
    {
      "cell_type": "code",
      "execution_count": 18,
      "id": "f12cc452",
      "metadata": {
        "id": "f12cc452"
      },
      "outputs": [],
      "source": [
        "# Vectorizar el texto utilizando TF-IDF\n",
        "vectorizer = TfidfVectorizer(max_features=10000)\n",
        "X_train_vectorized = vectorizer.fit_transform(df_train_clean['texto'])\n",
        "\n",
        "X_train_split, X_val_split, y_train_split, y_val_split = train_test_split(X_train_vectorized, y_train, test_size=0.2, random_state=42)"
      ]
    },
    {
      "cell_type": "code",
      "execution_count": 19,
      "id": "1f6c8dcb",
      "metadata": {
        "id": "1f6c8dcb"
      },
      "outputs": [],
      "source": [
        "model = Pipeline([\n",
        "    ('clf', OneVsRestClassifier(RandomForestClassifier()))\n",
        "])"
      ]
    },
    {
      "cell_type": "code",
      "execution_count": 20,
      "id": "c3b6b649",
      "metadata": {
        "colab": {
          "base_uri": "https://localhost:8080/"
        },
        "id": "c3b6b649",
        "outputId": "fc32b4dd-946d-44b4-e03e-d224c1e8398f"
      },
      "outputs": [
        {
          "name": "stdout",
          "output_type": "stream",
          "text": [
            "Validation Accuracy: 0.04424778761061947\n",
            "Validation F1-score: 0.2734375\n"
          ]
        }
      ],
      "source": [
        "# Entrenar el modelo con los datos de entrenamiento y validar con los datos de validación\n",
        "model.fit(X_train_split, y_train_split)\n",
        "\n",
        "# Realizar predicciones en el conjunto de validación\n",
        "y_val_pred = model.predict(X_val_split)\n",
        "\n",
        "# Calcular la precisión y F1-score en el conjunto de validación\n",
        "accuracy_val = accuracy_score(y_val_split, y_val_pred)\n",
        "f1_val = f1_score(y_val_split, y_val_pred, average='micro')\n",
        "\n",
        "print(\"Validation Accuracy:\", accuracy_val)\n",
        "print(\"Validation F1-score:\", f1_val)"
      ]
    },
    {
      "cell_type": "code",
      "execution_count": 21,
      "id": "8769c284",
      "metadata": {
        "id": "8769c284"
      },
      "outputs": [],
      "source": [
        "from xgboost import XGBClassifier"
      ]
    },
    {
      "cell_type": "code",
      "execution_count": 22,
      "id": "df4a232b-c840-4d51-8c00-2000c91fd83a",
      "metadata": {
        "id": "df4a232b-c840-4d51-8c00-2000c91fd83a"
      },
      "outputs": [],
      "source": [
        "model2 = Pipeline([\n",
        "    ('clf', OneVsRestClassifier(XGBClassifier()))\n",
        "])"
      ]
    },
    {
      "cell_type": "code",
      "execution_count": 23,
      "id": "9ed98953-a8f9-453f-b107-8653c037a824",
      "metadata": {
        "colab": {
          "base_uri": "https://localhost:8080/"
        },
        "id": "9ed98953-a8f9-453f-b107-8653c037a824",
        "outputId": "acec57be-7ef7-4bae-aa30-82be8a0a32a9"
      },
      "outputs": [
        {
          "name": "stdout",
          "output_type": "stream",
          "text": [
            "Validation Accuracy: 0.4336283185840708\n",
            "Validation F1-score: 0.8115942028985508\n"
          ]
        }
      ],
      "source": [
        "# Entrenar el modelo con los datos de entrenamiento y validar con los datos de validación\n",
        "model2.fit(X_train_split, y_train_split)\n",
        "\n",
        "# Realizar predicciones en el conjunto de validación\n",
        "y_val_pred = model2.predict(X_val_split)\n",
        "\n",
        "# Calcular la precisión y F1-score en el conjunto de validación\n",
        "accuracy_val = accuracy_score(y_val_split, y_val_pred)\n",
        "f1_val = f1_score(y_val_split, y_val_pred, average='micro')\n",
        "\n",
        "print(\"Validation Accuracy:\", accuracy_val)\n",
        "print(\"Validation F1-score:\", f1_val)"
      ]
    },
    {
      "cell_type": "code",
      "execution_count": 24,
      "id": "d5609387",
      "metadata": {
        "id": "d5609387"
      },
      "outputs": [],
      "source": [
        "from sklearn.ensemble import AdaBoostClassifier"
      ]
    },
    {
      "cell_type": "code",
      "execution_count": 25,
      "id": "59e6add7-769c-40b6-931b-1fca0721a749",
      "metadata": {
        "id": "59e6add7-769c-40b6-931b-1fca0721a749"
      },
      "outputs": [],
      "source": [
        "model3 = Pipeline([\n",
        "    ('clf', OneVsRestClassifier(AdaBoostClassifier()))\n",
        "])"
      ]
    },
    {
      "cell_type": "code",
      "execution_count": 26,
      "id": "a4bdeabe-13e4-48f6-bc3c-0538b3394303",
      "metadata": {
        "colab": {
          "base_uri": "https://localhost:8080/"
        },
        "id": "a4bdeabe-13e4-48f6-bc3c-0538b3394303",
        "outputId": "7ca6d224-d2f6-4864-a231-d0f74e4484fa"
      },
      "outputs": [
        {
          "name": "stdout",
          "output_type": "stream",
          "text": [
            "Validation Accuracy: 0.4424778761061947\n",
            "Validation F1-score: 0.815347721822542\n"
          ]
        }
      ],
      "source": [
        "# Entrenar el modelo con los datos de entrenamiento y validar con los datos de validación\n",
        "model3.fit(X_train_split, y_train_split)\n",
        "\n",
        "# Realizar predicciones en el conjunto de validación\n",
        "y_val_pred = model3.predict(X_val_split)\n",
        "\n",
        "# Calcular la precisión y F1-score en el conjunto de validación\n",
        "accuracy_val = accuracy_score(y_val_split, y_val_pred)\n",
        "f1_val = f1_score(y_val_split, y_val_pred, average='micro')\n",
        "\n",
        "print(\"Validation Accuracy:\", accuracy_val)\n",
        "print(\"Validation F1-score:\", f1_val)"
      ]
    },
    {
      "cell_type": "markdown",
      "id": "55595515",
      "metadata": {
        "id": "55595515"
      },
      "source": [
        "### Búsqueda de hiperparámetros"
      ]
    },
    {
      "cell_type": "code",
      "execution_count": 27,
      "id": "152e941a",
      "metadata": {
        "id": "152e941a"
      },
      "outputs": [],
      "source": [
        "from sklearn.tree import DecisionTreeClassifier\n",
        "from sklearn.model_selection import GridSearchCV\n"
      ]
    },
    {
      "cell_type": "code",
      "execution_count": 28,
      "id": "80cc3d54",
      "metadata": {
        "colab": {
          "base_uri": "https://localhost:8080/"
        },
        "id": "80cc3d54",
        "outputId": "70a942ff-d883-4d63-bc8c-ec61dd874057"
      },
      "outputs": [
        {
          "name": "stdout",
          "output_type": "stream",
          "text": [
            "Fitting 3 folds for each of 6 candidates, totalling 18 fits\n",
            "Mejores hiperparámetros: {'clf__estimator__learning_rate': 0.01, 'clf__estimator__n_estimators': 370}\n",
            "Validation Accuracy: 0.4778761061946903\n",
            "Validation F1-score: 0.8226221079691517\n"
          ]
        }
      ],
      "source": [
        "from sklearn.pipeline import Pipeline\n",
        "from sklearn.ensemble import AdaBoostClassifier\n",
        "from sklearn.multiclass import OneVsRestClassifier\n",
        "from sklearn.model_selection import GridSearchCV\n",
        "from sklearn.datasets import make_multilabel_classification\n",
        "from sklearn.model_selection import train_test_split\n",
        "from sklearn.metrics import make_scorer, f1_score\n",
        "\n",
        "# Ejemplo de datos de clasificación multietiqueta\n",
        "X, y = make_multilabel_classification(n_samples=1000, n_features=20, n_classes=5, n_labels=2, random_state=42)\n",
        "X_train, X_test, y_train, y_test = train_test_split(X, y, test_size=0.2, random_state=42)\n",
        "\n",
        "# Definir el pipeline\n",
        "pipeline = Pipeline([\n",
        "    ('clf', OneVsRestClassifier(AdaBoostClassifier()))\n",
        "])\n",
        "\n",
        "# Definir los hiperparámetros a buscar\n",
        "param_grid = {\n",
        "    'clf__estimator__n_estimators': [370, 375, 380],\n",
        "    'clf__estimator__learning_rate': [0.01, 0.011]\n",
        "}\n",
        "\n",
        "# Definir el objeto GridSearchCV\n",
        "grid_search = GridSearchCV(\n",
        "    estimator=pipeline,\n",
        "    param_grid=param_grid,\n",
        "    scoring=make_scorer(f1_score, average='micro'),\n",
        "    cv=3,\n",
        "    verbose=1,\n",
        "    n_jobs=-1\n",
        ")\n",
        "\n",
        "# Ajustar el GridSearchCV a los datos de entrenamiento\n",
        "grid_search.fit(X_train_split, y_train_split)\n",
        "\n",
        "# Obtener los mejores hiperparámetros\n",
        "print(\"Mejores hiperparámetros:\", grid_search.best_params_)\n",
        "\n",
        "# Evaluar el mejor modelo en el conjunto de prueba\n",
        "best_model = grid_search.best_estimator_\n",
        "y_val_pred = best_model.predict(X_val_split)\n",
        "\n",
        "# Calcular la precisión y F1-score en el conjunto de validación\n",
        "accuracy_val = accuracy_score(y_val_split, y_val_pred)\n",
        "f1_val = f1_score(y_val_split, y_val_pred, average='micro')\n",
        "\n",
        "print(\"Validation Accuracy:\", accuracy_val)\n",
        "print(\"Validation F1-score:\", f1_val)\n",
        "\n"
      ]
    },
    {
      "cell_type": "markdown",
      "id": "1335b4d9",
      "metadata": {},
      "source": [
        "Mejores hiperparámetros: {'clf__estimator__learning_rate': 0.01, 'clf__estimator__n_estimators': 370}"
      ]
    },
    {
      "cell_type": "markdown",
      "id": "c2c7119e-b68d-447f-ae89-ef18c223ebf8",
      "metadata": {
        "id": "c2c7119e-b68d-447f-ae89-ef18c223ebf8"
      },
      "source": [
        "## Guardar predicciones de Test"
      ]
    },
    {
      "cell_type": "code",
      "execution_count": 29,
      "id": "942d26ad-7138-4f00-a07d-44a47b5c233c",
      "metadata": {
        "id": "942d26ad-7138-4f00-a07d-44a47b5c233c"
      },
      "outputs": [],
      "source": [
        "# Vectorizar el texto utilizando TF-IDF\n",
        "vectorizer = TfidfVectorizer(max_features=10000)\n",
        "X_test_vectorized = vectorizer.fit_transform(df_test_clean['texto'])"
      ]
    },
    {
      "cell_type": "code",
      "execution_count": 30,
      "id": "5c2315b2",
      "metadata": {},
      "outputs": [],
      "source": [
        "predictions = best_model.predict(X_test_vectorized)"
      ]
    },
    {
      "cell_type": "code",
      "execution_count": 43,
      "id": "8ddcdeba",
      "metadata": {},
      "outputs": [
        {
          "data": {
            "text/plain": [
              "(250, 10)"
            ]
          },
          "execution_count": 43,
          "metadata": {},
          "output_type": "execute_result"
        }
      ],
      "source": [
        "predictions.shape"
      ]
    },
    {
      "cell_type": "code",
      "execution_count": 44,
      "id": "3ac32c0a",
      "metadata": {},
      "outputs": [
        {
          "data": {
            "text/plain": [
              "(250, 1)"
            ]
          },
          "execution_count": 44,
          "metadata": {},
          "output_type": "execute_result"
        }
      ],
      "source": [
        "df_test_clean.shape"
      ]
    },
    {
      "cell_type": "code",
      "execution_count": 31,
      "id": "d4639585",
      "metadata": {},
      "outputs": [
        {
          "name": "stdout",
          "output_type": "stream",
          "text": [
            "   r52  r10  r59  r69  r50  r60  i10  r11  n28  d49                    archivo\n",
            "0    0    0    0    0    0    0    0    1    0    0  S0004-06142005000500011-1\n",
            "1    0    0    0    0    0    0    0    0    0    0  S0004-06142005000900014-1\n",
            "2    0    0    0    0    0    0    0    0    0    0  S0004-06142006000100010-1\n",
            "3    0    0    0    0    0    0    0    0    0    0  S0004-06142006000500012-1\n",
            "4    0    0    0    0    0    0    0    0    0    0  S0004-06142006000600014-1\n"
          ]
        }
      ],
      "source": [
        "import pandas as pd\n",
        "\n",
        "# Supongamos que ya tienes tus predicciones\n",
        "predictions = best_model.predict(X_test_vectorized)\n",
        "\n",
        "# Si las predicciones tienen múltiples columnas, asigna nombres de columna adecuados\n",
        "num_columns = predictions.shape[1]\n",
        "assert num_columns == 10, \"El número de columnas en predictions no coincide con el número de nombres de columna proporcionados\"\n",
        "\n",
        "# Nombres de las columnas, excepto 'archivo'\n",
        "column_names = top_categorias\n",
        "\n",
        "# Convierte las predicciones en un DataFrame de pandas\n",
        "df_predictions = pd.DataFrame(predictions, columns=column_names)\n",
        "\n",
        "# Añade la columna 'archivo' de df_test al DataFrame de predicciones\n",
        "df_predictions['archivo'] = df_test.index\n",
        "\n",
        "print(df_predictions.head())\n",
        "\n",
        "# Reordena las columnas para que 'archivo' sea la primera\n",
        "columnas = ['archivo'] + [col for col in df_predictions.columns if col != 'archivo']\n",
        "df_predictions = df_predictions[columnas]\n",
        "\n",
        "# Guarda el DataFrame resultante en un archivo CSV\n",
        "df_predictions.to_csv('grupo_09.csv', index=False)"
      ]
    }
  ],
  "metadata": {
    "accelerator": "GPU",
    "colab": {
      "gpuType": "T4",
      "provenance": []
    },
    "kernelspec": {
      "display_name": "Python 3",
      "name": "python3"
    },
    "language_info": {
      "codemirror_mode": {
        "name": "ipython",
        "version": 3
      },
      "file_extension": ".py",
      "mimetype": "text/x-python",
      "name": "python",
      "nbconvert_exporter": "python",
      "pygments_lexer": "ipython3",
      "version": "3.11.5"
    }
  },
  "nbformat": 4,
  "nbformat_minor": 5
}
